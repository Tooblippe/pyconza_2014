{
 "metadata": {
  "name": "",
  "signature": "sha256:bf645906ca2ec5f395b42d1293cd6d20ec35093be83fdb40731d6c75ef7257cd"
 },
 "nbformat": 3,
 "nbformat_minor": 0,
 "worksheets": [
  {
   "cells": [
    {
     "cell_type": "code",
     "collapsed": false,
     "input": [
      "# Load a custom CSS and import plotting\n",
      "# https://github.com/fperez/pycon2014-keynote\n",
      "\n",
      "%run static/talktools/talktools.py \n",
      "#makes sure inline plotting is enabled\n",
      "\n",
      "%pylab inline \n",
      "#set figure size\n",
      "figsize(20, 6) \n",
      "import this"
     ],
     "language": "python",
     "metadata": {
      "slideshow": {
       "slide_type": "skip"
      }
     },
     "outputs": [
      {
       "html": [
        "<style>\n",
        "/*\n",
        "   Simple CSS styling for using IPython Notebooks for talks.\n",
        "\n",
        "   Author: Fernando Perez <fernando.perez@berkeley.edu>\n",
        "*/\n",
        "\n",
        "/*body {background-color:#f8f5de;}*/\n",
        "\n",
        "body {\n",
        "  background: #add9e4;\n",
        "  background: -moz-radial-gradient(center, circle cover, #f7fbfc 0%, #add9e4 100%);\n",
        "  background: -webkit-gradient(radial, center center, 0px, center center, 100%, color-stop(0%, #f7fbfc), color-stop(100%, #add9e4));\n",
        "  background: -webkit-radial-gradient(center, circle cover, #f7fbfc 0%, #add9e4 100%);\n",
        "  background: -o-radial-gradient(center, circle cover, #f7fbfc 0%, #add9e4 100%);\n",
        "  background: -ms-radial-gradient(center, circle cover, #f7fbfc 0%, #add9e4 100%);\n",
        "  background: radial-gradient(center, circle cover, #f7fbfc 0%, #add9e4 100%);\n",
        "  background-color: #f7fbfc; }\n",
        ".talk-title\n",
        "{\n",
        "  color: #333333;\n",
        "  font-size: 220%;\n",
        "  font-weight:bold;\n",
        "  line-height: 1.2;\n",
        "  margin: 10px 50px 10px;\n",
        "  }\n",
        "\n",
        ".talk-subtitle\n",
        "{\n",
        "  color: #333333;\n",
        "  font-size: 150%;\n",
        "  font-weight:bold;\n",
        "  line-height: 1.2;\n",
        "  margin: 20px 50px 20px;\n",
        "  }\n",
        "\n",
        "\n",
        ".slide-header, p.slide-header\n",
        "{\n",
        "  color: #498AF3;\n",
        "  font-size: 180%;\n",
        "  font-weight:bold;\n",
        "  margin: 0px 20px 10px;\n",
        "  page-break-before: always;\n",
        "  text-align: center;\n",
        "  }\n",
        "\n",
        ".rendered_html\n",
        "{\n",
        "  color: #333333;\n",
        "  font-family: Ubuntu;\n",
        "  font-size: 180%;\n",
        "  line-height: 1.1;\n",
        "  margin: 0.5em 0;\n",
        "  }\n",
        "  \n",
        "\n",
        ".rendered_html h1\n",
        "{\n",
        "  color: #333333;\n",
        "  line-height: 1.2;\n",
        "  margin: 0.15em 0em 0.5em;\n",
        "  page-break-before: always;\n",
        "  text-align: left;\n",
        "  }\n",
        "\n",
        "\n",
        ".rendered_html h2\n",
        "{\n",
        "  color: #333333;\n",
        "  line-height: 1.2;\n",
        "  margin: 1.1em 0em 0.5em;\n",
        "  }\n",
        "\n",
        ".rendered_html h3\n",
        "{\n",
        "  font-size: 100%;\n",
        "  line-height: 1.2;\n",
        "  margin: 1.1em 0em 0.5em;\n",
        "  }\n",
        "\n",
        ".rendered_html h5\n",
        "{\n",
        "  font-size: 50%;\n",
        "  line-height: 1;\n",
        "  margin: 0.3em 0em 0.3em;\n",
        "  font-weight: bold;\n",
        "  text-align: center;\n",
        "  }\n",
        "\n",
        ".rendered_html h6\n",
        "{\n",
        "  font-size: 50%;\n",
        "  line-height: 1;\n",
        "  margin: 0.3em 0em 0.3em;\n",
        "  font-weight: normal;\n",
        "  text-align: center;\n",
        "  }\n",
        "\n",
        ".rendered_html li\n",
        "{\n",
        "  line-height: 1.8;\n",
        "  }\n",
        "\n",
        ".input_prompt, .CodeMirror-lines, .output_area\n",
        "{\n",
        "  font-family: Consolas;\n",
        "  font-size: 140%;\n",
        "  \n",
        "  }\n",
        "\n",
        ".gap-above\n",
        "{\n",
        "  padding-top: 200px;\n",
        "  }\n",
        "\n",
        ".gap01\n",
        "{\n",
        "  padding-top: 10px;\n",
        "  }\n",
        "\n",
        ".gap05\n",
        "{\n",
        "  padding-top: 50px;\n",
        "  }\n",
        "\n",
        ".gap1\n",
        "{\n",
        "  padding-top: 100px;\n",
        "  }\n",
        "\n",
        ".gap2\n",
        "{\n",
        "  padding-top: 200px;\n",
        "  }\n",
        "\n",
        ".gap3\n",
        "{\n",
        "  padding-top: 300px;\n",
        "  }\n",
        "\n",
        ".emph\n",
        "{\n",
        "  color: #386BBC;\n",
        "  }\n",
        "\n",
        ".strike\n",
        "{\n",
        "  text-decoration:line-through;\n",
        "  color: #94B8F3;\n",
        "  }\n",
        "\n",
        ".warn\n",
        "{\n",
        "  color: red;\n",
        "  }\n",
        "\n",
        ".center\n",
        "{\n",
        "  text-align: center;\n",
        "  }\n",
        "\n",
        ".nb_link\n",
        "{\n",
        "    padding-bottom: 0.5em;\n",
        "}\n",
        "\n",
        "</style>\n"
       ],
       "metadata": {},
       "output_type": "display_data",
       "text": [
        "<IPython.core.display.HTML at 0x10605d9d0>"
       ]
      },
      {
       "output_type": "stream",
       "stream": "stdout",
       "text": [
        "Populating the interactive namespace from numpy and matplotlib\n",
        "The Zen of Python, by Tim Peters\n",
        "\n",
        "Beautiful is better than ugly.\n",
        "Explicit is better than implicit.\n",
        "Simple is better than complex.\n",
        "Complex is better than complicated.\n",
        "Flat is better than nested.\n",
        "Sparse is better than dense.\n",
        "Readability counts.\n",
        "Special cases aren't special enough to break the rules.\n",
        "Although practicality beats purity.\n",
        "Errors should never pass silently.\n",
        "Unless explicitly silenced.\n",
        "In the face of ambiguity, refuse the temptation to guess.\n",
        "There should be one-- and preferably only one --obvious way to do it.\n",
        "Although that way may not be obvious at first unless you're Dutch.\n",
        "Now is better than never.\n",
        "Although never is often better than *right* now.\n",
        "If the implementation is hard to explain, it's a bad idea.\n",
        "If the implementation is easy to explain, it may be a good idea.\n",
        "Namespaces are one honking great idea -- let's do more of those!\n"
       ]
      }
     ],
     "prompt_number": 1
    },
    {
     "cell_type": "markdown",
     "metadata": {
      "slideshow": {
       "slide_type": "slide"
      }
     },
     "source": [
      "\n",
      "<center>\n",
      "## Introduction to IPython Notebook\n",
      "\n",
      "## Open Source Reproducible Computing\n",
      "\n",
      "![](static/img/eon.png)  ![](static/img/pyconza.png)\n",
      "\n",
      "\n",
      "<h3>Tobie Nortje, [www.eon.co.za](http://www.eon.co.za), [@tooblippe](http://twitter.com/tooblippe)</h3>\n",
      "\n",
      "<h3>tobie.nortje@eon.co.za</h3>\n",
      "\n",
      "\n"
     ]
    },
    {
     "cell_type": "markdown",
     "metadata": {
      "slideshow": {
       "slide_type": "slide"
      }
     },
     "source": [
      "# Contents\n",
      "\n",
      "* Background and Notebook basics\n",
      "* Plotting\n",
      "* Symbolic Mathematics and Typesetting\n",
      "* Pandas and the Pandas Dataframe\n",
      "* Quick Machine Learning example\n",
      "* Publishing Your Work\n"
     ]
    },
    {
     "cell_type": "markdown",
     "metadata": {
      "slideshow": {
       "slide_type": "slide"
      }
     },
     "source": [
      "# About Myself\n",
      "* Electrical Engineer / Hacker\n",
      "* Currently busy with M.Eng\n",
      "* Principal Consultant at [Eon Consulting](http://www.eon.co.za/index.php/our-services-main/our-services/business-analytics)\n",
      " * Management consultant focus on research, analytics\n",
      " * Clients Eskom, City Power, Ekhurhuleni, Neotel\n",
      "* Use Windows, Ubuntu GNU/Linux, Mac, IPhone and Android\n",
      "* People that I work with uses Excel (_alot_) [__big time__] \n",
      "\n",
      "* Hack with Python, mySQL, Arduino, Energy Loggers, RaspberryPi\n",
      "* You will see Python 2.7 here. Almost time to upgrade\n",
      "\n"
     ]
    },
    {
     "cell_type": "markdown",
     "metadata": {
      "slideshow": {
       "slide_type": "slide"
      }
     },
     "source": [
      "# Python is Popular\n",
      "\n",
      "\n",
      "![](static/img/python_companies2.png)\n",
      "\n",
      "\n",
      "\n"
     ]
    },
    {
     "cell_type": "markdown",
     "metadata": {
      "slideshow": {
       "slide_type": "slide"
      }
     },
     "source": [
      "## Why Python for Analytics and Visualization?\n",
      "\n",
      "   \n",
      "10 years ago, Python was considered exotic in the analytics space \u2013 at best. Languages/packages like R and Matlab dominated the scene. Today, Python has become a major force in data analytics & visualization due to a number of characteristics:\n",
      "* __Multi-purpose__: prototyping, development, production, systems admin \u2013 one for all\n",
      "* __Libraries__: there is a library for almost any task or problem you face\n",
      "* __Efficiency__: speeds up IT development tasks for analytics applications\n",
      "* __Performance__: Python has evolved from a scripting language to a 'meta' language with bridges to all high performance environments (e.g. multi-core CPUs, GPUs, clusters)\n",
      "* __Interoperability__: Python integrates with almost any other language/ technology\n",
      "* __Interactivity__: Python allows domain experts to get closer to their business and financial data pools and to do real-time analytics\n",
      "* __Collaboration__: solutions like Wakari with IPython Notebook allow the easy sharing of code, data, results, graphics, etc."
     ]
    },
    {
     "cell_type": "markdown",
     "metadata": {
      "slideshow": {
       "slide_type": "slide"
      }
     },
     "source": [
      "# The Python Science Stack\n",
      "\n",
      "* __Python__ \u2013 the Python interpreter itself\n",
      "\n",
      "* __NumPy__ \u2013 high performance, flexible array structures and operations\n",
      "\n",
      "* __SciPy__ \u2013 scientific modules and functions (regression, optimization, integration)\n",
      "\n",
      "* __pandas__ \u2013 time series and panel data analysis and I/O\n",
      "\n",
      "* __PyTables__ \u2013 hierarchical, high performance database (e.g. for out-of-memory analytics)\n",
      "* __matplotlib__ \u2013 2d and 3d visualization\n",
      "\n",
      "* __IPython__ \u2013 interactive data analytics, visualization, publishing\n",
      "\n",
      "\n",
      "![SciPy](static/img/scistack.png)"
     ]
    },
    {
     "cell_type": "markdown",
     "metadata": {
      "slideshow": {
       "slide_type": "slide"
      }
     },
     "source": [
      "## IPython Introduction ![](static/img/ipy.png)\n",
      "IPython provides a rich architecture for interactive computing with:\n",
      "* Powerful interactive shells (terminal and Qt-based)\n",
      "* Browser-based notebook support for code, text, math expressions, inline plots\n",
      "* Support for interactive data visualization and use of GUI toolkits\n",
      "* Easy to use, high performance tools for parallel computing\n",
      "\n",
      "The main reasons I have been using it includes:\n",
      "* Plotting is possible in the QT console or the Notebook\n",
      "* Magic functions makes life easier (magics gets called with a %)\n",
      "* I also use it as a replacement shell for Windows Shell or Terminal\n",
      "* Code Completion\n",
      "* GNU Readline based editing and command history (Ctrl -A, E, R - Reverse Search)"
     ]
    },
    {
     "cell_type": "markdown",
     "metadata": {
      "slideshow": {
       "slide_type": "slide"
      }
     },
     "source": [
      "## Some Helpful Commands\n",
      "* __We are now live in an IPython Notebook sessions!__\n",
      "\n",
      "__Command__     |  __Description__ | \n",
      "------------|-----------  | |\n",
      "?           |  Overview of IPython's features \n",
      "%quickref   |  Quick reference. \n",
      "help        |  Python's own help system. \n",
      "object?     |  Inspect an object \n",
      "\n",
      "\n",
      "\n",
      "![terminal](static/img/terminal.png)\n",
      "    "
     ]
    },
    {
     "cell_type": "markdown",
     "metadata": {
      "slideshow": {
       "slide_type": "slide"
      }
     },
     "source": [
      "## Notebook Basics\n",
      "The IPython Notebook is a web-based interactive computational environment where you can:\n",
      "* Combine code execution \n",
      "* Text \n",
      "* Mathematics\n",
      "* Plots and rich media into a single document\n",
      "* Used to teach classes (Berkley), talks, publish papers etc.\n",
      "dddd\n",
      "It also features:\n",
      "* Code Completion\n",
      "* Help and Docstrings\n",
      "* Markdown cells for composing documents\n",
      "* Run it locally or on any webserver with Python installed\n",
      "\n",
      "\n",
      "#### Everything you see here is standard Python and Markdown code running in a browser on top of an IPython kernel using Python 2.7                 `"
     ]
    },
    {
     "cell_type": "markdown",
     "metadata": {
      "slideshow": {
       "slide_type": "slide"
      }
     },
     "source": [
      "## Let\u2019s Get Started\n",
      "\n",
      "* Each cell is populated with Markdown or Python Code\n",
      "* This is a markdown cell (Double Click To Reveal)\n",
      "* The notebook is currently in presentation mode\n",
      "* Running a cell \n",
      " * _SHIFT+ENTER_ will run the contents of a cell and move to the next one\n",
      " * _CTRL+ENTER_ run the cell in place and don't move to the next cell\n",
      "* Help\n",
      " * _CTRL-m h_ show keyboard shortcuts\n",
      "* Save\n",
      " * At any point, even when the Kernel is busy, you can press _CTRL-S_ to save the notebook\n",
      "\n",
      "\n"
     ]
    },
    {
     "cell_type": "code",
     "collapsed": false,
     "input": [
      "# press shift-enter to run code\n",
      "\n",
      "# Create and Set Variable a to the value of 4\n",
      "a = 4\n",
      "\n",
      "# Create and Set Variable b to the value of 2\n",
      "b = 3\n",
      "\n",
      "print \"Hallo PyConZA 2014\"\n",
      "print \"a + b =\", a+b\n",
      "\n",
      "print \"Now this is weird a/b = \", a/b\n",
      "\n",
      "b = 3.0 #<---- Be Carefull\n",
      "\n",
      "print \"This is even weirder a/b = \", a/b"
     ],
     "language": "python",
     "metadata": {
      "slideshow": {
       "slide_type": "slide"
      }
     },
     "outputs": []
    },
    {
     "cell_type": "markdown",
     "metadata": {
      "slideshow": {
       "slide_type": "slide"
      }
     },
     "source": [
      "## Using the Help System\n",
      "* The `%quickref` command can be used to obtain a bit more information"
     ]
    },
    {
     "cell_type": "code",
     "collapsed": false,
     "input": [
      "#IPython -- An enhanced Interactive Python - Quick Reference Card\n",
      "%quickref  # now press shift-enter"
     ],
     "language": "python",
     "metadata": {
      "slideshow": {
       "slide_type": "slide"
      }
     },
     "outputs": []
    },
    {
     "cell_type": "markdown",
     "metadata": {
      "slideshow": {
       "slide_type": "slide"
      }
     },
     "source": [
      "## Code Completion and Introspection\n",
      "\n",
      "* The next cell defines a function with a bit of a long name \n",
      "* By using the `?` command the docstring can we viewed\n",
      "* `??` will open up the source code\n",
      "* The autocomplete function is also demonstrated"
     ]
    },
    {
     "cell_type": "code",
     "collapsed": false,
     "input": [
      "# lets degine a function with a long name.\n",
      "def long_silly_dummy_name(a, b):\n",
      "    \"\"\"\n",
      "    This is the docstring for this function \n",
      "    It takes two arguments a and b\n",
      "    It returns the sum of a+5 and b*5\n",
      "    No error checking is done!\n",
      "    \"\"\"\n",
      "    a += 5\n",
      "    b *= 5\n",
      "    return a+b\n",
      "\n",
      "\n",
      "def long_silly_dummy_name_2(a, b):\n",
      "    \"\"\"\n",
      "    This is the docstring for this function \n",
      "    It takes two arguments a and b\n",
      "    It returns the sum of a+5 and b*5\n",
      "    No error checking is done!\n",
      "    \"\"\"\n",
      "    a += 5\n",
      "    b *= 5\n",
      "    return a+b\n",
      "\n",
      "# again we press SHIFT-Enter\n",
      "# this will run the function and add it to the namespace\n",
      "\n",
      "for i in dir():\n",
      "    if \"silly\" in i: \n",
      "        print i"
     ],
     "language": "python",
     "metadata": {
      "slideshow": {
       "slide_type": "slide"
      }
     },
     "outputs": []
    },
    {
     "cell_type": "code",
     "collapsed": false,
     "input": [
      "# lets get the docstring or some help\n",
      "long_silly_dummy_name?\n",
      "\n",
      "# This will open a tab at the bottom of the web page\n",
      "# You can close it by clicking on the small cross on the right"
     ],
     "language": "python",
     "metadata": {
      "slideshow": {
       "slide_type": "slide"
      }
     },
     "outputs": []
    },
    {
     "cell_type": "code",
     "collapsed": false,
     "input": [
      "#view the source\n",
      "long_silly_dummy_name??"
     ],
     "language": "python",
     "metadata": {
      "slideshow": {
       "slide_type": "slide"
      }
     },
     "outputs": []
    },
    {
     "cell_type": "code",
     "collapsed": false,
     "input": [
      "#press tab to autocplete\n",
      "long_silly_dummy_name"
     ],
     "language": "python",
     "metadata": {
      "slideshow": {
       "slide_type": "slide"
      }
     },
     "outputs": []
    },
    {
     "cell_type": "code",
     "collapsed": false,
     "input": [
      "# press shift-enter to run\n",
      "long_silly_dummy_name(5,6)"
     ],
     "language": "python",
     "metadata": {
      "slideshow": {
       "slide_type": "slide"
      }
     },
     "outputs": []
    },
    {
     "cell_type": "markdown",
     "metadata": {
      "slideshow": {
       "slide_type": "slide"
      }
     },
     "source": [
      "## Using markdown\n",
      "* You can set the contents type of a cell in the toolbar above. \n",
      "* When Markdown is selected you can enter markdown in a cell and its contents will be rendered as HTML. \n",
      "\n",
      "1. The markdown syntax can be [found here](http://daringfireball.net/projects/markdown/)\n",
      "\n",
      "# This is heading 1\n",
      "## This is heading 2\n",
      "### This is heading 5\n",
      "\n",
      "|IPYTHON      |PyConZA|\n",
      "|------------|---  |\n",
      "|![](static/img/ipy.png)| ![](static/img/pyconza.png)|\n",
      "\n",
      "> Beautiful is better than ugly.\n",
      "    Explicit is better than implicit.\n",
      "    Simple is better than complex.\n",
      "    Complex is better than complicated."
     ]
    },
    {
     "cell_type": "markdown",
     "metadata": {
      "slideshow": {
       "slide_type": "slide"
      }
     },
     "source": [
      "## IPython and Notebook Magics\n",
      "* IPython has a set of predefined \u2018magic functions\u2019 that you can call with a command line style syntax\n",
      "* Think of them as little helper macro's/funcions\n",
      "* There are two kinds of magics, line-oriented and cell-oriented\n",
      " * ___Line magics___ are prefixed with the `%` character and work much like OS command-line calls: they get as an argument the rest of the line, where arguments are passed without parentheses or quotes. \n",
      " * ___Cell magics___ are prefixed with a double `%%`, and they are functions that get as an argument not only the rest of the line, but also the lines below it in a separate argument"
     ]
    },
    {
     "cell_type": "markdown",
     "metadata": {
      "slideshow": {
       "slide_type": "slide"
      }
     },
     "source": [
      "## timeit magic\n",
      "* The `%%timeit` magic can be used to evaluate the average time your loop or piece of code is taking to complete"
     ]
    },
    {
     "cell_type": "code",
     "collapsed": false,
     "input": [
      "%%timeit \n",
      "x = 0   # setup\n",
      "for i in xrange(100000):    #lets use range here\n",
      "    x = x + i**2\n",
      "    x = x + i**2\n",
      "    "
     ],
     "language": "python",
     "metadata": {
      "slideshow": {
       "slide_type": "slide"
      }
     },
     "outputs": []
    },
    {
     "cell_type": "code",
     "collapsed": false,
     "input": [
      "%%timeit \n",
      "x = 0   # setup\n",
      "for i in xrange(100000):   #replace range with slightly improved xrange\n",
      "    x += i**2"
     ],
     "language": "python",
     "metadata": {
      "slideshow": {
       "slide_type": "slide"
      }
     },
     "outputs": []
    },
    {
     "cell_type": "markdown",
     "metadata": {
      "slideshow": {
       "slide_type": "slide"
      }
     },
     "source": [
      "## Running Shell Commands\n",
      "* I now use IPython as my default shell scripting language\n",
      "* Example - put the contents of the current directory into a list and count the file types\n",
      "* The `!` before a command indicates that you want to run a system command."
     ]
    },
    {
     "cell_type": "code",
     "collapsed": false,
     "input": [
      "filelist = !ls                     #read the current directory into variable\n",
      "\n",
      "\n",
      "d ={}\n",
      "\n",
      "for x,i in enumerate(filelist):\n",
      "    \n",
      "    key = i[i.find(\".\")+1:len(i)]\n",
      "    \n",
      "    if d.has_key(key):\n",
      "        d[i[i.find(\".\")+1:len(i)]] += 1\n",
      "    else:\n",
      "        d[i[i.find(\".\")+1:len(i)]] = 1\n",
      "    \n",
      "\n",
      "for key in d:\n",
      "    print key, d[key]"
     ],
     "language": "python",
     "metadata": {
      "slideshow": {
       "slide_type": "slide"
      }
     },
     "outputs": []
    },
    {
     "cell_type": "markdown",
     "metadata": {
      "slideshow": {
       "slide_type": "slide"
      }
     },
     "source": [
      "## Embedding Images\n",
      "* Images can be added using Python code\n",
      "* Or by adding inline HTML\n",
      "* This slide shows inline html (double click to show)\n",
      "* The next slide will use Python syntax to add it\n",
      "\n",
      "<img src=\"static/img/pyconza.png\" alt=\"some_text\">"
     ]
    },
    {
     "cell_type": "code",
     "collapsed": false,
     "input": [
      "from IPython.display import Image\n",
      "Image('static/img/pyconza.png')"
     ],
     "language": "python",
     "metadata": {
      "slideshow": {
       "slide_type": "slide"
      }
     },
     "outputs": []
    },
    {
     "cell_type": "markdown",
     "metadata": {
      "slideshow": {
       "slide_type": "slide"
      }
     },
     "source": [
      "## Adding YouYube videos\n",
      "\n",
      "* You can also add rich media like YouTube Videos into the notebook"
     ]
    },
    {
     "cell_type": "code",
     "collapsed": false,
     "input": [
      "#you can embed the HTML or programatically add it.\n",
      "from IPython.display import YouTubeVideo\n",
      "YouTubeVideo('iwVvqwLDsJo', width=1000, height=600)"
     ],
     "language": "python",
     "metadata": {
      "slideshow": {
       "slide_type": "slide"
      }
     },
     "outputs": []
    },
    {
     "cell_type": "markdown",
     "metadata": {
      "slideshow": {
       "slide_type": "slide"
      }
     },
     "source": [
      "## Plotting with Matplotlib\n",
      "* Matplotlib is a Python 2D plotting library \n",
      "* Produces publication quality figures \n",
      "* Variety of hardcopy formats and interactive environments across platforms\n",
      "* Matplotlib can be used in \n",
      " * Python scripts, \n",
      " * The Python and IPython shell, \n",
      " * Web application servers, \n",
      " * Graphical user interface toolkits."
     ]
    },
    {
     "cell_type": "code",
     "collapsed": false,
     "input": [
      "from matplotlib.pylab import xkcd\n",
      "from numpy import *\n",
      "\n",
      "#generate some data\n",
      "n = array([0,1,2,3,4,5])\n",
      "xx = np.linspace(-0.75, 1., 100)\n",
      "x = linspace(0, 5, 10)\n",
      "y = x ** 2\n",
      "\n",
      "fig, axes = plt.subplots(1, 4, figsize=(12,3))\n",
      "\n",
      "axes[0].scatter(xx, xx + 0.25*randn(len(xx)))\n",
      "axes[0].set_title('scatter')\n",
      "axes[1].step(n, n**2, lw=2)\n",
      "axes[1].set_title('step')\n",
      "axes[2].bar(n, n**2, align=\"center\", width=0.5, alpha=0.5)\n",
      "axes[2].set_title('bar')\n",
      "axes[3].fill_between(x, x**2, x**3, color=\"green\", alpha=0.5);\n",
      "axes[3].set_title('fill')\n",
      "\n",
      "for i in range(4):\n",
      "    axes[i].set_xlabel('x')\n",
      "axes[0].set_ylabel('y')\n",
      "show()"
     ],
     "language": "python",
     "metadata": {
      "slideshow": {
       "slide_type": "slide"
      }
     },
     "outputs": []
    },
    {
     "cell_type": "markdown",
     "metadata": {
      "slideshow": {
       "slide_type": "slide"
      }
     },
     "source": [
      "## Combined plots\n",
      "* Matplotlib allows plots to be combined"
     ]
    },
    {
     "cell_type": "code",
     "collapsed": false,
     "input": [
      "#CustomPlot()\n",
      "font_size = 20\n",
      "figsize(11.5, 5) \n",
      "fig, ax = plt.subplots()\n",
      "\n",
      "ax.plot(xx, xx**2, xx, xx**3)\n",
      "ax.set_title(r\"Combined Plot $y=x^2$ vs. $y=x^3$\", fontsize = font_size)\n",
      "ax.set_xlabel(r'$x$', fontsize = font_size)\n",
      "ax.set_ylabel(r'$y$', fontsize = font_size)\n",
      "fig.tight_layout()\n",
      "# inset\n",
      "inset_ax = fig.add_axes([0.29, 0.45, 0.35, 0.35]) # X, Y, width, height\n",
      "inset_ax.plot(xx, xx**2, xx, xx**3)\n",
      "inset_ax.set_title(r'zoom $x=0$',fontsize=font_size)\n",
      "# set axis range\n",
      "inset_ax.set_xlim(-.2, .2)\n",
      "inset_ax.set_ylim(-.005, .01)\n",
      "# set axis tick locations\n",
      "inset_ax.set_yticks([0, 0.005, 0.01])\n",
      "inset_ax.set_xticks([-0.1,0,.1]);\n",
      "show()"
     ],
     "language": "python",
     "metadata": {
      "slideshow": {
       "slide_type": "slide"
      }
     },
     "outputs": []
    },
    {
     "cell_type": "markdown",
     "metadata": {
      "slideshow": {
       "slide_type": "slide"
      }
     },
     "source": [
      "## Adding text to a plot"
     ]
    },
    {
     "cell_type": "code",
     "collapsed": false,
     "input": [
      "#CustomPlot()\n",
      "figsize(22, 9) \n",
      "font_size = 20\n",
      "fig, ax = plt.subplots()\n",
      "ax.plot(xx, xx**2, xx, xx**3)\n",
      "ax.set_xlabel(r'$x$', fontsize = font_size)\n",
      "ax.set_ylabel(r'$y$', fontsize = font_size)\n",
      "ax.set_title(r\"Adding Text $y=x^2$ vs. $y=x^3$\", fontsize = font_size)\n",
      "ax.text(0.15, 0.2, r\"$y=x^2$\", fontsize=font_size, color=\"blue\")\n",
      "ax.text(0.65, 0.1, r\"$y=x^3$\", fontsize=font_size, color=\"green\");"
     ],
     "language": "python",
     "metadata": {
      "slideshow": {
       "slide_type": "slide"
      }
     },
     "outputs": []
    },
    {
     "cell_type": "markdown",
     "metadata": {
      "slideshow": {
       "slide_type": "slide"
      }
     },
     "source": [
      "## xkcd style plotting\n",
      "* [matplolib v1.3](http://matplotlib.org/xkcd/examples/showcase/xkcd.html) now includes a setting to make plots resemble xkcd styles.\n",
      "\n",
      "![](static/img/xkcd.png)"
     ]
    },
    {
     "cell_type": "code",
     "collapsed": false,
     "input": [
      "from matplotlib import pyplot as plt\n",
      "import numpy as np\n",
      "\n",
      "\n",
      "with plt.xkcd():\n",
      "    fig = plt.figure()\n",
      "    ax = fig.add_subplot(1, 1, 1)\n",
      "    ax.spines['right'].set_color('none')\n",
      "    ax.spines['top'].set_color('none')\n",
      "    plt.xticks([])\n",
      "    plt.yticks([])\n",
      "    ax.set_ylim([-30, 10])\n",
      "\n",
      "    data = np.ones(100)\n",
      "    data[70:] -= np.arange(30)\n",
      "\n",
      "    plt.annotate(\n",
      "        'THE DAY I REALIZED\\nI COULD COOK BACON\\nWHENEVER I WANTED',\n",
      "        xy=(70, 1), arrowprops=dict(arrowstyle='->'), xytext=(15, -10))\n",
      "\n",
      "    plt.plot(data)\n",
      "\n",
      "    plt.xlabel('time')\n",
      "    plt.ylabel('my overall health')\n",
      "\n",
      "    fig = plt.figure()\n",
      "    ax = fig.add_subplot(1, 1, 1)\n",
      "    ax.bar([-0.125, 1.0-0.125], [0, 100], 0.25)\n",
      "    ax.spines['right'].set_color('none')\n",
      "    ax.spines['top'].set_color('none')\n",
      "    ax.xaxis.set_ticks_position('bottom')\n",
      "    ax.set_xticks([0, 1])\n",
      "    ax.set_xlim([-0.5, 1.5])\n",
      "    ax.set_ylim([0, 110])\n",
      "    ax.set_xticklabels(['CONFIRMED BY\\nEXPERIMENT', 'REFUTED BY\\nEXPERIMENT'])\n",
      "    plt.yticks([])\n",
      "\n",
      "    plt.title(\"CLAIMS OF SUPERNATURAL POWERS\")\n",
      "\n",
      "    plt.show()"
     ],
     "language": "python",
     "metadata": {
      "slideshow": {
       "slide_type": "slide"
      }
     },
     "outputs": []
    },
    {
     "cell_type": "markdown",
     "metadata": {
      "slideshow": {
       "slide_type": "slide"
      }
     },
     "source": [
      "## Symbolic math using SymPy\n",
      "\n",
      "* SymPy is a Python library for symbolic mathematics. \n",
      "* It aims to become a full-featured computer algebra system (CAS) while keeping the code as simple as possible in order to be comprehensible and easily extensible. \n",
      "* SymPy is written entirely in Python and does not require any external libraries.\n",
      "\n",
      "![](sympy.png)\n"
     ]
    },
    {
     "cell_type": "code",
     "collapsed": false,
     "input": [
      "from sympy import *\n",
      "init_printing(use_latex=True)\n",
      "from sympy import solve\n",
      "x = Symbol('x')\n",
      "y = Symbol('y')\n",
      "series(exp(x), x, 1, 5)"
     ],
     "language": "python",
     "metadata": {
      "slideshow": {
       "slide_type": "slide"
      }
     },
     "outputs": []
    },
    {
     "cell_type": "code",
     "collapsed": false,
     "input": [
      "eq = ((x+y)**2 * (x+1))\n",
      "eq"
     ],
     "language": "python",
     "metadata": {
      "slideshow": {
       "slide_type": "slide"
      }
     },
     "outputs": []
    },
    {
     "cell_type": "code",
     "collapsed": false,
     "input": [
      "solve(eq)"
     ],
     "language": "python",
     "metadata": {
      "slideshow": {
       "slide_type": "slide"
      }
     },
     "outputs": []
    },
    {
     "cell_type": "code",
     "collapsed": false,
     "input": [
      "a = 1/x + (x*sin(x) - 1)/x\n",
      "a"
     ],
     "language": "python",
     "metadata": {
      "slideshow": {
       "slide_type": "slide"
      }
     },
     "outputs": []
    },
    {
     "cell_type": "code",
     "collapsed": false,
     "input": [
      "simplify(a)"
     ],
     "language": "python",
     "metadata": {
      "slideshow": {
       "slide_type": "slide"
      }
     },
     "outputs": []
    },
    {
     "cell_type": "code",
     "collapsed": false,
     "input": [
      "integrate(x**2 * exp(x) * cos(x), x)"
     ],
     "language": "python",
     "metadata": {
      "slideshow": {
       "slide_type": "slide"
      }
     },
     "outputs": []
    },
    {
     "cell_type": "markdown",
     "metadata": {
      "slideshow": {
       "slide_type": "slide"
      }
     },
     "source": [
      "## Data Analysis Using the Pandas Library\n",
      "![](static/img/pandas.png)\n",
      "\n",
      "* pandas is a Python package providing fast, flexible, and expressive data structures designed to make working with \u201crelational\u201d or \u201clabeled\u201d data both easy and intuitive\n",
      "\n",
      "* The two primary data structures of pandas\n",
      " * Series (1-dimensional) and \n",
      " * DataFrame (2-dimensional)\n",
      "handle the vast majority of typical use cases in finance, statistics, social science, and many areas of engineering. \n",
      "\n",
      "* For R users, DataFrame provides everything that R\u2019s data.frame provides. \n",
      "* pandas is built on top of NumPy and is intended to integrate well within a scientific computing environment with many other 3rd party libraries.\n",
      "\n"
     ]
    },
    {
     "cell_type": "code",
     "collapsed": false,
     "input": [
      "from pandas import DataFrame, read_csv\n",
      "\n",
      "Cape_Weather = DataFrame( read_csv('static/data/CapeTown_2009_Temperatures.csv' ))\n",
      "Cape_Weather.head(10)"
     ],
     "language": "python",
     "metadata": {
      "slideshow": {
       "slide_type": "slide"
      }
     },
     "outputs": []
    },
    {
     "cell_type": "code",
     "collapsed": false,
     "input": [
      "#CustomPlot()\n",
      "figsize(22, 10)\n",
      "font_size = 24\n",
      "title('Cape Town temparature(2009)',fontsize = font_size)\n",
      "xlabel('Day number',fontsize = font_size)\n",
      "ylabel(r'Temperature [$^\\circ C$] ',fontsize = font_size)\n",
      "\n",
      "Cape_Weather.high.plot()\n",
      "Cape_Weather.low.plot()\n",
      "show()"
     ],
     "language": "python",
     "metadata": {
      "slideshow": {
       "slide_type": "slide"
      }
     },
     "outputs": []
    },
    {
     "cell_type": "code",
     "collapsed": false,
     "input": [
      "#CustomPlot()\n",
      "figsize(22, 9)\n",
      "font_size = 24\n",
      "title( 'Mean solar radiation(horisontal plane)', fontsize=font_size)\n",
      "xlabel('Month Number', fontsize = font_size)\n",
      "ylabel(r'$MJ / day / m^2$',fontsize = font_size)\n",
      "Cape_Weather.radiation[0:11].plot()\n",
      "show()"
     ],
     "language": "python",
     "metadata": {
      "slideshow": {
       "slide_type": "slide"
      }
     },
     "outputs": []
    },
    {
     "cell_type": "code",
     "collapsed": false,
     "input": [
      "# lets look at a proxy for heating degree and cooling degree days\n",
      "level = 25\n",
      "print '>25 =', Cape_Weather[ Cape_Weather['high'] > level  ].count()['high']\n",
      "print '<=25 =', Cape_Weather[ Cape_Weather['high'] <= level ].count()['high']\n"
     ],
     "language": "python",
     "metadata": {
      "slideshow": {
       "slide_type": "slide"
      }
     },
     "outputs": []
    },
    {
     "cell_type": "code",
     "collapsed": false,
     "input": [
      "# Basic descriptive statistics\n",
      "print Cape_Weather.describe()"
     ],
     "language": "python",
     "metadata": {
      "slideshow": {
       "slide_type": "slide"
      }
     },
     "outputs": []
    },
    {
     "cell_type": "markdown",
     "metadata": {},
     "source": [
      "# Run a SQL query on a dataframe!\n",
      "\n",
      "* the pandasql module allows you to query the df as if it is a sqlite database"
     ]
    },
    {
     "cell_type": "code",
     "collapsed": false,
     "input": [
      "from pandasql import sqldf\n",
      "\n",
      "#helper function to extract df from the globals list\n",
      "pysqldf = lambda q: sqldf(q, globals())\n",
      "\n",
      "temp_range = pysqldf( ''' \n",
      "                         select                   \n",
      "                             count(high) Count,     \n",
      "                             (high-low) T_spread  \n",
      "                             \n",
      "                         from                         \n",
      "                            Cape_Weather  \n",
      "                            \n",
      "                         where                       \n",
      "                            high > 25 and   \n",
      "                            low < 10''' )              \n",
      "temp_range"
     ],
     "language": "python",
     "metadata": {
      "slideshow": {
       "slide_type": "slide"
      }
     },
     "outputs": []
    },
    {
     "cell_type": "code",
     "collapsed": false,
     "input": [
      "#CustomPlot()\n",
      "figsize(22, 9)\n",
      "font_size = 24\n",
      "title('Cape Town temperature distribution', fontsize=font_size)\n",
      "ylabel('Day count',fontsize = font_size)\n",
      "xlabel(r'Temperature [$^\\circ C $] ',fontsize = font_size)\n",
      "Cape_Weather['high'].hist(bins=10)\n",
      "show()"
     ],
     "language": "python",
     "metadata": {},
     "outputs": []
    },
    {
     "cell_type": "markdown",
     "metadata": {
      "slideshow": {
       "slide_type": "slide"
      }
     },
     "source": [
      "## Typesetting\n",
      "\n",
      "### LaTex\n",
      "* LaTex is rendered using the mathjax.js JavaScript library    "
     ]
    },
    {
     "cell_type": "code",
     "collapsed": false,
     "input": [
      "from IPython.display import Math\n",
      "Math(r'F(k) = \\int_{-\\infty}^{\\infty} f(x) e^{2\\pi i k} dx')"
     ],
     "language": "python",
     "metadata": {
      "slideshow": {
       "slide_type": "slide"
      }
     },
     "outputs": []
    },
    {
     "cell_type": "code",
     "collapsed": false,
     "input": [
      "from IPython.display import Latex\n",
      "Latex(r\"\"\"\\begin{eqnarray}\n",
      "\\nabla \\times \\vec{\\mathbf{B}} -\\, \\frac1c\\, \\frac{\\partial\\vec{\\mathbf{E}}}{\\partial t} & = \\frac{4\\pi}{c}\\vec{\\mathbf{j}} \\\\\n",
      "\\nabla \\cdot \\vec{\\mathbf{E}} & = 4 \\pi \\rho \\\\\n",
      "\\nabla \\times \\vec{\\mathbf{E}}\\, +\\, \\frac1c\\, \\frac{\\partial\\vec{\\mathbf{B}}}{\\partial t} & = \\vec{\\mathbf{0}} \\\\\n",
      "\\nabla \\cdot \\vec{\\mathbf{B}} & = 0 \n",
      "\\end{eqnarray}\"\"\")"
     ],
     "language": "python",
     "metadata": {
      "slideshow": {
       "slide_type": "slide"
      }
     },
     "outputs": []
    },
    {
     "cell_type": "markdown",
     "metadata": {
      "slideshow": {
       "slide_type": "slide"
      }
     },
     "source": [
      "## Saving a Gist\n",
      "* It is possible to save specific lines of code to a GitHub gist. \n",
      "* This is achieved with the `%pastebin` magic as demonstrated below. \n",
      "* This makes sharing code easy!"
     ]
    },
    {
     "cell_type": "code",
     "collapsed": false,
     "input": [
      "%pastebin \"cell one\" 0-10"
     ],
     "language": "python",
     "metadata": {
      "slideshow": {
       "slide_type": "slide"
      }
     },
     "outputs": []
    },
    {
     "cell_type": "markdown",
     "metadata": {
      "slideshow": {
       "slide_type": "slide"
      }
     },
     "source": [
      "## Connect to this kernel remotely\n",
      "* Using the _%connect_info_ magic you can obtain the connection info to connect to this workbook from another IPython console or qtconsole using :\n",
      "\n",
      " * *_ipython qtconsole --existing_*\n",
      "\n",
      "\n",
      "* Using the port, signature and key you can also connect to a remote IPython kernel via SSH"
     ]
    },
    {
     "cell_type": "code",
     "collapsed": false,
     "input": [
      "%connect_info\n",
      "\n",
      "# lets connect to this kernel using the command \"ipython qtconsole --existing\""
     ],
     "language": "python",
     "metadata": {
      "slideshow": {
       "slide_type": "slide"
      }
     },
     "outputs": []
    },
    {
     "cell_type": "markdown",
     "metadata": {
      "slideshow": {
       "slide_type": "slide"
      }
     },
     "source": [
      "# Adding Interactivity\n",
      "* IPython includes an architecture for interactive widgets \n",
      "* Ties together Python code running in the kernel and JavaScript/HTML/CSS in the browser\n",
      "* These widgets enable users to explore their code and data interactively"
     ]
    },
    {
     "cell_type": "code",
     "collapsed": false,
     "input": [
      "from IPython.html.widgets import interact\n",
      "import matplotlib.pyplot as plt\n",
      "import networkx as nx\n",
      "\n",
      "# wrap a few graph generation functions so they have the same signature\n",
      "\n",
      "def random_lobster(n, m, k, p):\n",
      "    return nx.random_lobster(n, p, p / m)\n",
      "\n",
      "def powerlaw_cluster(n, m, k, p):\n",
      "    return nx.powerlaw_cluster_graph(n, m, p)\n",
      "\n",
      "def erdos_renyi(n, m, k, p):\n",
      "    return nx.erdos_renyi_graph(n, p)\n",
      "\n",
      "def newman_watts_strogatz(n, m, k, p):\n",
      "    return nx.newman_watts_strogatz_graph(n, k, p)\n",
      "\n",
      "def plot_random_graph(n, m, k, p, generator):\n",
      "    g = generator(n, m, k, p)\n",
      "    nx.draw(g)\n",
      "    plt.show()"
     ],
     "language": "python",
     "metadata": {
      "slideshow": {
       "slide_type": "slide"
      }
     },
     "outputs": []
    },
    {
     "cell_type": "code",
     "collapsed": false,
     "input": [
      "#static\n",
      "plot_random_graph( 18, 5, 5, 0.449, newman_watts_strogatz)"
     ],
     "language": "python",
     "metadata": {
      "slideshow": {
       "slide_type": "slide"
      }
     },
     "outputs": []
    },
    {
     "cell_type": "code",
     "collapsed": false,
     "input": [
      "interact(\n",
      "        plot_random_graph, n=(2,30), m=(1,10), k=(1,10), p=(0.0, 1.0, 0.001),\n",
      "        generator={'lobster': random_lobster,\n",
      "                   'power law': powerlaw_cluster,\n",
      "                   'Newman-Watts-Strogatz': newman_watts_strogatz,\n",
      "                   u'Erd\u0151s-R\u00e9nyi': erdos_renyi,\n",
      "                   });\n"
     ],
     "language": "python",
     "metadata": {
      "slideshow": {
       "slide_type": "slide"
      }
     },
     "outputs": []
    },
    {
     "cell_type": "code",
     "collapsed": false,
     "input": [
      "from IPython.html.widgets import interact\n",
      "import matplotlib.pyplot as plt\n",
      "import numpy as np\n",
      "\n",
      "%matplotlib inline\n",
      "\n",
      "np.random.seed(0)\n",
      "x, y = np.random.normal(size=(2, 100))\n",
      "s, c = np.random.random(size=(2, 100))\n",
      "    \n",
      "def draw_scatter(size=100, cmap='jet', alpha=1.0):\n",
      "    fig, ax = plt.subplots(figsize=(20, 8))\n",
      "    points = ax.scatter(x, y, s=size*s, c=c, alpha=alpha, cmap=cmap)\n",
      "    fig.colorbar(points, ax=ax)\n",
      "    return fig\n",
      "\n",
      "colormaps = sorted(m for m in plt.cm.datad if not m.endswith(\"_r\"))"
     ],
     "language": "python",
     "metadata": {
      "slideshow": {
       "slide_type": "slide"
      }
     },
     "outputs": []
    },
    {
     "cell_type": "code",
     "collapsed": false,
     "input": [
      "interact(\n",
      "            draw_scatter, size=[0, 2000], alpha=[0.0, 1.0], cmap=colormaps\n",
      "        );"
     ],
     "language": "python",
     "metadata": {
      "slideshow": {
       "slide_type": "slide"
      }
     },
     "outputs": []
    },
    {
     "cell_type": "markdown",
     "metadata": {
      "slideshow": {
       "slide_type": "slide"
      }
     },
     "source": [
      "# Exploring Beat Frequencies using the Audio Object\n",
      "* This example uses the Audio object and Matplotlib to explore the phenomenon of beat frequencies."
     ]
    },
    {
     "cell_type": "code",
     "collapsed": false,
     "input": [
      "%matplotlib inline\n",
      "import matplotlib.pyplot as plt\n",
      "import numpy as np\n",
      "\n",
      "from IPython.html.widgets import interactive\n",
      "from IPython.display import Audio, display\n",
      "import numpy as np\n",
      "\n",
      "def beat_freq(f1=220.0, f2=224.0):\n",
      "    max_time = 3\n",
      "    rate = 8000\n",
      "    times = np.linspace(0,max_time,rate*max_time)\n",
      "    signal = np.sin(2*np.pi*f1*times) + np.sin(2*np.pi*f2*times)\n",
      "    print(f1, f2, abs(f1-f2))\n",
      "    display(Audio(data=signal, rate=rate))\n",
      "    return signal"
     ],
     "language": "python",
     "metadata": {
      "slideshow": {
       "slide_type": "slide"
      }
     },
     "outputs": [],
     "prompt_number": 2
    },
    {
     "cell_type": "code",
     "collapsed": false,
     "input": [
      "\n",
      "v = interactive(beat_freq, f1=(200.0,300.0), f2=(200.0,300.0))\n",
      "display(v)"
     ],
     "language": "python",
     "metadata": {
      "slideshow": {
       "slide_type": "slide"
      }
     },
     "outputs": [
      {
       "output_type": "stream",
       "stream": "stdout",
       "text": [
        "(242.1, 291.1, 49.00000000000003)\n"
       ]
      },
      {
       "html": [
        "\n",
        "                <audio controls=\"controls\" >\n",
        "                    <source src=\"data:audio/wav;base64,UklGRqS7AABXQVZFZm10IBAAAAABAAEAQB8AAIA+AAACABAAZGF0YYC7AAAAAJoaAzQZS9NeU27qeCR+zH3ud9VsCl1LSYEyuhkUALnmyM5PuTunT5kakPOL9Yz7kquddKyWvjHTS+nd/+AVXSpzPGFLklagXVtgxV4VWa9PIUMaNGEjyhEpAFDv+N/G0jvItMBivE67Wb09wpPJ3tKM3QLppPTe/ykKFRNMGpMf0CIHJFojBCFSHaQYYBPrDaoI8wMNACv9aPvH+jX7ifyI/ugAWwOOBTMHBAjNB2sG1AMUAFH7xvXD76fp3ePP3urai9gC2IfZOd0V4/vqqfS//8QLKRhTJJwvZTkYQTJGTUgiR5VCsTqtL+wh9RFzACvu8duiyhi7Hq5npIKe15yZn8ymOrJ7wfTT4ehb/2QW8Sz4QXtUlGOEbrd003WzcXVocFo3SI4yZhrPAO7m6s3otvSi+pK4h7iBQ4FnhuyQXqAOtBzLf+QV/6sZEzMqSuldcm0XeGZ9Kn1vd4Js6lxkSdoyVRr0ANvnKdDmuv6oL5sIktyNxI6dlAyfgK0/v2nTCOkc/6MUqihWOutI2lPBWnFd71tyVl5NPkG+Mp4irRG6AI3w2uE81S/LCcT2v/2++sCoxaPMb9WA30HqHfWI/wUJLRGxF18cJB8KIDYf5RxmGRYVVhCJCwoHJwMgAB3+Lv1P/WX+PACYAioFoAeoCfQKRQtrCksI4gRGAKf6SPSD7b/mbuAA2+PWetQS1OPVBdpz4ATpb/NN/xoMQBkbJv8xRjxVRKdJ00uVStBFkz0cMtAjQBMcATDuWNt3yW25CawBouibJZrtnECk5q90v0rSoOeK/gQW/yxtQktVsmTfb0B2dndhcx1qBFyrSdkzghu3AaDnaM4ytw+j65KDh2KB0YDchU2QrZ9Ms0vKoOMq/rUYFTImSeRccWwhd4N8YnzMdgxsq1xkSR8z5BrOAQDpktGNvNaqK50UlOaPtpBilo2gq64BwLXT1ehl/mgT8yYvOGdGD1HKV2xa/ViyU/BKQD9IMcYhgBE/AcPxueO01yrOaceZw73Cr8QpycrPF9iJ4ZPrp/VC/+0HTQ8bFS0ZdhsIHAobvRhuFXoRPg0XCVkFSwIjAP/+5v7M/4kB6QOkBmkJ5AvDDboOjQ4SDTYK/QWHAA362/JV6+njEN1A1+vSddAr0ETS09bP3QfnLPLN/l8MQxrNJ0o0DT95RwRNRE/1TftIa0CFNLQlkBTPAUbu1NpmyN63Eqq7n26Zkpdcmsuhpa15vafQX+ay/ZYV+SzIQv1VrmUXcaR39njtdKdrf10MSxg1mRyiAl3o986Vt0mj/ZJzhzKBhYB2hc+PF5+hsorJy+JA/bkXCTEOSMVbUWsJdnp7dHsDdnRrTVxKSVAzZhuiAiXqBNNDvsSsQJ8/lhCSypJImDCi9K/ewBfUsui4/TISOiUANtRDME67VE1X7lXWUGdIJz26L9ggQRG2AfHylOUu2ivR08pKx47Gd8i/zAXT1Nqn4/nsQ/YK/+IGdw2LEv0VyRcDGNgWixRrEdENFwqVBpgDXwEWANL/kAA6AqMEjAeoCqMNJhDeEYMS2xHCDywMJgfYAIT5gPE56SbhxNmS0wPPfcxPzKvOpNMp2wXl3/BA/pMMMhtnKXw2u0GDSkhQnlJBURdMOEPnNpgn5RWOAmvuZtptx2y2OqiVnROXHJXnl26fdquNuwvPHuXT/BsV3ywJQ5FWiWYscuN4UnpXdhJt4V5aTEs2qh2PAyTpl88QuJ+jMpOIhymBX4A1hXKPoJ4OstvIAOJZ/LgW8S/jRoxaEmrNdE16YXoWdblq0FsWSW4z2htwA0vrftQHwMWub6GHmFuUAJVQmvKjW7HVwY/UoOgV/QARfyPJMzVBQEuXURVUxVLeTcFF9DoULtUf8BAgAhX0bOeo3DHURs4Iy27KUcxo0FXWpd3a5XLu8Pbi/uMFqgsCENISHBT7E6ESUhBeDRwK4wYFBMgBZAD6/5QAKwKcBLEHJQukDtcRZBT5FU0WLhV6Ei0OXAg3AQz5OPAx53bejNb1zyvLk8h+yBvLetCE2P/iiu+m/bYMDBzrKpQ4T0RzTXNT4FV3VCFP90VCOXkpPhdWA6DuC9qOxha1gqaQm9mUx5KOlSqdXamvuXfN3+Pu+5MUsiwyQwdXQmccc/15iXufd19uKGCUTXA3tR59BPPpR9ChuBKkh5PBh0WBYIAZhTiPRp6TsT7IP+F2+7MVzC6kRTpZtmhwc/x4KHkEdNxpNVvISHYzPxw2BHHs/tXYwdqwtqPrmsWWVpd6nNWl37Lnwh3Vnuh+/NMPxCGMMYk+P0hfTsZQgk/LSgFDpjhWLL0ejhB8AjD1Puki3zrXwdHQzlzOO9Ak1LnZiuAg6P7vr/fJ/vIE6AmBDasPcRDzD2cOFAxJCV0GowNnAev/Wf/N/0gBtwPvBrIKsg6XEgQWnRgRGhkahBg4FTcQnQmmAaT4Au885drbaNNszGXHucS5xJTHVc3g1fXgLO7//MgM0hxYLJQ6yEZIUIJWCVmYVxlSqUiUO1crmhgnBOTuxtnIxd6z6aSrmcCSkpBUkwGbWKfgt+zLouIE+/4TcixCQ19X2mfoc/J6m3zEeI1vVWG4ToY4uh9sBcvqB9FIuaGk/pMeiIiBh4AhhSCPC54xsbPHiuCW+qkUnS1TRNBXPGfycYd3y3fOctxoelpfSGkzlhzzBJXthNe2wwGzFKZrnU2ZzZnDntengbQTxMHVrejy+6wOCCBJL9M7L0UTS2BNJkyeRydAQDaAKo8dGRDKAkH2CuuZ4UXaQtWi0ljSNdTx1y/dg+N56pzxf/jA/g4EMggJC4sMyQzrCysK0ActBZQCVwC+/v79P/6R/+wBNAU0CaUNMhJ+Fica0BwlHuMd3Bv8F0kS6woiAk743+1c41TZWdD4yLLD8MADwRjENso+0+jeyOxM/MoMgx2sLXk8JUkAU3dZGFyhWv1US0vcPTIt+BkABTbvlNkbxcKycKPpl8qQfY44kfKYaqUitmvKZ+EW+l8TICw5Q5pXUGiPdMJ7iX3GeZpwZmLHT445tiBaBqrr1dEFukullJSfiPGB1IBQhSuP7p3psDzH4d+7+Z0TYyzyQk5WpWVTcO91SnZ0cbpnoFnaR0Yz3RyoBbfuDtmfxTq1iagFoPObY5wtofipQLZZxXvWzuhz+4wNTh4CLRM5EUK1R+VJs0hYRDM9wTOTKE0ckw8JA0f3z+wO5FLdyNh91l/WPdjO27bgjubk7E3zYPnH/jkDhwaaCHIJJwnmB+4FiQMLAcX+A/0H/AP8Fv1F/38CoAZoC4gQpRVZGkEe+yA1IqwhNh/EGmQUQwytAgj4z+yQ4ePWYM2ZxRPAOb1cvafAH8ef0NrcXOuO+7wMIR7pLkM+ZUucVU5cDF+SXc1X3k0aQAcvWBviBZfvdtmGxMSxF6JIlvaOi4w8jwCXkqN1tPXIMOAk+bQSvSsZQ7hXpGgTdWt8UH6jeoZxW2O/UIU6qSFIB5DsstLXuhGmS5VDiX+CSIGjhVmP8J26sNjGRd/m+I8SICuAQbZU8mOUbjR0pHT2b3Zmp1g7Rw4zFB1TBtfvndqSx4K3E6u5oraeF5+1ozisHLi5xkvXAekB+3MMlhy4Kks25T5FRFVGKUX6QCc6KTGQJvUa+g45A0H4je5/5l/gUtxf2nDaUdy5307kqelh7w/1U/rd/nEC6gQ3BmEGigXjA7EBQv/l/O76pPlF+fz53vvp/gMD/AeMDVwTCBknHk8iHSU+JnElkCKQHYYWpw1GA9P30+va34jUfspRwom8lrnGuUS9EcQFzsza6+nF+p4Mqh4OMPM/iU0ZWAhf5GFpYIZaX1BMQtcwuBzKBgXwbNkLxOOw36DKlEWNu4pgjSqV06HbsorH/t4w+AASSCvhQrhX12hyde988n5ce1FyMmSgUWw7kyI0CHztnNO+u/GmIZYLijOD4YEchqmPEp6msInGt94W+IAR1Cn+PwhTJWK3bFdy23JVbhBljleBRr8yOh30BvLwLtyOydq5sa2FpZSh6aFdppauFLoyyDLYRumb+mML4BprKHszrjvGQLNCiUGFPQM3ey51JIkZTw5ZAy/5QvDs6Gvj3t9H3oreceCz4/Xn1uzv8eH2VfsE/7kBWQPeA1oD9AHn/3j9+fq8+BH3PvZ69un3mfp//nYDRgmeDx8WXBzmIVAmNCk/KjIp6SVeIK0YEw/sA6/36eo53kXSs8cgvxa5B7ZBtu65DcFwy73Ydejy+XEMHx8bMYdBkE94WqRhn2QmYyldzlJxRKAyGB65B3/wdNmowx6wx59vk7eLDomli3KTLaBUsS3G0t0690IRwiqSQpxX6WisdU19bn/xe/py7WRoUkE8cyMdCW3uk9S4vOunFpf1igyEoYK7hh2QU56tsE7GN95O93EQgShuPkZRPmC7allw8HCRbIhjVlarRVkyTx2KBwrywd2Ty0C8Y7BoqI2k2KQhqRKxKbzGyTDZnulE+lsKLhkdJqUwazg5Pf4+1j37OckztStFIgkYkg1rAxH67vFT63TmbOMz4qvim+S456rrEfCO9MX4afw7/xAB1gGSAV0AZ/7v+0H5sfaR9DDz0PKl88r1RvkF/tkDgAqfEdAYnh+VJUMqQC04Lu0sPyktI9oaihCfBJv3E+qu3BnQAcUHvLu1jrLQsqm2Fb7hyLDW++YV+TUMgB8QMgFDeVG4XCFkPGfIZbRfKVWIRmI0dx+uCAbxkNldw3ev0J43kk6KhIcLitiRoZ7hr9zErNxC9nwQLSotQmRX2mjDdYV9w39hfIFziWUYUwM9SCQCCmLvltXFvf6oKZgCjAqFh4N+h7WQtJ7PsCrGxt2O9mIPJyfQPG9PPV6haDpu4m6qat9hAFW6RN0xUx0VCBzzVt+fzbK+JrNiq5+n4qcDrKqzWb5zy0PaCOr7+V0JgRfOI8stIDWeOTo7DzpbNnkw2igAIHUWwwxsA+b6kPOz7Xvp+eYj5tPmzujJ62zvW/M797n6jP2B/3YAYgBU/2z94/r+9w/1a/Jl8EzvXu/I8KDz5vd8/SsEpwuOE24bzyIzKSYuPjEmMqEwkiz9JQwdCBJeBZf3UOk42wXOaMIIuXiyLK9zr3SzKbtaxqXUfeUv+OoLzh/tMl5EQ1PZXn1mu2lMaCVicVeQSBo21CCnCZnxvdkqw+2u+Z0ikQmJH4aUiF2QL52CrpvDjdtK9a0PiSmxQRBXq2i2dZd983+rfOVzB2avU7M9ESXkClrwo9bkvimqWpkwjSyGkoRniG+RNZ8MsRvGZN3W9VQOxyUmO4ZNJFxrZvxrsmyhaBRgilOtQ0kxRR2TCCj06+CxzzHB+7VxrsqqCKsBr162pMA5zW3bhOrA+WkI2RWAIewqzDH3NWU3NjaoMhQt6iWmHc0U4QteA677KPUL8H3shuoU6v/qCO3j7znzsvb3+bv8wP7Y/+z//f4i/Yf6afcW9OPwKe477Gbr5uvj7W3xevbl/G0EvQxqFfod7CW/LPkxLjUINkw04C/NKEEfjxMqBqP3oejZ2QnM6b8ktk+v4qsrrFGwSrjcw57S/eNA95ELCCCyM6BF71TZYLpoGWy0an1kolmISso3LiKlCjfy/NkPw3+uRJ0wkOmH3oRAhwKP2Js6rWjCdtpT9NgO1ighQaBWW2iFdYN9+3/QfCd0ZWYsVFA+zSXAC1bxu9cUwGyrqJqAjnKHw4V1iU2S159lsSLGE90o9UkNYiRwOYtL81kZZJ9pYmp3Zile9lGFQp8wJR0FCS31f+LJ0bvD37iUsQyuR64Zsi25CsMYz63cFOuV+YAHOBQ0HwoocS5FMoMzTTLjLpwp5SI4GxIT7go/A2j8tPZc8nrvEO4G7i7vSPEF9BH3FvrB/M3+AQA9AHH/p/3/+q73+/M48L/s7OkT6IDnbOj56jHvAvU//J8EwQ0yF3Eg9ig4MLo1DjndOe03KDOaK3khHBUAB7/3BeiR2CfKhL1as0Gssaj6qEKte7VnwZrQe+JK9isLMCBgNMZGfVa5YtVqV279bLpmvltwTG45hSOmC+DyTNoLwy6ur5xij+6GwoMPhseNnpoIrEbBaNld8/wNFSh7QBZW7GcwdUp93X/PfEV0pGaPVNg+fCaWDFPy3NhVwcWsEpzwj9yIGIenik6TmKDbsUDG0tyD9EAM+SKvN35JrFesYSNn8mcsZB5cRFBBQd0v8xxqCSv2EeTl007G0rvLtGSxnrFMtRe8icUP0QPetut4+aEGnRLqHCYlESuKLpUvVS4MKxAmzR+3GEQR6QkQAxP9Nfij9HDylvH38WDzjfUv+PP6hP2Y/+wAUwGzAAb/YPzr+OT0mvBl7KToteXv45vj7+QJ6Ozsf/OM+8AEsw7nGNQi6iudM2g53TykPYM7aDZkLrIjsBbiB+r3fOdf113IO7ussE6pmqXhpUaqu7L9vpzO+OBN9bcKRCD1NNBH61d3ZM5sdXAnb9towl1GTgc71iSpDJLzrdoew/mtOpy4jhiGy4ICha6MgJnuqjTAY9hp8hoNRyfCP3JVXWe4dOt8mX+ofD90xGbWVEs/HSdmDVHzBdqlwjWumJ2AkWiKkoj+i3OUeqFssnXGotzp8zsLjSHkNWJHUFUlX4tkYmXBYfNZc07iPwMvrRzBCSH3ouUE1urI074SuNK0DrWYuBu/Isge02/fbOxs+c8FChGjGkIirCfHKpsrTyolJ3QioxwiFmQP0wjSArH9qfng9l/1GPXm9ZL31Ple/Nz+/AB5AhkDtAI4Aaz+Kvvn9inyRu2d6JPkh+HQ37jfceEV5aDq8vHL+tEEkg+IGiIlyS7sNgI9mkBbQQ0/oDkrMeslSRjOCCT4B+dE1q7GDbkbrnemnqLhomCnDLCgvKTMdd9J9DcKRyBzNb5IOVkUZqVucHIxceBqrl8JUJQ8IyavDU30HttIw+Gt5psxjmiF+oEZhLaLgJjrqTS/add48TQMbSb1PrRUsGYedGZ8Ln9cfBZ0w2YDVak/rycvDk/0N9sExLqvOZ8vkxeML4p5jbqVfKIas8LGg9xb8zoKHiAQNDdF4FKGXNZhtGI3X6lXhUxpPhMuVRwKCg/4L+cl2I3L38Fru1O4lLj8uzjC1MpF1fDgNO1v+QkFfw9iGF8fQyT8JpcnPCYvI8ceZxl8E3ENqweDAj/+EfsS+UX4k/jR+cP7Hv6RAMsCfgRnBVMFIwTMAWH+BPrz9H7vAerk5I3gYd2429nb9N0e4k7oW/D++dIEXxAVHFonkjElOodAQ0QBRYpCzzzsMyUo5xnECWz4pOZA1RjF+7anq76jv5/6n5GkcK1PurLK891A86sJNyDZNZBJaFqQZ1lwSXQbc8dsgWG4URM+aSe1DhD1ntuHw+Ots5vOjd2ET4FWg+CKnpcBqUa+e9aK8EkLhyUVPtxT5GVhc7x7nX7qe8lzomYTVfA/MijvDkz1b9xxxVSx86D8lOeN8IsYjyOXnqPksybHd9zY8j8Jrh40Mv1CXFDOWQZf6F+OXEFVekrUPAot6RtFCvP4uOhI2jfO+MTSvui7L7x3v2zFnc2D14fiD+6C+U8E/Q0lFn0c2SAtI4ojHiIsHwobGxbFEG4LcgYjAr/+a/w5+yL7B/y4/fL/ZwLHBMAGBwheCJkHnwVwAib+7vgQ8+PszOY54ZXcR9mo1//Xedom3/bluu4j+cMEGRGMHXwpRDRHPfVD2EeVSPdF8z+nNl0qiRvDCsP4VeZT1J3DBrVRqSOh/Jwundmh56oMuMnIctwy8hQJFiApNkZKeFvpaOpx/nXjdI9uOWNTU4U/qCi7D9v1LdzcwwKun5uOjXiEyoC3gi2K2pYxqGy9mNWi71wKliQkPe1S+mSCcu565n1Se1hzYGYIVSJApSimD0j2rd3rxgGzxqLnltiP1I3akK+Y4aTLtKLHftxh8koIPh1RMLdAxU0AVxxcAF3HWbtSUUglO+oraRtwCs35Pepr3OfQGshIwo2/3r8Iw7fIfdDX2TPk/e6l+aMDhgzvE50Zbh1ZH3Yf9h0cG0AXvxL9DVkJKQW0AS//t/1T/fT9c/+YARwEsAb/CLkKlwtfC+oJKAcjA/v96vc+8VrqqOOd3arYONWh0yvUANcs3JrjEu09+KUEwRHvHoYr3TZQQExHVksVTFRJCkNaOZMsLh3KCyf5GOZ90zzCLbMZp6eeWJp/mjqfcqjYtenG9dog8XII4x9hNuBKaFwfaldzkHeJdjlw12TYVOdA3inBEK32y9xFxDuuq5tyjTiEbIA+gpyJNpZ6p6W8w9S+7mwJmyMhPOVR82OBcft5CX2UesNy/WXgVDxACClUEEL38N5xyMC0sqTvmOmR2o+/kl2aQ6bOtTfIl9z48VsHzRtpLmU+HkscVBhZ/FnjVhdQDUZbObMq1hqMCpz6u+uO3pvTRMvKxUPDoMOuxhnMdNNB3PPl/+/Z+QQDGAvAEcIWAxqDG10bxRkCF2gTVQ8mCzUHzwM0AY//9P5g/7oA1QJxBUMI9go3DbUOLA9nDkUMvgjjA+D99vZ+7+LnluAT2s/UNtGlz1/QjNMz2TnhYetL93gEVhI8IHotXjlBQ4pKvk6BT6BMFUYFPMUu1R7ZDJn57eW+0vXAc7EBpUqc0pfsl7ScEqa0sxTFetkK8MYHoB+DNl9LOF0za590/ngMeMJxWWZHVjlCDCvGEYX3dd3ExI6u15t5jR6ENIDqgS+JsZXfpvO7+9Ph7XoIlyIOO8dQ0GJgcOR4B3yxeQpyeWWbVD9AWSn4EDn4N+ACypG2taYTmxqUAZLGlC2cxafutuPIw9yb8XQGXhp7LAc8ZkgkUf1V3VbiU1dNrUN4N2UpLxqZCmD7NO2v4FHWd85YyQjHdMdnyo/PgNbA3sjnEvEd+nQCtgmZD+sTmRaqFz8XjRXeEoUP3QtACAEFZQKkAOH/IgBfAXQDLQZCCWMMOQ9uEbMSxhJ2EaoOYAqyBNb9FPbR7X7ll92a1gTRQ821y5vMHdA71tfequlN9jsE2BJ0IVUvxjsXRq9NDVLXUtpPEUmmPvMwfSDwDRf61OUV0sm/1q8Iow6abZV3lUmayaOisUnDBdjy7hEHTR+PNsJL6F0lbMR1SHpseStzv2efV3pDMCzIEmL4Ld5VxfuuIpykjSmEIoC8geaITJVepla7QdMK7YgHiyHrOZNPkGEeb6p34HqoeC1x1GQ5VCpAmSmRESz5guGey3O4zqhRnWmWSZTvlh6eZqkquKnJA91N8ZUF8RiJKqE5oEUYTspSpVPHUHtKMkF7Nf8ndRmVChn8pe7O4grZsNHxzNvKWcs0zhnTodlT4bDpOPJy+vEBYAh6DRoRMxPSEx0TTxGxDpgLWghNBb4C7AAFACEAQQFQAyIGeQkJDXsQdhOiFbEWYxaMFBgRDgyPBdv9RPU37C3jq9o100vNYMnSx+LItMxG03Lc7OdG9fADSBOWIhkxFD7USLlQQ1UWVv9S/Us8QRwzJiIMD6L6zeWD0bm+Vq4vofOXJ5Mgk/qXl6Ghr4rBlNbZ7VIG6x6FNgpMeV7zbMR2bHuoenN0CGnfWKpESi3GE0T58N76xYKvi5zwjVqEN4C1gcGICJX6pc+6l9I87JUGdyC5OElONmC8bU12k3l7dyxwDWS6U/0/xikeEhr6z+JDzWS6/aqqn9WYsZY5mS+gJ6uDuYbKV90O8b4EhheUKDE3y0L6SoFPVFCRTYRHnD5lM4MmphiCCsX8DvDp5MTb7tSS0LrOTM8R0rbW1dz746zrcfPY+n4BFQdmC1AO0A/6D/oODQ1+CqEHywRMAm0AZf9X/1IAUQIyBcEIuAzFEIsUrRfSGa0aARqlF40TxQ15BvD9hfSv6vDg09fjz6XJj8X+wzTFU8lV0A3aKeY09JcDphOiI8QyR0B0S6hTX1g9WRBW2E7HQz41ziMuEDj71+UI0cO99qx3n/mVA5HpkMeVfp+zrdi/KtW+7IwFeh5lNjZM6l6fbZ93a3zAe5l1M2oHWsdFVy7BFCr6v9+yxiKwE51gjrCEcoDTgcCI5ZSxpV+6/NF166QFXR95N+pMwV48bM10I3gpdghvJmMdU7c/4SmfEgP7HeTwzmW8QK0col+bOZmjm2GiBq34un3Lv93e8PEDIBadJro06j/LRyRM60xCSnRE7Ds2MfAkwxddCmX9b/EA537eMNg71KTSTtP/1WXaHOC15rrtu/RO+xkB2AVbCY4LcwwlDNcKxwhFBqIDMgFB/w/+zv2Z/nQAUAMEB1EL6g91FJAY3Bv9HaceoB3DGgkWhw9wBxT+2PM86cjeEdWnzBTGz8E5wJPB+8VozajXYuQZ8zAD8hOZJFY0YEL5TXtWYFtLXAtZolFERlk3dSVVEdn78+Wj0Oe8s6vfnSGUAY/TjrKTfZ3aqzS+x9Ok678E+h0xNklMPF8nblV4RX2zfJ12P2sVW9FGWS+4FRL7mOB7x9qwuJ3xjiuF04AYguSI45SFpQW6cdG46rQEPB4sNnhLMl2daixzj3aydMBtHWJjUlk/6CkTE+b7beWl0HO+l6+mpASe3pstnrOkBK+JvIzMPN698C4DvRSlJDwy/TyLRLNIbEnbRkpBJDnvLkcjzRYoCvf9x/IS6TbhdNvq15jWW9f72STedeOC6dvvF/bV+8MAqARcB9QIGwlUCLQGgAQIAp7/kf0q/KT7KfzL/YYAQATGCNINDRMXGIocASAhIp0iPiHjHYsYUhFzCEf+PfPc57XcZNKAyZfCI76GvAG+rsKBykTVl+L28bwCLBR6Jc81XURhUDFZRV4/X+9bWVS0SGw5GSeAEoX8HuZT0Ce8kKppnGySIY3djLqRl5sVqp+8a9KK6uoDbB3oNUFMbl+NbuZ4+H2CfX53LWwJXMdHTjCoFv37fOFVyKmxe56kj8qFW4GCgiyJApV2pcO5+NAF6scDFh3TNPJJi1vgaGlx13QXc1Vs82CLUeE+3Cl5E8P8vOZg0o7AALJHp8SgoZ7VoCOnH7E2vrPNzd6r8HYCYBOsIrgvBjo9QS9F2EVdQwg+QzaRLIchwxXiCXz+FfQd6+3ju96f25TaddsF3vPh3uZg7A3yhPds/H0AhQNpBSQGywWHBJQCOQDJ/ZP75/kJ+S75d/rv/IgAHwV4CkIQIRarG3cgHCQ9Jo4m2iQEIRIbJhODCYr+tPKQ5rjaz89xxjG/jLrluH26bL+ix+PSyuDL8DoCVRREJi83PkarUshbDGEXYrpe+1YUS3U7uyivEzr9WuYa0IG7iqkUm9mQZIsJi+KPzJlnqBm7GdFy6RED0hyMNR9Mgl/QblF5hn4qfjx4+mziXKhINTGTF+n8aOI/yZCyWp94kI6GCYITg5iJQ5WFpZm5kNBc6dwC7BtuM1tIzFkHZ4Zv/XJZccdqqV+WUFE+vCnSE5f9C+gh1LTCerT/qZ6jgaGco7KpWLP+v/POct+q8MkBCRK0IDEtBjfiPZtBMELJP686SjMbKrIfpRSLCfP+WPUi7aDmAeJX35femN8b4tDlV+pO71H0A/kU/UYAcQKCA38DhALBAHj+9PuI+YX3N/bf9az2t/gE/HoA7QUYDKESIxkwH1YkKihPKnkqcigmJJ0dARWdCtv+PfJY5dHYUc15w+G7C7dYtQq3N7zLxIXQ+t6Y76wBaxT6JnU4A0jXVEJetmPUZG1hiVllTXM9WCrgFPn9pub2z/a6pKjhmWqPyolXiSqOHZjPpqS50c9d6DICKxwcNeNLd1/xbph57X6tftZ4qG2gXXRJDTJ2GNb9XOM6yoyzVaBskXaH3ILKgymKppWxpYe5OtC/6PYBvxr/MbJG9VcSZYRtAXF4bxZpPV6DT6Y9iCkcFGT+WOnn1eXEBLfLrJGmfKSApl6srrXiwUzQLeC68CgBuRC+HqUq/jN6Ovc9dj4gPD83OzCQJ8gddBMjCVz/kPYf70/pR+US45/iw+M85rnp3+1M8qT2kfrM/R8AawGpAeUAR/8D/WH6sfdG9XPzgvKu8iD07PYL+1wAqwanDe8UFRyjIiUoLCxXLlsuBixHJyog4xbCCzv/1/E15AHX6sqawKu4obPgsamzELn9wSvOKt1f7hIBcRSZJ6I5q0nlVpxgQGZzZwVkAFykT2c/8CsSFsD+AOfnz4a63KfQmB+OVYjJh5GMipZOpUG4k85K504BeBuZNI9LTl/vbrp5Ln8Kf0x5NW5CXipK1jJRGcL+WORCy560bKGBkoGI1YOmhN+KK5b8pY65988u6BUBjxmGMPlECVYBY2Jr4251bUNnsVxSTuI8PylXFCf/ouqw1yDHnrmrr5upkqeAqSevIbjgw73R/ODa8JMAcA/KHBgo7jAHN0Q6qTpjOLszFi3uJMkbMBKqCLb/vPcU8fnri+jP5qzm9edn6q/tdPFZ9Qj5MPyU/gcAdQDe/1n+FPxN+VD2cfMG8WHvye5274vxFfUE+i8AVwcjDykX8x4FJuQrHjBSMjQylS9lKroiyxjyDKn/g/En40jVncjUvY21T7B+rluw+LU6v9fLWdsh7W0AZhQjKLU6N0vUWNZiq2j0aYJmYF7QUU5Bgy1FF47/aeftzy+6M6fhl/eMBIdehhuLFJXmo/C2YM085mgAuhoFNCJLB1/LbrZ5SX9Bf555oG7HXslKjjMjGq3/WuVZzMW1naK1k6+J8oSohbqL0pZkpq+5yM+p5zkAXhgFLzFDB1TXYCNppWxPa09lBVsETQU84SiDFOH/6et92WTJRryesryswaqbrA2yr7r4xUXT4OEL8QoALw7aGokl2S2LM4M2zDaTNCIw3Ck4IrYZ2BAgCAAA3Pj/8pzuzOuL6rzqLuya7q/xFfV0+Hr73/1s/wAAjv8h/tn77Pig9UbyN+/J7E/rDes57O7uM/Pw+PT/8weOEFEZvyFUKZEvATRANgI2HDOBLUsluBorDiMAQPEt4qbTacYpu4qyFq0zqyGt8bKDvIrJidnd677/SxSYKK87pUykWu9k9mpWbOJop2DqUydDDi95GGMA3+cH0PK5qaYUl/SL2IUXhcaJvZOXorK1Oswz5X//8xlfM51Kol6Fbo55PX9Sf8t56m4vX1FLNzTsGpUAY+Z9zQC36KMIlf+KNIbPhriMnJfrpum5rM8x52T/LBd7LVpB8FGTXsZmR2oJaTljOVmYSw07bSifFJAALO1L26/L+r6itfOvCa7Rrw21WL0ryOXU2eJO8ZD/9wzuGPoiwCoGMLcy4TKyMHYsjyZuH44Xbg+EBzwA7/ng9DjxCO9G7s7uavDT8rj1wvic+/r9nP9TAAgAt/5z/Gf50fX/8UbuA+uQ6D7nUOf36ErsR/HP96j/fQjmEWUbdiSQLCwz0zcfOsU5mjaYMNsnqhxsD6wADvFI4RzSTsSYuKKv96kBqP2p+q/YuUTHu9eV6gT/IBT3KI88901TXOhmIG2ZbiZr1mLvVfJEkjCsGT8BY+g10M+5PaZplhWL0oT0g5OIhZJioYi0Icsv5JT+IRmoMgFKIF4dbkF5C388f9N5E296X8FLzTSrG3wBcOeuzk+4TaV5lnKMm4cbiNuNh5iRpz26pc/I5pb++RXrK3Y/x083XE1kymeiZgNhTVcPSvw55SeqFDUBae4Z3QHOu8G3uD6zaLEgsyi4G8B2yp3W5uOi8SP/yAsHF2wgoyd6LOAu6C7BLLkoLiOQHFQV8g3YBmkA9vq29szzP/L+8eDyqvQT98n5ePzP/ocAZwFKAR8A7/3U+gT3xPJp7lDq2OZc5C/jk+Oy5Z/pUe+i9k7/9ggqE2UdGSe2L7M2kjvuPXo9EDqpM2sqnx62EEIB7vB44KrQTsIjttWs9KbopO+mF608twbF8NVK6UD+5RNBKVU9Kk/jXb5oJ2+7cExt6mTfV65GDTLcGiEC9Oh20MW576XflVuK8YP3goOHbJFIoHOzFsoy46f9RxjhMU5Jgl2Vbc94s34Af7d5GW+nXxhMUjVeHF8Cgejqz6+5yqYImAWOJYmMiSKPlJlVqKu6ss9t5s/9yBRUKoU9i03DWblhLmUbZK1eQ1VqSNI4RyelFM4Boe/o3lnQhsTcu5y23bSHtly7+MLazGzYCeUH8sP+pAomFeAdhCTnKP8q4irCKOskux+fGQcTYwwaBoYA7vuB+Ff2cPWy9fD26/hW++D9NgAMAiEDQQNQAkcAN/1F+bD0xu/h6mXmteIw4CXf1t9q4u/mU+1p9eX+XglcFFAfpinHMiQ6Pj+rQSFBej20NvgslyAIEuMB3vC831DPaMDKsyaqDKTpofijR6qutNLCKdT853P9nBN3KQE+QFBSX3NqDXG7clNv42a5WVpIfjMLHAcDkOnK0NS5v6V4lcWJNYMegpeGc5BJn3OyGsk84rv8ZRcLMYVIyFzsbDp4NX6efnV5/W62X1ZMxDUGHT4Dlukw0SG7XqizmbmP0oohi42Qw5o5qTO71M8h5hD9mBO5KIk7Pks5VwtfdmJ1YTdcGlOnRo03kyaOFFwC0/C24LXSWscOvwy6Z7gFuqm+7sVXz1LaQOZ/8nL+iglME1cbZCFQJRcn0Sa0JA0hOBydFqkQwwpMBZMA2Pw/+tj4mfhi+f76LP2c//wB/QNUBcYFKAVlA34Aj/zH923y1+xn54fint4L3CHbHNwi3zrkTusl9G3+tQl6FSYhHSzBNYA91EJWRblE2EC2OYIvkCJgE5EC3/AW3w7Onr6OsZSnQqEFnxuhjacxsqnAZtKs5p78RBOZKZQ+OVGgYAVsz3KadDpxwWh8W/RJ5TQ2HfIDOOow0fy5raUzlVSJoIJsgc6Fmo9lnoqxLchP4c/7exYmMKdH8lsibIF3kX0Vfg55vm6mX3tMIjaiHRgEreqA0qS8Cqp6m42RoYzZjBuSFJw7qte7DNDk5Vv8axIZJ4I54UiaVENcoV+yXqNZ0lDJRC82ySVnFN0C/fGC4hTVN8pNwo29BbyavQ3C+8jr0U7ci+cI8zD+fAh6EdEYRB62ISgjtyKbICEdpRiKEzkOEQlsBJEAtP3x+077ufsL/Qn/awHiAxwGygelCHcIHAeIBMUA+Pta9jrw+On947jek9rx1yPXZtja24PhQenX8uj9+wmFFucifS6kOMRAVUbsSD9IKUSwPAcyiiS+FEkD8PCE3uXM7rxwryCllp4+nFee6KTFr4y+qNBb5cL73hKmKQ4/FFLOYXVtbnRWdgFzgmonXX1LQDZdHt8E6+qn0Tu6uKUQlQeJMILfgCqF446fnbewUcdr4OT6jBUzL7NGAls5a6R2yHxmfYF4XW53X4ZMbTYwHuwExuva0za+y6tdnYCTko60jsyTh51bq5S8WdC45bD7QBF2JXI3dEbnUWNZsVzRW/BWbU7OQrg06SQtFFIDIPNM5HbXHM2YxR3Btb9DwYfFIMyW1F/e6uij8/39eQewD1AWJhsaHjMflB53HCgZAxVoELgLTwd9A38Agf6W/bn90P6rAA0DqAUqCD8KnAv9CzELHAm5BRsBcvv+9BnuK+ek4Pfaldbh0y7TtdSU2MjeLud+8VX9MAp8F5EkxTBvO/BDv0luTLNLa0efP4c0hCYiFg0EEPEG3tTLW7tvrcuiCJyVma6bWqJrrXu88c4L5N76ahKgKW8/0VLaYsFu6nXvd6d0JWy6XvJMkDd/H9AFp+sw0pK64aUOld+I54F5gKqETY72nPyvhsaQ3/v5lhQzLqxF91kxaqV12nuSfNB32G0pX3dMozaxHroF3+w71di/oa1Zn5KVpZCykKCVGp+arG29vdCb5Q/7GhDRI1k1+kMhT2tWp1nTWCFU7Eu4QCgz9CPiE7kDOvQS5tnZBtDtyLvEd8MBxRfJW89X14fgXupQ9Nn9gwbvDdUTCRh8GjobahpJGCQVVBE2DSgJfQV8Al0AP/8s/xYA2wFEBAwH4QlvDGMOcQ9bD/QNJwv3BoEB/Pqz8wrscORb3UfXptLez0LPCtFQ1Q3cFuUd8LX8VApfGCUm9jIhPgNHEU3aTxNPnUqDQgE3fSiKF9oEQfGd3dzK47mMq5agmpkJlyCZ5J8kq3i6Qs274vX56hGHKbc/cVPFY+lvQHdkeSt2qm0yYFRO0jibIMEGbezJ0gC7JqYtlduIw4E5gFCE2o1qnFmvzMXA3hX5nBMnLZJE01gKaYR0x3qXe/p2MW27Xk1MxTYkH4AG+e2k1ofBi69vocCX15LSkpaXz6D4rWG+N9GQ5Xj6+Q4rIjkzckFITF5Tg1a7VTVRTkmHPn4x6SKEExIESvXT5zzc9dJMzGfIScfQyLvMqtIt2sLi5OsO9cT9mQU4DGER8RTfFj8XOxYTFBURmA33CYkGmwNsASsA7v+zAGYC2wTTBwMLFQ6yEIcSShO/Er8QPQ1CCPUBlvp78g7qx+Em2qnTx87oy2HLZ80Q0lHZ+eKy7gj8aAouGaMnDjW5QP1JSlAuU19Svk1bRXM5dCr1GLEFgPFI3fzJiLjJqYCeTJedlK+WiJ3yqIO4m8ts4Qb5XRFbKeY/81OPZO9wc3i1eo13D2+RYaFPBjqwIbQHO+1y04W7h6ZtlfyIxoEfgBqEiY39m8+uJcX73TP4nhIPLGVDl1fFZ0Bzj3l4ev51Z2wuXghM0TaHHz8HEu8S2EPDibGdowyaKpUUla2ZpKJ0r2+/x9GX5e753Q2EIBMx3j5fSTtQSFOIUi5OlEY7PLwvxyEUE10EUfaQ6Z/e6dWyzx7MKsuxzHLQDtYY3RPlfu3e9b/9vQSMCvUO3RFDE0ITCBLWD/0M0QmrBtsDqQFNAOr/jAAsAqkEzwdXC/EOQhLxFKoWIxcmFpETXA+ZCXgCQfpV8SXoM98E1x3Q+MoCyIzHzMnVzpfW2eBA7U/7bArpGQopDTc2Q9xMaFNqVpVVzVAkSNw7aCxkGpEGzfEH3TXJSbckqIycIJVRklyURZvVpp62/ckg4BP4xRAdKf0/WFQ4ZdBxgHnie8x4VnDUYtlQKzu+IqcIEe4q1B+8BKfNlUGJ74EsgAqEWo2um1+ukcRD3Vb3nRHtKiZCQlZkZtxxNHgzed50eWuBXadLxzbbH/QHKfCG2QzFmLPipXKcm5d1l+abmqQOsZnAbtKv5XD5yAzdHucuQDxmRgVN9U87TwxLwEPVOeItkSCSEpkETvdG6wHh39gf09/PGM+i0DvUhtkW4HbnK+/A9sr97wPrCJEMzg6rD0UP0g2UC90IAQZTAyABq/8f/5n/GwGWA90GtQrPDtQSZxYqGcka/RqRGWkWhBH8CgkD/flB8FDms9z206XMPccsxMXDPMahy97Ttt7G64r6YAqRGlkq8jiZRZ9PbFaMWbVYyVPfSjw+WC7UG3kHKfLZ3IbIJrafpriaFJMlkCeSHZnPpMq0acjX3hv3IhDNKP0/oFTAZY1yaHrpfOh5fHH7Y/pRQTzDI5kJ7e7x1M+8nKdOlqmJPoJfgB+ETo1/mwiuEcSX3H32mRDBKdZA11TlZFdwtXbKd5pzaWq1XCxLpzYfIKAIPfH/2t/GubU+qPSeKZr3mT+er6bGst3BLNPY5f74ugs3HbYslzlfQ7xJjEzXS9BH0kBWN/ArRB/+EcYEP/j17F/j1tuS1qrTEtOi1BTYD90o4+3p6/C09+X9LgNVBzYKxwsWDEoLmglOB7cEJwLx/1r+nf3h/Tf/mwHvBAIJjA06EqwWghpcHeQe1R79HEYZtBNqDKgDyvk/74/kSNr+0EHJlcNnwAzAt8J0yCjRktxH6rr5QwolG5IrvTrgR0VSU1mTXLxbsFaJTZFAQzBGHWgIkvK/3PDHILU5pQaZK5EbjhKQEZffogiz4caT3SH2dA9sKOU/y1QnZidzKnvKfd96gXIGZQVTRj2/JIkK0O/F1ZO9T6juljWKsoK5gFqEZo1vm8ytpcP426v1lA+MKHc/VVNMY7FuFHU8djFyN2nIW5RKcDZTIEMJT/J73L3I6rewqpCh1ZyXnLeg46ictDzDAdQV5pr4swqUG4Mq5jZKQGJGD0lbSHxEyz2/NOcp4x1WEeQEJfmd7rrlzt4J2nzXF9ev2P3bqeBL5nbsvPK4+BH+fALMBeYHxwiHCFEHYgUGA4sAR/6F/Ij7gvuU/Mf+CgI4BhYLVBCWFXgakx6FIfkiqiJqICcc7BXjDVUEpvlR7uLi8tcczvTFAcC1vGS8Pr9PxXfObdrB6OD4GAqlG7MsbzwLSs9UHVx/X6peglkjUNpCJzK4Hl4JCfO43HLHN7Tzo3aXZY8zjByOIpUIoVixZcVT3CT1vQ76J7Y/2lRtZpxzx3uGfrN7ZHP0ZfhTOj6xJXcLuPCm1mq+HKmul+OKTIM5gbqEoY1/m6utTsNo2+D0jg5PJwg+vVGXYe1sUHOLdKVw4me8WuFJIzZ1INoJXPP63aPKKbo2rUSknZ9Wn0+jNquOtrXE7NRk5kP4tQnzGU0oLjQpPfdCfkXJRBFBqzoPMscnbBycEPME//k88BHoxeGD3VTbJtvI3PXfU+R/6RDvn/TO+Uz+2QFRBKEF0AX+BFwDLAG9/l38YPoQ+ar4W/k6+0f+aQJxBxoNDBPjGDUelyKlJQcneybWIwofKRhlDw8Fk/l17Uvhs9VRy73ChLwXuc241Ls0wsrLSNg35/v33gkSHL0tBj4ZTDtXyl5PYn1hPVyqUhZFBTQpIFoKi/PD3AvHarPOogmWwo1tikiMUJNKn7uv9cMa2yb0/Q15J3E/zVSSZu5zPnwcf2F8JnTEZtJUHD+ZJmIMpfGS11a/A6qMmLWLC4TfgUGFAI6um6WtDMPm2hz0iQ0LJos8EVDIXwtra3G3cvVua2aRWRFJvzWGIGYKZPR635LMeLzPrw+ngKIyogSmp62duEnG79XG5vv3wAhXGBUmbzH9OX4/2kEjQY49dDdIL5Al4BrQD/EEzPrT8WLquuT+4DLfPd/s4PnjDOjD7Lvxk/b0+pf+RQHjAmcD4wJ9AW3/+vxz+iz4dfaU9cP1KPfS+bj9uAKZCAwPshUgHOMhjia5KQ0rRypAJ+8hbRrxENYFkPms7Mjfi9OdyJ6/HbmPtUi1ebglvyXJJdao5Q33lQlrHLAugj8KTohZWGEBZTZk4F4eVUVH2zWZIVsLGvTg3L3GubLIob6UQozLiJWKnZGlnTOulMLn2SjzNQ3oJhU/pFSXZht0j3yMf+t8xXR2Z5RV6z91J0kNlvKL2FPAAquImaiM7oSrguyFgo7+m7ut4MJ02mHzhAzAJAE7UU7gXQppZm/AcCNt0WRFWCZIQzWFIOYKZ/X84IjO0756svKpfaUqpdeoNbDJuvbHCdc658H31Ae/Ft0jqy7HNvY7Jj5pPfc5JzRqLEMjQBnxDuAEjPtf863sred65BPjWuMa5Qno0usW8Hb0l/gr/PL+wACCAToBAQAF/oT7yvgr9vnzhfIS8tTy6vRd+Br99gKvCe0QRxhLH4EldyrBLQgvDC6nKtUktByFEqkGnfn261vee9EDxpi8zrUcstixLrUhvIbGA9QW5Bf2PgmxHIsv40DdT7Zbx2OVZ9Nma2F+V2RJqTcHI2AMtPQO3YXGJbLjoJWT54pNhwSJCZAcnMCsQcG82CnyZgxIJqQ+X1R8ZiV0u3zVf099QXUIaDtWp0BEKCsOifOO2WLBGayimr2N94Wcg72GKI9vnOyty8IS2q7ygQtwI2o5f0zfW+1mQG2nbi5rF2PaVh9HrzRxIFoLZPZ94oXQOsE3teqskqg9qMer4LIQvb7JOdjC55b38wYsFaUh4iuIM2I4YTqcOUs2xDB3KeEgjBf/Db4EP/zh9PDum+r25/fmfedP6STspe9380D3rPpy/V3/SwAxABz/LP2X+qP3ofTm8cfvk+6L7t3vovLc9m78JAO0CrsSyRpkIg4pTy67MfkyyTEJLronAB8hFIgHuvlU6wTdgs+Bw6y5mbLBrnyu9bEsufDD5tGC4hj12QjlHE4wKEKTUcVdFmYJalJp3GPIWXNLbDlyJGoNWPVO3WXGrbEdoJCSr4nzhZWHlI6ummOr/r+Z1yvxkAubJR8+AFRAZgx0wHz4f419mnV8aMlWT0EGKQcPf/Sa2oLCSK3Ym/OOI4ezhLSH8o8AnTquzcLA2QbygQobIsg3mkrIWbVk+2ptbBdpO2FQVfxFBDRLIMELWvf+44bSrMMDuPavwKtrq9Kup7Vyv57LgNle6Hr3HQagE28fFylDMMM0jza+NYsyTS1vJmsexBX8DI0E5PxY9izxhe1v69zqpOuM7Ujwg/Pl9hn6z/zJ/tn/5v/v/gr9Yvoz98vzfvCl7ZfroeoA69/sUfBO9bT7QwOnC3cUOB1qJYgsFjKmNd02fTVmMZ4qTiHEFXII5fnE6sPboc0Zwdq2fa9/qzarz65EtmTBzM/t4BL0ZwgGHfswU0MqU7NfRGhdbLRrMmb9W3JNJTvYJXYOBvaf3VzGULF4n66RnYi+hEuGQI1cmRyqy76A1jDwtArgJIU9hlPmZc9zoHz1f6Z90HXPaDxX4kG7Kd4PdfWv27LDja4rnUqQcojwhc+I35CynaWu5cKA2WfxhAnCIBs2pUiZV2FimGgTat5mPl+oU7xEQDMRIBoMSPh95YzUJ8bfuhazBK+yrvixibjvwZjN3toM6W73UgUaEjwdSib3LBoxrzLQMbouwylSI+Ab6RPmC0sEe/3E917zaPDm7sHuzu/N8XP0a/df+v78Af8uAGMAkP+8/Qj7pvfc8/3vY+xq6WrnruZy59zp9+228+v6UQOJDB8Wkx9bKO4vyzWBObQ6Jjm8NH8tnSNtF2YJIPpG6pja2cvMviO0fKxXqAiovKtts+O+t81W3wXz6QcVHZAxYkSjVIFhUWqRbvZtbGgZXl5P0jw6J4QPvvb/3WnGELH0nu+QsIetgySFDYwnmO6oqb1x1Tbv0wkZJNc881JsZW9zW3zLf5l94nUDaZNXYEJhKq0QbfbN3PLE6K+ZnsCR5YlQhw+K8JGFniyvFsNR2dTwiwhmH2U0oEZWVfNfF2aZZ4ZkIV3gUWFDZTLEH2QMLfn65pXWrMjIvUi2XrIRsji1hbuGxKvPUtzP6XL3kwSdEAwbeyOmKWktwy7ULdgqJiYjIEIZ+hG+CvgDA/4j+Yf1RfNY8qTy+PMS9qX4W/vk/fD/PwGjAf0ASv+Z/BT5+PSS8DrsUug25UHjveLj49TmlusT8hb6TwNYDbQX2iE4K0AzbTlKPXs+xDwKOFww7iUcGWUKafrc6YPZK8qZvIixmKlJpfKkv6imsG28qcvA3fLxXgcSHQ4yVkX9VS5jPGyjcBlwimoeYDhRcj6VKJQQfvdv3ozG67CPnlOQ54bDgiGE/IoPl9enmrxs1EHu7ghFIxc8RlLUZO1y8Ht6f2Z90HUWac9XyEL4KnQRZPfy3T/GWLEhoFaTeYvViHSLJJN4n9CvX8M02U3wlwcJHqYyi0T9UmxdemMAZQ1i5Fr6T+pBcjFkH6EMCvpz6KDYOMu+wIq5zLWHtZG4m742x9XR3N2k6ob34QMnD+AYrSBRJrApzCrKKecmeCLiHJIW+g+FCZUDfP51+qX3GfbE9YX2I/ha+tv8U/9wAe0CjAMmA6cBFP+G+zH3WvJW7YXoS+QL4R/f0N5U4MnjLulm8DP5PgMVDjUZCyT/LXw2+jwAQTJCVEBPOzQzPijPGm4LwfqE6YXYlciCugmvz6ZWovah2KXxrQW6oskr3NrwyAb9HHUyLkY4V7pkBG6TchxyimwJYv5SBUDqKaQRRvju3sTG4bBKntuPRIb+gUODDYoWltqmnbt000/tBQhnIkQ7gFEdZEhyYHsDfw19mnUIae5XGUN/KzISWvgd35vH3LLEoQqVMI1+iv2Me5SMoJKwv8Mr2dHvqAaqHN8waUKSUM1awWBJYnVfiVj3TVhAZjDwHs4M3Pro6a3ay82/w9y8TrkTuQG8ysH+yRfUfN+N66r3OwO7DbkW4R36IvElzCa0Jeciuh6PGdAT5w06CCID5v66+7j55Pgq+WH6TPyj/hUBUAMHBfQF5QW3BGAC7v6D+l71y+8p6t3kUeDq3APb5trG3Lzgweaw7kT4HQPBDqIaJiavMKI5cUCiRNdF1kOJPgY2jSqGHH8MJvs+6Z3XGceHuKisJaSAnxSfCKNPq6q3o8eY2r3vJwbYHMYy60ZUWCRmqm9hdP1zbG7bY69UiUE4K7QSFfl73xHH87AknoaPx4VfgYqCQYk8lfeltLqI0mLsGgd+IWA6o1BKY4FxrHpmfo58P3XZaPFXVEP1K+cSTvlN4APJc7R/o9uWCI9JjKmO9ZXBoXCxOcQ02WPvwAVLGxEvOkAUThdY7V10X75cDlbWS6s+Qy9oHuwMpftY67rcY9DKxj3A4by0vIi/EMXfzHDWMuGK7N/3owJZDJkUFhuiHy0ixSKUIdse7RosFv0QxAveBp4CQf/x/L77pfuI/Dj+cQDrAlEFUwekCAYJSQhVBicD1/6S+ZzzTu0M50ThZNzU2PHWA9c72a3dTuTx7En37AJaD/obKyhIM7A80UMvSGpJSEe3QdA42Sw/HpgNmfsL6cvWt8WptmWqmaHInE6cUKDCqF+1rsUI2Z3ufAWiHAAzjUdQWWxnLHELdrx1L3CRZUtW/kJ9LMMT6vkW4HLHHrEenlSPboXngPeBmIiBlC2l37mp0XzrLQaMIGs5rk9ZYplw03mkfel7wHSIaNdXd0NbLJITP/qD4XfKHbZTpcqYAJE3jnmQkpcWo2uyy8RQ2QLv3wTtGT0t/z2FS0tVAFuEXOpZdlOYSeI8CC7LHfsMY/zC7MbeANPfyavDhsBowCTDbcjWz+DY/eKZ7SX4GQIBC4ASTxhKHGYetx5qHcIaExe6EhkOjwlyBQoCjf8Z/rj9W/7e/wcCkwQyB48JWQtIDCAMuAoACP4D0f6w+Ovx4uoB5LzdhtjL1OjSJtOz1Z/a2OEr60P2rQLgDz0dGSrJNaY/GkelS+hMqUrYRJM7Ii/7H7kOGPzp6A/Wb8TntEGoK58umqSZsp1KpiOzw8N813rtxwRcHCUzFEguWpJoinKRd1l303EsZ9BXYkS4LdAUxfq94OjHY7E3nkSPO4WUgImBEojmk3+kH7nZ0JzqPgWRH2Y4o05MYZFv1ni7fB57HXQWaKBXgkOuLDIULfu84vbL2Lc9p9SaF5NHkGuSUJmMpISzdsWB2a/uBgSQGGUruTvlSGpS+ld4WflWwVA9R/86tCwbHfkMFf0m7tHgoNX7zCXHOsQvxNXG38vj0mXb3OS87nv4nAG1CW4QjRXyGJwaoxo4GZ8WLBM6DycLSwf1A2YByf8z/6X/BQEoA9AFsAh2C8wNYQ/wD0EPMQ23CeIE2v7h903wiOgH4UTat9TP0OvOUs8w0pLXX99d6TH1XwJVEGse8SsyOINCSkoET1FQ+E3rR0s+ZzG4IeEPpPzZ6GrVQcNCszum3py0lxeXL5voo/mw4sH01VXsCQQGHDMzgEjsWpZpxXPzeNN4VXOqaD1ZtUXqLtoVpPtx4XDIwrFvnliPLoVogEGBsIdsk+2jdbgX0MPpUASOHlI3gU0jYGhutnetey56VnODZ0tXdUPwLMcUFvz4437NpLk+qfqcTZV4koCUMZshprq0OsbF2WvuNQM1F4gpajk2RnZP3VRTVu1T8E3HRAI5SStVHOcMu/2C79niQtge0KrK/McGyJnKZs8G1gDe0Obx7+P4LwF0CGUO0BKdFdIWjBYAFXQSOw+uCyYI+ARpArIA9f89AIIBogNoBo8JxQy1DwcSahObE2gSsw96C9QF8/4i98HuQuYh3t/W+tDjzPrKh8uzzofU5NyK5xb0AwK4EIUfsC2BOkZFX01KUqRTNFHvSvpApjN1Iw8RO/3a6NvULsK7sVWksZpZlamUxpidoeGuD8By1C7rRAOhGy0z0UiLW3dq23Qweil6t3QLapNa90YQMOEWiPwx4gvJOrLFno6PRYVjgCCBc4cSk3aj4bdlz/PoYgOEHS82S0zfXh9tc3Z7ehh5anLOZthWTkMeLVAV+/w25RDPf7tVqzqfoZfJlLaWMp3Xpw22F8ce2jbubgLdFaknETd6Q29MqlEUU8ZQA0s2Qus2xyl8G8QMVf7W8N7k5tpH0zjOy8vuy2/OAdM92a/g2Og68Vv50AA/B2UMGRBMEggTchLCEEAOPwsVCBgFlQLNAO//EQA5AVIDMgacCUQN0xDuEz4WcxdJF5QVPRJHDdMGHP909kftD+RO247TT80HyRfHx8c+y3/RaNqx5fDymQEJEYkgWC+2PO5HW1B2Vd9WW1TiTZxD3zUyJUIS3v3s6GLUNMFRsI+ipZgfk1qSepZqn9ysSL730gfqdgIuGxIzCEkLXDZrzXVIe1t793VOa9BbJUgrMeMXb/374rnJyrI5n+aPgoWEgCSBWYfZkhyjZLfDzivodQJ0HP80AEuBXbhrDXUked13WnH3ZUdWD0M6LcwV2v125qrQab2ArZOhE5o6lwyZVJ+rqXy3DsiM2hDusAGJFMclsTSwQFZJYU69T4RN+0eKP7s0LSiOGpAM4v4i8t/mit101s7Rpc/kz1bSrtaH3HHj8+qU8uT5fwAXBnAKag3/DkAPWA6BDAcKOgdyBP4BJgAk/xv/HQAkAhIFtAjDDO0Q1xQhGHEaeRv4GsUYzhQfD98HVP/Z9eHr8OGQ2FHQt8k9xUTDFMTRx3zO7NfU48LxIQFIEXch5zDSPnpKOlOIWAFabVfEUDFGETjtJnkTi/4P6f7TVcAFr+mgupYHkSuQTJRRneuqj7yD0eHoogGuGuIyJElsXNJrmnY7fGh8FXdybPNcQEk4MuAYWP7P43fKcrPKn2CQ44XLgE+BZYfCkuCi/rYyzm3nigFeG8EzoUkKXDJqhXOpd352J3D+ZJhVt0JCLToWsv6250zSYL++rwSkoJzKmYObl6Gfqwi5HskO2/rt/QA6E+UjSzLbPS1GBEtPTCpK2UTFPHIyfSaMGUsMYf9l89voLOCk2WzVitPn003WbNrk30bmIO0B9H76PwD8BIUIwwq4C3sLPQo+CMgFLwPFANn+qv1r/Tn+GgAAA8MGJgvcD4oUzxhKHJ4efR+nHvkbZRcAEfgIm/9O9Y7q5d/o1SnNNMaFwYK/bsBvxH/LctX04YvwnAB2EVEiXjLSQOtM/VV+WwpdaFqTU7lIOjqmKLUUQ/9B6bDTkL/XrWSf8pQRjx2OO5JSmw+p5boX0LvnxwAgGp8yJ0mvXExsQncIfVF9D3h3bftdR0o5M9cZQ/+t5EbLMrR4oPuQaYY4gaCBlYfNksGisbazzbrmogBEGngyMEh5Wo9o3XEKdvt0z27kY8tURUI1LZsWg//16PPTZcEPsoymSJ93nBme+aOxrbG6Rsqm2/TtVADwEQIi3i/7OvVClUfMSLhGn0HmOREwtiR2GPUL0/+d9NDqzeLW3A7ZeNf211HaOt5S4y7pYO9/9Sn7DQDvA6cGJgh3CLsHJQb5A4YBHv8R/an7Ifuk+0f9BwDMA2MIiQ3mEhkYvBxqIMQieyNVIi4fAhrpEhwK8f/V9E7p8N1V0xfKxsLivdG717wXwYjI+tIQ4EzvCwCTERUjvTO3Qj5Po1hYXvdfS11OVjFLWjxbKvMVAgCD6XfT5b7IrACeTJM9jTCMSZBumUmnTLm1zpjm6f+FGUgyEUnTXKRsxXevfRN+53hdbuleOUsrNMYaLgCT5SXMB7VDobeRE4fMgReC6of6kr+ifLZGzRLmv/8lGSQxrUbSWM5mE3BIdFNzVW2pYuBTuEEULe0WSgAz6qDVdMNxtCupC6JCn86geqbhr3a8iMtS3P/tuP+tECAgbi0SOLA/E0Q0RTBDTT7wNpkt2SJLF44LNgDL9b/sa+UJ4LbcbdsQ3GPeGOLQ5ibssfEO9+X77P/wAtQEkwU/BQAEDwK2/0L9CPtV+W/4jfjQ+Uf85f+HBPMJ2g/fFZkbnCB+JOAmdCf/JWQiohzaFEsLVABt9CPoEdzZ0BzHb79UujO4UbnMvZrFhdAr3gfub/+eEcQjAjWBRHRRK1sUYcpiFWD0WJpNbz4LLDMXzADU6VPTVL7Wq72cyJGMi2aKd46ll5qlw7ddzXjlBP/fGN8x4UjYXNlsJHgwfrF+mnkhb7tfFEwONa8bGgGB5hPN87UpopSS4YeFgrSCZIhJk9yiYLbrzHbl4P4EGMYvGUUTV/JkKm5lcohxt2tMYdZSEkHeLDAXCwFw61LXj8Xjtt+r56QooqCjGakvsla+48wU3RvuKP9wD0Ae+SogNV08gkCIQZI/4zriMwkr5SANFhULiwDu9qbuBOg742Dgad8z4IDiA+Ze6i/vFPSv+LH82v//AQ8DCwMQAksA//10+/347vaT9S717vXw9zn7s/8xBXELGxLIGAkfbCSGKPMqZSulKZklRh/SFoUMxwAX9AvnR9p1zjrEMLzdtqq027WOurXCFM5F3Lvsxv6aEV4kLzYuRo1TlF2yY39lxWKDW/FPeEC3LXUYnQEz6kPT3b0Dq5ubaZAAir6IxYz6lQKkTLYPzFvkHP4tGGMxmUjAXOxsXniLfih/KXrFb3Bg2kzhNY4cBQJ25w/O9LYqo5CT0ohjg3iDA4m7kxejXbakzObkBv7hFl4udUM+VftiImxfcJtv9mnOX69RUkCTLGQXwgGp7AfZs8dkuaeu2qcqpZCm1quatFLAV87s3Ujuo/47DmIcgygnMv844TzKPd87ZDe9MGMo3R67FIoK0QAF+IXwmeps5gzkauNd5Kjm+un57UfyhvZg+o392P8dAVYBjwDr/qD88/k097n00/LN8eXxRvME9h36cf/LBd4MShSfG2giLSh/LPouTi9GLc0o7CHQGMoNRwHS8wjmlNgozHDBCbl9szaxeLJgt9q/qctf2mrrEf6FEeMkQjfAR4dV3l8xZhdoWmX8XTZSdUJcL7cZdgKg6kjTgL1NqpuaLI+XiDmHNItrlISi57TOykPjMf1xF9YwOUiLXN5scni/fnl/lHpIcAlhiE2jNmUd7gJw6BnPCbhGpKyU54lnhGGEx4lPlHGjdLZxzGPkMv28Fe4swkFTU+pg/Gk5bottFGgvXmlQdz8zLIgXbwLe7b7a4Mn0u4Ox5apFqJupr64ht2nC48/Y3ofuLP4ODYgaCyYoL5c1Mjn8ORk40TODLaclwBxVE+8JCAEQ+VvyKO2b6bnnbueO6Njq/O2i8W71B/kh/Hr+5f9LAK7/If7R+/z47vX68nfwt+4D7pbulfAN9PP4IP9UBjkOZhZjHrUl3itqMPQyLDPhMP4rkyTUGhcP1QGe8xjl+Nb0yb++/LU2sNmtKa9BtAu9RMl62BTqU/1gEVMlPTg1SWJXCGKPaJBq02ddYGdUZUT6MPkaVQMb62DTPL22qbyZFI5Th9mFxYn7kh6hl7OZyTDiRPyrFjgwwUc4XK5sY3jOfqR/23qpcIVhHk5VNzEe1QNx6TDQMrl8peeVHYuPhW+FsIoGleujpbZSzO7jZPyYFHYrAEBVUb9euGfza1lrEGZwXAVPgz68K5sXEQMQ73fcFMyRvnC0Bq55q8GspLHEuZrEiNHb39fuw/3rC7IYkiMlLCYydzUeNkE0KTA1KtcijhrdEUEJMAEO+ib0sO/F7GTrdOvE7BDvCfJX9aL4mPvx/Xb/AQCJ/xL+v/vD+GT18vHF7jjsm+o46kPr3O0M8r33wP7MBoIPbhgUIe4oey9ENN82ADdzNCovOifbHG4QbwJ78z7kc9Xaxym8CbMIrZOq76s0sUm658aX1rroi/wrEa4lHjmNSh5ZEWTNaulsMGqkYoVWRkaQMjocOgSi64vTEb09qf+YH400hpyEeYiqkdOfWrJyyCThVvvdFYkvM0fJW11sLni2fqh//HrncOJhnE70N/MeuQR16lLRbrrKpj+XdozchqOGvYvflYOk8bZIzIjjnvtzE/gpMj5DT3tcWGWNaQdp6mORWoRNcz0wK50XqAM78DHeT846wW23O7HFrgGwtbSBvOXGRNPy4DnvZ/3QCuEWGiEeKa4usTExMlkwbyzSJvMfSRhREIIISAH++uf1MPLq7w7vfO/+8E7zHvYW+eL7Nv7Q/4AALgDV/of8bPnC9dbx/+2Y6v7nguZr5uvnHesB8Hr2Uv4zB7gQZBqxIxQsBjMMOLw6xzr9N1Iy4CnnHswRFgNo83fjBdTYxa65MrD1qWeny6g5rpS3ksS31FznufvoEPUl5jnIS7pa+WXqbCNvb2zSZI1YF0gdNHkdJAU27MrT/rzhqGSYT4w6hYWDT4d4kKKeMrFZxx7gZ/oGFcsujkY9W+pr1nd4foZ/+HoEcSJiAU+BOKkfmQV964DSvLsxqLWY8I1MiPyH74zaljqlV7dTzDDj4fpQEnQoVzwgTSFa3GIIZ5RmpGGSWORLSjyOKo8XNARh8evfkNDtw3u6hLQoslmz37dZv0rJGdUf4q7vGv3BCRYVpB4UJi8r4S04LmEspCheI/sc8BWzDrIHUQHi+533p/QK87Xyg/M69ZL3Ovre/C7/4AC8AZsBawAy/gr7KPfQ8lXuF+p05srjbOKf4pLkWOjt7Sz11P2JB9sRRRw4JiQvfDbBO4c+fz57O3M1hCz1IDITyQNm88Xir9Lxw063dq3+plSkvqVRq++0R8Lb0v3l3/qWECgmljrmTDZcv2flbjxxj27lZn9a2EmhNbQeEwbV7BrUBL2jqOqXo4tmhJOCSYZnj42dILBQxiHfePknFP4t1EWWWlhrWncUfj5/znr9cEJiTE/7OFMgdAaJ7LjTG72vqUiaio/giXiJRY74lxGm2bd0zOjiLPouEesmcDrqSrBXRmBnZAJkP190VihKBjvVKW4XswSB8qTh1dKrxpa937egtcq2IrtKwsfLBNdg4zTw2/y7CFITMRwJI6onCCozKlsoyCTXH/EZhRMDDdEGSgG3/Ef5Ffci9lf2iPd2+dj7XP6uAIIClwO3A8UCuACe/Z758/Ts7+PqO+ZZ4p3fW97V3jbhj+XS69PzSf3PB+sSER6qKB8y3TliP0FCKULvPow4JC8EI54UiAR08ybicdElwgu12KojpFyhyqJ+qFmyB8AD0Zzk/fk2EEcmLDvoTZNdZGm9cDNzj3DbaFpciEsZN+wfBQd+7XzUIr2CqJGXG4u4g8aBZoV2jpWcJa9WxSzeivhCEyMtBUXUWaVqunaLfc9+f3rUcERifk9gOfAgSgeW7fnUir5Dq/abRJGWixmLvo85mQendbirzLDigfkQEF8lgDilSClVll2oYVJhuVw3VE9IqDkGKTwXJQWY81vjHdVwyb/ATLstuVG6fb5UxV3OB9m35Mzwq/zCB5YRwRn9HyIkJyYjJkgk3iBBHNYWCRFBC98FMwF9/eT6ePky+fP5ivuy/SAAgQKFBOEFWQa/Bf0DEwEb/UP4z/IY7X7nbOJK3nrbUdoO29vdwuKv6W/ysPwECOgTyR8GKwM1KD3uQudFwkVVQpw7wTEVJREWUgWS85zhStBzwOSyV6hloYGe75/BpdWv070xzzrjFPnID1MmqjvMTs5e5mpzcgd1cHK1ahxeJU2GOCAh+gcy7vDUWL1+qFqXt4ovgx+BqISnjbmbQa5txEDdnvdXEjssIUT4WNNp93XcfDp+C3qHcCZilU+yOYAhGQik7kPWCcDurMCdHpNujd6MW5GbmhyoLbn4zIni4Pj1Ds8jhjZQRo5SzVrOXoNeFlrcUVlGMDggKPgWigWo9A/laNc+zPTDyL7NvO698MF2yArRINsi5nfxi/zUBuEPVhfzHJcgQSILIikg5hybGKoTew5uCdwEDAE1/nT80Ps5/In9h//sAWkEqwZiCEkJJQnTB0MFfwGo/Pj2vfBV6irkrN5I2mHXTtZM14Ha8t+G5wHxCfwoCNIUayFLLdA3W0BkRnhJSUmtRaM+WDQlJ4gXJQa/8ybhO8/cvtuw9KXFnsKbLp0bo2Otq7tmzdnhJfhOD0wmDzyTT+pfRmwEdLl2MHRybMZfsE7mOU4i8Ajw7nPVpL2XqESXeIrMgp+AD4T5jPuadq2Ww1/ctfZnEUYrKUMBWONoEXUHfH99cnkYcOhhkU/uOQEi4Qiz75TXl8GtrqOfFpVoj8WOG5MfnFCpALpbzXPiSfjeDT0igzTtQ+BP7VfZW5hbVFdkT0dEnjYkJ6EW4gWv9b/mtdkRzzTHU8J/wJ/BeMWuy83TT92i5zTyevzzBTYO8RTrGQsdVh7rHQAc4RjmFG8Q3QuLB8gD1QDe/vb9HP42/xUBfgMjBrEI1wpEDLcM+wvzCZYG+QFG/L/1u+6j5+fg/NpT1lTTVNKP0ynXId1X5YrvVvs8CKkV9yJ5L4Q6dkPCSfRMvkz1SJ5B6TY0KQMZAwf788TgRM5gve+usaNFnCGZiZqMoASrkbmiy3ngMPfHDjImXDw9UOVggm1ydUd4znUQbldhJlA4O3Uj6Am27wfWB77MqE+XXYqPgkSAmoNujFuawqzRwonbz/VyEEUqH0LyVtNnCXQOe558s3iFb4thck8VOnMioQnB8O3YMsOAsKChK5eCkc+Q/pTFnaSq77rWzW7iv/fNDKogeTJ9QSBN91TKWJFYdlTPTBlC8zQSJjcWKwas9mvoAtzq0X3K68VBxGPFFcn9zqfWk9816QPzePweBZUMkhLlFn8ZaBrEGc4X0RQlESYNMAmXBaQCjgB4/2r/WgAmApoEbwdVCvgMAw8pECoQ2Q4dDPcHggL0+5f0zOwE5bXdXNdu0lTPZM7az9TTT9ok4wrulvpACGwWbSSPMR89eEYHTVpQHlAtTI1EczlAK4Ia6gdF9HXgZs0AvCGtjaHkmZ6WAJgWnrmohrfnyRrfNvY1DgYmkTzLUL9hm268drF5SXePb8xih1F9PJYk4QqD8KrWgL4dqXqXZYp4ghCAS4MFjNmZKKwfwr/a7fR6DzkpA0HKVadm33LxeZh7znfObg1hOE8nOtYiWQrO8Uva2sRmsrajXZm8k/qSApeLnxas+btoznviQPfCCxcfaTABP05K61GjVW9VfFEdStE/LzPpJLsVZQag9xLqTt7H1M7NkMkTyDrJx8xg0pbZ7OHd6uTzh/xXBP4KOhDkE/QVeBaZFZUTuBBYDc8JcwaUA3EBNwABAM4AiwIMBRMIVwuBDjoRLhMPFKMTvhFRDmQJGgOy+4Hz8Op34pfaz9OZzmLLf8oszITQftfu4IPsyvk0CBwXzSWMM6A/X0k0UKdTaVNTT25H9DtKLQQc2Qie9Drgn8y8unKriZ+klzyUlJW7m4SmirU2yL/dOPWXDcglrjw7UXhikW/gd/d6onjvcCdk01KyPa4l2QtY8VvXDr+JqcaXkoqHggOAIoO/i3eZqKuAwQHaEPSADiMo1T+LVF1llHGweGx6xXb1bXBg4U4hOikjCAvZ8q7bjsZftOKlq5sVlkaVKJlyoaetH70Rz5rizva9CoQdVC56PG1Hy05kUjNSZk5RR209UjGqIywVkQaJ+LPrmeCn1yfRQM3zyyHNitDX1ZncWeSX7Nf0pvyeA3IJ6g3pEGsShxJqEVYPlgyACWsGqQOCAS4A0v97ACQCrgTkB4ILNQ+mEngVVhf2Fx4XqhSOENwKwAOB+33yJ+n/34zXVNDWyoDHqMaJyDrNr9S13vTq8/gYCLkXFydwNQdCLExFU9tWnVZmUkFKaz5QL4gd0AkE9RHg8MuUueKppp2FlfmRR5N6mWSkoLOPxmfcNvTvDHkltDyQURFjY3DgeBh82HkucmVlCFTXPr4mzww08hvYsb8QqjGY4oq8ghyAHoOdizOZQqv2wFHZOvOEDQQnlz40U/ZjKHBLdxx5l3X4bLJfb04FOmsjrQvh8xbdTMhotiaoFJ6MmLKXb5t6o1evYL7Rz8ziafbACfMbOizqOX1EmEsOT99ONktpRPA6XC9VIooUrQZm+Uzt4eKJ2obU+dDfzxfRX9Rg2bDf2uZl7tz11fzzAvIHpAvzDeUOlw46DRILbQifBf0C0gBj/9z+XP/mAGsDwgauCuMOCRPCFq8ZfBvdG5wamxfUEmAMdARg+4vxceeb3ZbU7swmx6/D38LwxPfJ4tF63F/pEPjtB0IYSig8N1NE3E47VvZZullkVQNN10BQMQwfzgp39fzfWcuHuHGo45uIk9iPGJFVl12ix7HzxBPbMvM+DBklpDzHUYljEnG7eRN96npMc4dmJlXrP8QnxA0V8+fYaMCxqruYVYsWg1uAP4OdixCZ96qAwK7YafKGDNwlST3IUXVinW7Ddad3RXTYa9Re4U3SOZwjRwzl9IDeFcqBuH+ql6Ahmz6a152hpSSxvb+p0BHjEvbKCGQaHSpQN39BVEikS3JL7UdoQVk4Ty3qINUTugY4+t7uJuVr3enXutTY0xvVRdj83NribelF8PP2FP1WAn8GaAkFC2QLqAoICcoGPgS2AYX/8f01/Xv91v5AAaEExghpDTcS0RbUGt8dnB/BHxsekBohFe4NNQVP+6zw0OVM27XRncmKw++/Jr9kwbzGGs8/2sXnJPezB7gYZintOIRGcVEVWfVcvlxOWLVPOENLM5Ag0gv39fnf2cqWtx6nQpqskdiNCo9MlW2gAbBkw8XZLPKDC6okfDzjUeFjnXFweul913tIdItnLFbtQL8otQ7788DZMsFsq2WZ64uWg8GAh4PCiw2ZyKogwBvYoPGJC6wk7TtGUNhg8mwZdA52znKVatVdNk2IObwj1gzl9e3f5suquuysM6PSneicXaDopxCzNMGY0WjjyfXdB9gY/SevNHU+/kQlSPBHjEROPqk1KStqHw4Ttgb++mjwZ+dN4FDbgtja1y3ZOdyo4BXmE+w38hr4Y/3IARgFNgcgCOoHvQbXBIECCgDH/QP8A/v7+gz8Qf6LAccFugoVEH0VjBraHgYitSOhI5ohiB10F4YPAwZO+9/vQ+QT2evOYsYDwES8fbvlvYvDV8wD2CXmLfZrBxsZbCqFOphI6FPSW9hfqF8hW1VSjEU+NRQi3AyD9gfgccrCtuylw5j0j/uLHI1hk5aeTq7iwX7YJfHACiskPzzkURhkBXL/epl+oHwjdXJoGVfdQa8pow/l9KTaD8JArC2apIw7hE2B9IMLjCqZtKrWv5bX4PCMCnYjgjqwTiJfKWtOclJ0NHEvabZcbkwmOckjWg3g9lzhwM3gvGyv5qWeoLCfA6NNqhi1x8Kf0tPjjvX6BlAX3CUHMl87mUGURFdEE0EcO+Iy7SjUHTMSowa2++nxouku47jeUNzl20rdO+Bj5GDpyu479FP5w/1JAb8DEAVEBXYE1wKpADj+1PvR+Xn4C/i0+I/6nf3FAd0GnQywErIYOB7UIiImxyd9JxclgiDOGSgR3gZd+yTvyuLw1jfMPsOSvK245rd1umXAmsnJ1YLkLfUUB2wZWisCPJBKQVZwXp5ieGLcXeJU0UcpN5Yj6w0a9yfgH8oJttmkZpdfjkCKT4uUkdqcsKxuwD3XHvD1CZ0j7TvJUTBkSXJpeyN/Q33adTlp7Ve6QpMqjRDS9ZPb/8IsrRObfo0Ehf+Bh4R3jGiZvKqivyLXKPCQCTkiCzkGTVJdQmlhcHJydm+nZ3hbikurOMQj0A3V98vioc8kv/+xsaiFo5SixqXRrD63dMS901LkY/UhBs0VuiNaL0A4Jj7xQKpAhT3TNwMwmiYpHEURgAZi/GDz1+sM5iLiI+D333DhSuQt6LvskfFP9p36M/7aAHMC9wJyAgoB+P5+/O/5nPfX9ej0CvVj9gX56vzwAeEHbw46Fdcb1CHAJjIq0CtTK5EofSMrHNISxQd7+3zuZ+Hk1JzJMsA5uSu1Y7QUt0u95MaS09ziJfSwBqoZMixmPWtMfFjwYEZlK2V/YFpXCEoMORUl/g6891ng5clsteajLJbujKqIpYnmjzibJ6sKvwXWF+8jCQEjhTuTUShkaXKue4Z/wX1vduJpp1iEQ2srcRHB9o3c/8Mwrhaceo7zhdeCQIUIjceZ4aqFv77Wee+XCPgghzdKS2pbP2dUbnFwlW39ZRlaikoZOKwjOg7D+Drkh9F0waS0kauFppWlp6hxr3+5O8bz1OTkR/VSBU8UmSGoLBc1pjo9Pes84TlzNA4tMiRpGkQQTAYA/cz0Be7m6Izl+OMQ5KDlY+gE7CXwaPR0+Pf7s/55ADYB6gCs/6n9HvtY+Kj1ZPPa8VLxAPIG9G73KPwKAtQILxCyF+oeYCWdKjUuzi8hLwcseCaNHoMUuAip++ftGeDv0hnHP734tcGx9LDFsz66N8Rd0TThFfM+BtUZ8yyuPilOmFpRY9BnwmcJY71ZL0zkOpEmFBBo+JrgwcnrtBKjE5WgizeHHYhYjrKZtam1vdXUEu5MCFgiCjtCUQBkZnLNe8N/Gn7hdmtqRlk4RDQsTxKz94/dEMVLrzWdl48Fh9SDH4a8jUeaI6uAv2vW1e6gB7If+DV8SWpZH2UobE5uk2sxZJpYbUluN4Ejlw6p+ajlc9POw1i3hq6dqbCopKsust27HchA1ovlOvWOBNgSeh/zKecxGzd7ORk5KTb/MAMqtCGVGDAPBwaR/S72K/C86/Toz+ct6Nfphuzm75zzTveo+mH9Q/8pAAgA7P7y/FH6Tfc39GXxLO/c7bjt8O6h8cz1WfsUArYJ3BEXGush2ihpLioywDPnMnkvcinxIDwWtgnl+2Tt4N4S0a/EZrrQsm6umq2JsD+3k8Etz4rf/vHABe4ZnS3cP8lPlFyRZTpqO2p4ZQpcRU6xPAkoLBEd+ezgs8mFtF6iHpR3iumFuIbqjEiYWahxvK/TD+1vB6IhejrYULljQXLGe9p/TH4vd9NqylnYRPAsJhOl+JreMMZ8sHGe1ZA6iPeEIoeVjumagauSvyrWPO6uBmgeXzSdR1VX5GLdaQpsbmlEYvxWM0irNkIj5Q6I+hTnY9Uyxhy6j7HMrOWrvK4HtVa+GMqk10XmPfXWA2gRXB08J7AuhTOqNTc1XzJ2LeQmIR+uFgsOsgUS/oP3SfKM7lrsputN7BTusvDU8yD3Qvrr/Nv+4v/p/+r++/xF+gX3hvMe8Cft9+rd6Rrq2usy7x70e/oPAoYKdxNpHNgkQSwkMg82pTeiNuMyaSxYI/sXvwox/PPsvd1Mz1/Cp7fDrzWrWKpgrU+0+r4CzeDd4fA1BfYZMC7vQEtRcV6wZ4NslmzLZ0BeSVBzPnspRxLc+U7hvMk6tMqhS5NzicCEd4Wei/uWFqc+u5TSD+yNBt8g1zlVUFNj+HGae8p/WX5ZdxxrMlpiRZwt9ROX+a3fYMfDscefMpKTiT6GS4iRj6ub/au9v/vVru3ABR0dvDKuRSlVj2B1Z6ZpKGc2YD9V3UbPNe8iJQ9e+33oVtegyO68qrQSsDOv77H7t+nALMwf2RPnUfUqA/8PQxuEJHQr5S/OMUUxhC7bKbEjexyyFNIMTAWG/s34XfRV8bvvfe9v8Fby5fTK96/6Qv08/2IAkQC4/9v9Gfum98Xzyu8O7O/oxubg5Xvmv+i87GXykfn6AUUL/xSmHrEnlC/MNeM5eztSOkY2XC+/Jb8Z0QuK/JXsr9ygzSnABLXRrBWoLqdMqnGxbLzeyjbcvu+fBO0ZrS7oQa9SLGCuaaxu0W4Cal1gOVInQOcqYhOi+r7h2ckKtFWhnJKTiLyDWoRzisyV66UeuoTRFOuoBRIgIjm4T9BijnFJe5R/QH5ed0NrflrVRTkuvRSI+sbgncgfszmhrpMOi6qHmYmxkI+cl6wAwN/VLe3XBM8bEDGxQ+pSIV7vZCNnwmQIXmNTakXaNIgiVg8q/OPpS9kVy8y/1rdss5iyO7UJu5fDWc6x2vTndfWLAp8OLRnMITQoPizmLUYtmCotJmsgwRmkEogL1gTq/gr6ZvYW9BjzUfOS9Jv2HvnJ+0j+TgCaAfoBUAGW/9v8R/kV9ZPwGewI6MDkmuLl4dvioOU/6qLwmfjVAfILcxbPIHQq0jJgOaU9Qj/2PaA5SzIlKIcb7Azx/EjsuNsMzA6+fLL7qRGlHKRNp6Su7LnAyI3alu7+A9IZFC/FQvRTyGGKa7Nw7HAcbGFiFlTOQUwsfhRv+z3iC8r1swChD5LZh96CYoNribuU2aQSuYHQHeq/BDofWzgDTy5iAXHTejh/AH4/d0lrrloxRsUuehV4++Xh6MmOtMOiSZWrjDqJC4v1kZSdTq1cwNbVuOz1A4EaXi+lQZdQm1tOYoFkPGK6W2hR3EPNMw0idw/t/ETrQtuQzbbCE7vathS2n7gwvl3GntBZ3OroqvX5AUkNHRcVH/EkkSj0KTkpnSZvIhMd9RaEECwKTwQ//zn7ZfjP9m/2Ive0+OH6W/3O/+kBZQMFBJ8DHgKF/+z7hfeV8nDtdugN5Jngdd7t3Tvff+K859bulfehAY0M1BfjIiIt+jXePFNB+EKLQfA8NDWLKlQdEQ5m/Q7s1tqRyg+8EbBCpymiJaFmpOqreberxufYau1SA6cZZS+IQxtVQWNEbZdy53IYbktk3lVmQ6ktmBVD/MniUsr6s8qgpZFDhyWCj4KFiMqT4qMZuIrPK+nVA1gegzc3Tm9hUnA5erV+mn38di5rwFp2RkAvLhZl/ArjP8sQtmekAZdpju2KoYxck7qeIq7SwOHVUewZAzMZpC2NPzFO/ViSX8Jhl19NWU9PMUKnMn0hiA+l/aDsOd0R0KvFXr5auqW5G7xwwTzJ+9IY3vTp8PV1AfwLEhVgHK0h3iT5JSIllCKiHqsZGBRSDr8ItwOF/1v8V/p++b757vrU/Cn/mgHYA5MFhwZ8BlIF+wKD/w370/Uk8Fzq4eQg4H3cV9r72Z7bXN8z5QLthfZfARcNIBnhJLkvDDlHQO1Em0YRRTVAFjjuLCMfPQ/o/eXrCtovySu6xK2npF6fSJ6XoUSpFrWgxETXO+ycAmwZoC8wRCNWmmTablh0v3T0bxtmkVfuRP0usRYd/WPjrMoZtLKgXZHThpOB4oHDh/iSBaM1t6LOQOjpAm0dmzZTTZRgg296eQx+Dn2UdvFqtVqjRqov2BZP/TLkosyltyOm1phHkMKMW47mlAGgFa9gwf/V+OtFAuUX5StpPbpLSVa7XOZe1FzCVhlNa0BpMdggig9S/vbtL9+X0qjIt8HsvUu9rL/HxDPMb9Xs3xHrR/b+ALoKDxOuGWceJyH4IQAhfx7GGjMWKREPDEEHDwO8/2/9Pfwj/AX9tP7wAG4D2wXnB0MJsQn/CBIH5gOS/z/6M/TF7VjnXOE/3G3YQ9YP1gPYOdyn4iXravUNAY4NWRrJJjkyBjyZQ3FIK0qHSGxD7zpOL/QgcBB2/s7rU9nnx2S4lasqorCciJvgnrOmw7KfwqXVCeveASIZxi++RA1X0WVOcPZ1dXaxcc5nLFlmRkgwyBf8/QnkGstStLqgOZGHhiaBWoEkh0aSQ6JmtsjNXOf8AXkcozVaTJxfkm6XeD59XXwHdpJqjFq3RgEwdhc1/l7lD85LufanyJpFkrqOOJCSlmmhJbAIwjLWret4AZoWIio7OzJJgVPMWe9b9FkZVMZKij4SMB8gew/y/kbvJOEg1a/LHMWOwQPBU8M0yEDP+dfV4ULsr/aWAIIJExEBFyMbbR3wHdYcXxrdFqwSLA67CbIFVwLj/3T+Fv68/kIAcgIHBbEHHQr5C/kM4wyLC94I4ASv/4L5pPJ362bk591v2GrUOtIr0m7UF9kY4ELpRPStAPQNfBubKKE05z7SRt5Lpk3rS5ZGvz2qMcYiqhEQ/8frs9i4xrm2g6nMnyKa5ZhEnDikgLCpwAvU1ekXAcgY1i8xRdhX5madcXB3CXhOc2VpsFrMR4gx2xjf/rvkm8ujtN+gNpFhhuCA+ICphrWRnqGttf3MgOYQAX8bnDRLS4pegm2Qd0p8hXtWdRFqRVqzRkYwCBgW/43mhs8Bu9+p1JxilNOQN5JhmPGiU7HKwnrWceu1AFEVWigCOZxGpFDFVtxY91ZTUVZIjjyjLlAfWw+H/47wFuOs17zOjMg+xc3EDse3y2PSmtrT44btKPc8AFcIHw9YFOAXsxnlGaUYNhboEhcPHwtYBxMEjgH6/2r/4v9IAXUDKAYYCfELXg4MELMQHBAhDrYK5wXd/9X4J/E76YfhhNqu1HbQPc5Pzt3Q9tWH3VnnFPM/AEkOjBxVKvE2r0HySTNPDFE8T7FJhUAANJgk6hK1/9LrJ9ijxSq1kaePnbOXYJbDmdShUK6/vnbSoehIAGAY0i+KRYRY2WfJcsZ4eXnJdN5qHFwgSbwy6xnG/3flLswNtSOhVpFghsGAvIBThkWRFaELtULMrOUlAH0ahzMnSlxdUmxndjF7iHqAdG5p4FmVRncwjhjy/73nBdHHvN2r+56elg2TWJRSmpqknrKlw9bWRev9/wsUkCbBNvdDtE2oU7FV31NwTstFeDocLW0eKg8OAM7xBeU52s7RBsz8yKfI28pOz5zVT93m5d3us/fy/zcHNQ22EaEU9xXWFW0UAxLpDnYLBAjmBGQCtgAAAFAAnQHIA5wG1QkiDSwQnBIfFHAUWhO/EJgM/AYZADr4ve8T57reNNf/0JHMTcp/ylTN2dL02mrl2vHE/4wOhh34Kyc5XUT4TG9SWlR5UrxMP0NQNmkmLhRlAOzrsdenxLmzvqVxm2SV+ZNfl4mfNKzjvOnQbOdz/+oXui/KRRJZqmjRc/Z5xHojdjpsb11hSuQz9RqvAD7m0syPtYShmJGDhsiApoAhhvaQqaCBtJjL4+Q9/3YZZTLuSBRcA2sbdfR5ZnmGc6loXFldRpUwBhnGAO/ojdKbvvCtO6H2mGeVmpZknGKmB7SbxEjXKetN/8kSwyR4NEVBs0p0UGxSrVBzSyRDSDh9K3Ud5w6JAAXz7+bG3ObUic/HzJHMus740ujYGOAM6EfwTvi3/yUGVQsbD2URPhLFETIQyg3gCsoH3ARlAqYAz//4/ygBSwM6BrcJdw0jEWAU1hYxGC4YnRZkE4UOHQhlALD3Ze7+5ALc99Njzb3IbMa6xtPJwM9i2Hfjl/A7/74ObB6ELUM78EbkT5FVkFehVbVP7UWZODkodxUfARfsUdfGw2WyC6R1mTaTspEXlVadK6oVu2PPOeaX/mcXji/vRYJZWmm0dAJ77Htad3dtp16OS/80+huaAQ/nh80otgKi+5HMhvWAt4AUhsqQWqAOtP/KI+RW/moYNzGjR7Nalmmtc5J4HnhncsJnulgMRp4wcBmUASDqG9R8wBawk6Nrm+CX/ZiWnkuojbWqxdDXHeuo/owR9iIoMog+oUctTRFPYU1bSGNA/jXHKWgclA72ADL01ehT3wHYFNOc0IjQqdK01kfc9eJG6sPx+/iL/x8FfwmHDC8Ohg60DfMLiwnPBhMEqQHZ/9v+1/7g/+8B6gSdCMQMDREaFY0YChtAHO0b4xkQFnwQSwnAADb3H+3+4l7Zz9DayfzEm8ICw1zGrMzR1YHhTe+l/t4OPR/4LkY9aEmzUphYrFqzWJxSjEjZOgYqxBbjAVHsBdf9wi+xeKKalyqRjI/tkj6bN6hWuebNB+W1/dcWTy/8RdNZ52lzdeh77nxveJRuxV+mTAw2+ByHAujnTM7Ztpyif5I4h0iB7oAshr+QKaC0s3nKbuNz/VoX/S9FRjpZDGgecg13snYlcbhm+VegRZIwzBlbAlDrsNVqwk+yA6b7nXeagJvpoFKqMLfSxmzYIusP/lUQKSHTL787gETSSZ9L/EkpRYk9mzP5J0cbLg5VAVb1terd4R7bpNZ61IzUp9aB2rnf5eWS7FHzuflu/ycEtQf9Cf8K0gqkCbIHSAW4AlQAa/4+/QD90f24/6cCeAbxCsMPlRQFGbAcOB9MIKsfLB3CGHsShAopAc/27esS4dDWvM1nxk7B275Zv+/Cn8lC04ff+u0D/u4O+R9TMC4/xEtmVYJbr12tW29VHUsPPdArExiwAprsztZPwhawBqHilUCPh43ikEGZWqaot3PM1+PO/DwW/C7vRQZaUmoNdqh8y31geZFvyGCpTQs37x1zA8noIM+ft1OjJJPJh8GBTIFphteQF6BzswXKxeKU/EYWuS7WRKlXZWZvcGV1InW+b41lGVcaRXIwGRoZA3/sSddkxJm0iaimoCydIp5bo3is8LgVyB/ZOOuB/SUPXB95Le04UEFkRhdIgUbfQZU6ITEVJhEatw2mAW/2jexl5DzeOdph2JvYs9pd3jvj5ujx7vH0h/ph/z0D9wV9B9cHJAeWBXEDAgGc/o78I/uY+hj7u/yA/04D9gc1DbMSEBjkHMggXiNSJGYjdiB4G4IUyQuhAXj2z+o731fUwMoJw7W9Lru/u46/msa20IzdoexV/e4OoSCXMftAAk77V1BelmCOXi1YnU07P5UtZBmGA/Lsq9a5wRqvtJ9LlHmNpIv2jl+Xk6QKtgrLq+Lj+5QVmC7KRRxam2qDdkJ9gn4tem5wr2GVTvo33R5gBLLpA9B6uCWk6ZN9iGCCz4HLhhKRI6BLs6TJKeK6+zAVai1WQwFWomSfbppzbnM0bkBkGlZ6RDwwVhrPA6zt59hoxvO2Jatqo/2f4qDspbyuzLpxyejZX+sA/fsNkh0cKxI2Ez7mQnxE70J+Poo3ji4aJMYYLg3oAX33X+7p5lvh0t1P3LTcy95I4s7m+Otg8aP2Z/tj/2ICRgQHBbcEewOMATP/vPx8+sH40vfn9yT5mPs5/+UDZAlnD5IVexu1INUkeidRKB4nvyMxHpAWGQ0nAjL2xOl53fbR28fCvzG6lLc2uDu8nsMuzpDbQuuc/N0ONCHCMqxCJFByWgBhYWNWYdZaDVBbQVQvthpjBFftnNY9wTyug57YktaL44kqjZqV5KJ/tKzJguH1+uMUIi6ORRRaw2rUdrd9FH/WeipxeWJrT9g4wx9LBaHq9NBruRKlzpRViSSDeYJTh2+RT6A9s1jJmeHm+hgUEyzGQURUw2KwbK1xl3GHbNFi/VS+Q/AvhBp6BNXuiNp2yF251a1Gpumiv6ObqB6xxLzmysbamOuM/NoMyhu8KDAzyzpZP85ASD8FO2c05SsJImcXkwwbAn/4KPBp6XjkbeFC4NXg7uI/5m/qGu/h82X4V/x2/5UBogKdAqEB2/+I/fX6dPhY9u70efQs9SP3Z/rj/msEwAqJEWAY1R52JNQoiytILNEqByftIKQYcg66Av31zOjO26zPDsWUvMW2D7S/tPa4rMCsy5XZ3enY+70OsiHUM0JEKFLLXJJjDmYDZGddalJvQw0xCBxGBcrtodbawHytcp2HkVaKRYiAi/OTTqEGs1vIX+AF+icUmy05Re9ZyWoBdwV+f39be8RxJmMpUKY5nyA0BpXr8tFvuhmm0pVQig2ESYP/h++RmaBJsx/JF+EY+v8SsyooQHFSy2Cjap9vnW+4akFhwVPoQo4voRobBfrvLNyMytS7mLA6qfCluaZnq52z2L51zLrb4+sl/MALBRpbJkgweDe9Ow89jTt4Ny4xJSnjH/UV5ws/AnT56PHj65PnCeU55P7kG+dD6h3uTPJx9jj6V/2Y/9gADAFAAJb+QvyJ+bz2LvQz8hjxGvFo8hj1KPl9/uEECgyYExwbHiIoKMUskC82MH4uTSqqI74a1Q9bA9j16ec42nnNW8J+uXCzobBbscC1xb0wyZrXdOgK+40OHSLPNLxFDVQEXwRmnmiUZuFftFR1Rb8yWR0wBkruuNaQwNmsg5xakPuIy4b3iWqS0p+hsRbHQt8T+WITAy3ORK1ZrmoJdy1+xH+6ezxytmPPUGI6cCEaB47s/NKHuzmn9ZZtixyFPoTRiJKSA6Fxs/zIo+BS+ecRTSl7PopQuV55aHFtgm3GaJBfZlL3QRYvrRqxBRrx0d2qzFm+bbNErBCpzqlQrji2B8EczsXcQOzN+7AKRRj5I1stHDQUOD85wDfWM+AtUCaoHW4UKAtTAl36nvNW7qvqpeg06CzpUOtR7tnxi/UQ+Rr8aP7L/yoAhf/w/Zb7s/iS9Yjy6+8P7j/ttu2c7wHz3PcI/kYFQw2VFcUdVSXIK6YwhzMZNCMyjy1nJtwcQBEIBMT1Gee62GDLwL+CtjSwSa0Mrpyy67q7xqHVB+cz+k4OcyKwNRpH1FUdYVVoDmsJaUFi6VZsR2g0qR4gB9bu49ZewFSstZtRj8SHdoWQiACRb55RsODFK94g+JUSXCxMRE9Zcmrtdi9+43/1e5JyJ2RcUQs7NiL8B4ztEtSxvHKoNZisjE6GWYXIiViTjKGzs+7IP+CT+M8Q4CfBPJBOj1wyZiNrRWuzZr9d7VDrQIcupxo8BjXyd9/OzurAU7Zjr0is/qxUse+4UMPdz+Xdr+yC+6oJihaYIWkquDBfNGE14TMhMH0qZyNZG9QSWApXAjn7SfXB8L7tP+wv7F/tjO9p8p/11/i++wz+iP8MAIz/Df6u+6L4L/Wk8Vruq+vs6WTpTerJ7OHwhPaF/ZsFaQ5+F1ogeChVL3Y0cDfwN8A1zDAjKf0esxLCBMH1XeZR11/JQL2gsxOtCqrTqoqvH7hPxKvTl+VT+QEOtSJ5NlxIfFcVY4ZqX21ha4hkCllUSQg29h8TCG7vINdEwOurCZtrjrKGRYRNh7WPKJ0Wr7jEHN0t98ARpiu0Q9ZYFmqtdgt+238KfMVyeWTQUaE78CLaCIzuMtXtvcOpk5kMjqWHmYbjikGUNqIQtPXI6t/d97kPbSb7OoNMTVrPY7Zo52h+ZM1bVk/EP+EtkBq6BkrzHOH40IbDSbmXspivR7BztMG7tMW10RrfMe1G+68I1RQ4H3UnTS2gMHUx8i9ZLAgnaSD2GCgRdglMAgb86vYk88vw1+8r8JTxzvOI9nD5L/x5/gsAtgBeAP3+pPx6+bz1tvHA7TXqcufL5Yrl4ebw6bjuIPXz/N8Ffg9UGdsihyvPMjQ4STu6O1M5AjTeKyIhLhSHBc31tOUA1njH27rasAyq5aawp4usYbXtwbrRJeRq+KUN5CIqN4FJBVnsZJZsj2+abbRmFFsrS543QSELCRHwbtdDwKCrfZqpjcaFOYMshouO/ZvxraDDFdw69uMQ4SoIQ0FYmWlKdsJ9rX/5e9VyrWQpUiQ8nSOyCY/vXdY6vyurDZuMjx+J/ocjjE2V/6KJtBPJpd8x96UO9iQqOWZK9FdRYStmamYpYrtZoU2CPiUtZxorB1f0wOIm0yzGTrzctf2yqbOst6y+Mcim02bgxe0Z+74HJxPbHIAk3CnXLHwt9CuBKIAjWR2AFmkPgggxAsb8fvh+9dLza/Mm9Mv1E/iu+kn9kv8/ARkC9AG/AH7+SvtW9+XyS+7n6RjmP+Ov4bDhdOMS54fssfNT/BIGfxAWG0clgS41Nt47ED91P9o8MjeWLkgjrxVXBun1IOXG1KrFkbgxriGn2qOlpKCps7KWv83PsuJ79zwN/yLCN4pKblqiZoNunXG0b8RoB13wTCk5hyIGCr7wzddYwHKrEpoMjf6EUoIwhYGN7prkrJnCGNtJ9QEQDypGQpJX/WjDdVJ9WH/De8FywWRpUpI8PSSFCpPwkNeXwKqso5wtkbyKhomHjXuW6KMetUjJcN+P9pQNfCNPNzhIhlW5XoNjzWO0X4pXzkslPVIsKxqQB131YuRY1dvIYL80uXi2Irf9urHBx8qt1cfhbO77+tkGgBGBGokhZyYHKXkp6CeaJOcfNxr4E5cNfgcFAnj9BvrO99H2+vYe+AL6XPza/ikB/QISBDQEQQMwAQ/+AfpB9R3w7+ob5gfiFN+Z3drdBuAw5E7qOPKm+zUGbhHDHJ4nZTGEOXQ/xEIgQ1VAWTpJMW4lNhcyBxT2n+Sk0/fDZLakq1Ok6qC0ocumF7BKvebNP+GE9sYMCCNCOHZLt1s2aE5winOucbdq4l6kTqc6yCMDC3TxPtiFwGCryJmSjF2EkYFYhJmM/Jnuq6LBJNpb9BoPMClxQchWQmgZdb183X5oe4tytWSNUuw8zyRQC5jxy9gDwj6uVJ7tknuMM4sPj82X8KTOtZPJTd/39YgM/yFrNftFBFMJXMBgEmEgXTtV3kmuO2gr3RnmB1v2AeaM15HLfsKcvAa6sbpmvs/Edc3M1zzjJu/t+v8F4g8sGJQe7iIwJWwl0COjID4cAxdeEbULaAbKARr+gvsT+sf5gvoT/Dj+pQAIAxAFcgbwBlwGnASxAbH9yfg982Ttoedc4gHe89qJ2QfamNxL4Q/otPDs+kgGShJbHt4pMjS9PPRCZUa5RsJDdj34M5UnwRgYCE/2MeSY0l7CU7Q1qaOhF57cngykjK0LuwbMzN+I9UQM/iKrOEZM4FyoafVxVHWHc41spGBDUBk8AyUCDDTyvtjIwGqrn5k8jOGD9oClg9OLKJkQq77AO9lw8y4ORCiIQOVVaGdMdAN8PH7mejByiWSWUjA9UiUVDJ3yDtp+w+evH6DLlFuOA427kECZGaabtvbJO99r9YALfyB+M7BDblBBWeBdOl5uWs1S0kccOmYqfBkvCE/3nOfC2U7OqMUTwKe9Vb7mwQTIOtAC2sfk8u/u+jMFTA7cFaAbdB9UIVchrh+gHIYYwBOzDsEJQgV+Aa7+7/xL/LT8A/4BAGsC7gQ6B/0I7wnYCY8IBQZAAmL9ofdK8b3qZOSt3gna3daC1TrWLNlk3svlKO8k+ksGExPfHwgs5zbeP11G8ElBSiBHiECgNropURoGCZj21+Ok0eDAX7LkphGfYZsfnGWhFKvZuC3KW96G9LYL4iL7OPpM6V33anlz+3Y+dUVuTGLPUX09NyYBDfvyTdkhwZCrlpkKjIuDgoAWgy+Lc5hLquy/XtiI8j4NTieNP+lUcGZdcyR7dX0/erNxPWSEUl09xSXQDKHzV9sFxaOxA6LHllyQ9Y6JktWaYaeEt3DKO9/q9H4K/x6KMVhBxk1iVudaRlufV0JQqUVxOE4pCBlpCDr4M+n52xDR28iXw1nBDMJ7xU/LFtNN3Gfm0fAA+3MEwQySE68Y+ht0HTodgRuRGMAUbRD4C7wHCgQjATP/T/54/pX/egHrA5oGNwltC+0Mcg3IDM4KewfeAiT9ivZq7yjoN+EO2x/W09KE0XPSxNV924Ljk+1R+T4GyRNNIRouhDnmQq9JZU20TW5KjkNBOd0r5Bv9Ce/2kOPI0Hy/ibCzpJ+cyZh/mdeesai3tl7I69yA8xwLtSI1OZFN0l4jbNl0fnjUdt5v2mNFU9I+ZCcADsrz69mPwdGrrpn7i1uDM4Ctgq6K3JegqS6/jdem8UsMTCaBPtVTWmVMciF6iHxzeRFx0GNVUnU9KSaDDaT0ptyaxnOzAKTgmH6SCpF6lIycyKiIuALLTt939IIJfx2QL/M+DUttU9VXNliyVJpNZEOrNh8ogBiUCBv5xeou3tbTF8wpxxrF18UlybDOCNau3hrowvEh+8EDPwtQEcEVfxiRGRkZTRd3FO4QDA0uCagFwwK3AKj/oP+WAGsC6QTMB8QKfA2fD98Q+hDADxYN/QiLA/b8hvWb7aXlHd6A10XS186SzbPOX9KW2DXh9utx+CIGbRSlIhQwCDzVRedMw1ATUapNh0bZO/0teh39ClP3W+MC0DS+0K6gokyaUZb7lmKcY6altJjGf9t18ngKdiJXOQxOm18tbRV23XlHeFZxTGWmVBhAiCj/DqD0l9oSwi2s5ZkQjFCDDIBqglGKZZcPqYO+ydbJ8FYLQSVjPapSJ2Qbcfp4dnuBeExwQ2MKUnY9fCYsDqT1+d06yFS1FKYVm76UP5ONlmSeT6qpuavLc98Q9I0IAByRLYQ8Q0hkUKtUDFWqUdZKBUHMNNkm5hevCPD5UOxj4J/WW8/GyuvIssnizCXSD9kk4eLpxfJT+x0DyQkVD9kSBxWuFfMUERNUEBANnglWBoUDbAE7AAwA4QCnAjQFTAikC+gOvhHRE9MUhhS/EmkPiwpGBNj8kvTf6zXjF9sF1HzO6sqryf3KAM+w1eXeUuqG9/YF/RTnI/cxcj6qSAZQCVRcVNRQcUloPhkwER8EDMX3OeNUzwe9Nq2uoBqY+JOWlAiaK6Sjst3EF9po8coJJyJjOWtORGATbix3F3uWea9yombvVU5Boyn7D3v1UduqwqOsPJpJjGuDCoBMghaKDZeZqO29E9by718KLSQ2PGhR2WLJb693P3pqd2NvlGKjUV89vSbLDqD2Ud/kyUe3P6hlnR6XlpXBmF2g9avmum3Mq9+3858HghqNKws6a0VITWpRyFGHTvZHij7UMn0lNxe8CLv61O2V4mvZpdJszsnMns2y0K7VKtyu473r2/OW+4YCXwjkDPYPkhHKEcoQ0A4pDCkJJQZwA1MBBgCx/2EAFAKpBPAHpAtzDwMT+RX/F8YYFRjDFcMRJAwPBcr8sfM26trgJNic0MXKDsfTxVLHqMvO0pTcp+iR9rsFexUTJcAzwkBkSwpTNVeOV+lTTEzsQC8yqSASDUP4KuO+zva7uqvdngmWwJFPksqXC6KzsC3DtNhZ8BMJyCFYOa5OzGDWbh54K3zCeuZz22chV3JCtCr1EFz2F9xVwzStspqkjKyDL4BUggCK1pY+qG29a9Ui72gJESP5OhBQb2FXbkF243gvdlZuxmEfUTE97iZfD5j3q+CYy0m5f6rPn5qZDJgWm3eiua0+vEbN999s87oGBxmGKYg3hEIZShNObE5KS/xE9TvDMAokdha4CHn7Ue/D5Djc9NUc0rPQmdGS1EnZWN9L5qvtA/Xo+/8BAAe8ChsNIA7nDaAMjAr4BzgFoAJ+ABT/kv4W/6cANwOdBp4K7g42ExUXLhooHLgcpRvMGCYUyA3lBcz84fKh6JLeRtVJzSHHQsMJwrLDWMjvz0La9+aR9XIF5hUpJnE190ICTvJVRlqnWupWFk9kQ0A0QCIlDs74LOM+zv+6XaosnRqUqo8nkKiVAqDWrovBVtdJ71MIWSE3OdZONWF2b+t4G33Ke/x092g7WIRDuivsEUH36dwTxN2tRpsijRKEe4CDgg2Kv5b/pwO909Rb7nII7iGtOaRO6l/FbLF0Y3fPdCZt1mB9UOo8CyfmD4z4B+JVzVq71KxSojScoZqLnbCknK+zvTjOV+Av894Fjxd9J/80kT/aRqhK+Ur0R+lBRzmbLoEioRWkCCv8xfDu5gTfRtnT1afUodWC2PbcmeL76KvvPPZM/IYBrwWeCEgKtQoICnYIRAbBA0ABE/+B/cf8Dv1s/t0ASgSACD0NKxLsFhwbWh5MIKcgNR/YG48Wdg/IBt78JPIf52DcfdILypLDir9Pvh/AEcUUzfDXQ+WI9BoFPhYpJwg3EEWDUL1YPF2nXdVZzlHQRUk21yM+D2T5P+PVzSS6H6mcm02StY0hjqOTE54NrfW/ANY47osH2yABOeNOfmHzb5N55X2sfPB19Gk8WYNEtCzeEin4xt3jxJ+u+JvCjZ2E7YDXgj+KyZbcp6+8StSc7XwHxCBUOCNNS14Wa/9yv3VKc9NrxV+/T4w8FydiEHr5ZOMaz3q9PK/tpOmeVJ0foAinnLFDv0LPyuAB8wwFHBZyJW4ykzyKQylHcEeHRL0+gTZaLOEguBR/CND8MPIT6c/hnNyR2abYtdmA3LPg6uW8673xh/e//BwBagSMBn0HTwcsBk0E+wGI/0P9fft5+m36fPuy/QMBTAVTCssPWBWUGhgffSJpJJIkxSLnHv4YLRG4B//8ePGy5UTay8/jxhjA5bunupu81MFAyp/Vi+N287UEhRYSKIY4DkfnUmtbFmCNYKhcc1QtSEo4ayVbEAX6ZOOCzWW5AKgvmqSQ44s7jL2RPpxZq2++sNQn7b0GTyC2ONVOp2FNcBV6iH5qfcF20mojWm9Foi3LExT5rd7FxXqvyJyEjkyFhYFRg5WK9JbWp3K80tPm7IkGlR/uNo9LlFxIaSxx+HOicV1qlF7kThQ8DyfREGL6wuTm0Ka/t7Ggp7ihJKDSon+pu7PuwGPQUeHj8kQErRRmI9gvijksQJlD0kMCQXk7ojMCKi0fvBNKCGf9kfMy65jk8t9T3azc1N2M4H7kTOmP7uHz4/hD/cEANAOGBLwE8gNVAicAtP1L+0D53/dn9wj43fnq/BkBPgYVDEkSdRguHgYjlCZ9KHgoUib3IXEb7RK0CC/93/BZ5D3YMc3Tw7a8VrgStya5o75zx1HT0OFc8kIEuRblKOo570gtVftd0mJXY2NfBFd8SkI6/SZ9EbD6meNGzcC4AKfjmB2PNYp3ivWPhJq6qfe8atMX7OcFth9XOKxOsWGDcHJ6Bn8Cfm93kWvwWkdGgi6zFAH6nt+4xmywtZ1njyCGQoLxgw+LQJftp0y8a9M67JgFYR59NehJxFpeZzhvDnLXb8VoQl3rTYQ79CYyEUL7H+a40t7BQ7RoqqKkEaOjpRSs9rW0wp3R7eHV8ocDRBNcIT0teDbBPPc/IEBoPR44rTCUJ2MdrRIECPH96PRL7V7nSeMZ4bjg/eGj5Fjovuxy8RX2T/rY/XYADAKNAgcCnQCG/gb8bPkN9zr1O/RM9Jj1MvgU/B8BHwfGDbUUgRu4IeUmnyqILFYs2ykHJekdtBS7CW/9WPAV407WrsrawGq53bSRs8K1f7uuxAbREuA68cID2xaiKTQ7s0pVV2xgb2UFZgVigFm7TDA8iyihEmX73uMgzTe4H6a5l7qNqojViE2O5ZgxqJC7LNIJ6w0FDx/jN2pOm2GXcKp6XX91fvl3MGyhWwlHVC+TFe/6mOC7x3Sxv55skBiHJoO3hK6LrpchqD68FtOZ66oEKR0ANDBI3VhXZSVtA3DpbQpn0FvVTNw6xSaFERv8e+eO1CLE37ZFraSnGaaQqMauTriVxO/SneLW8tUC4RFSH58qXTNJOUY8XDy6Oa40oS0QJYQbixGuB23+NPZb7x/qn+bh5MvkLebF6D7sPfBk9Fn4zPt8/jsA8gChAF7/U/2++un3KPXQ8jHxkvAr8R/zevYv+xUB7wdlDw8XfB4wJbUqnC6HMCwwYC0WKGQggxbNCr394+/m4XXUQ8j7vTi2e7ElsG+yabjzwb/OVN4S8DcD7BZJKmQ8W0xeWb1i7meVaI1k5lvoThM+FSrHEyL8M+QPzci3XaWxlnuMQ4dXh8aMYpfApjq6+dD+6S0EXB5dNw5OZ2GHcLx6jn/Cfl94r2w4XLZHGDBtFt77meHNyJKy5J+QkTSIL4SjhXGMPZhyqEm809IE68ED7xt5MmdG31Y2Y/Nq1m3Zay5lPlqiSxo6gSbKEev81Ohp1m/Gi7k3sL6qO6mZq5WxwbqQxljUYePo8i8ChhBMHf8nPDDHNYY4hjj4NSkxgCp3IpEZVhBGB9v+dfdj8dvs8+mq6OHoZerw7C/wyfNl9636Wf0x/w8A6f/E/sD8E/r+9tPz6fCU7ift5ewC7pzwtvQ8+vwArQjxEFcZYyGWKHQuizJ5NPkz3zAjK+AiVxjpCxn+gO/M4LTS8sU2ux+zMq7PrDGvY7VCv33Mldzj7p8C6xbaKno95U1IW+5kTWoIa/lmNF4DUek/mCvuFOj8l+QUzXS3u6TLlWCLAYb8hWCL/ZVnpfa40c/36EoDnh3ENplNFWFWcKp6mH/ofqJ4DW2yXE1IzDA+F8z8ouLuycazJKHVknOJXYWzhliN75jiqG28o9J76t0CshrqMI9EzFT6YKNoiWunaTBjjVhSSj45KiYAErL9K+pG2MXIRbw7s+6td6y9rn+0UL2lyNnVOeQL85YBMg9IG10lFi07Mrk0oTQkMpAtSifJH4oXDg/OBjn/qfhi85DvRO1y7Pnsoe4j8Sv0Yvdz+g/99f71//T/7v70/DH63/ZJ88bvruxc6h3pNunV6hHu6PI8+dMAWwlrEosbNyTpKyEyaTZeOLs3VjQtLl4lMRoQDYT+L+/H3wvRusOMuCGwAquRqQasbLKdvELK19qv7fwB2hZUK3Y+UU8RXf5mi2xbbUlpamAMU7NBFi0WFrb9CeUtzTu3N6QJlWqK5YTFhBuKtpQnpMS3tM7052MC1RwZNgxNpWACcHJ6fH/pfr94Sm0PXc1IcDEHGLj9seMcyw61fqI4lNSKr4bph2SOwZlvqaq8hdL+6f4BcxlSL6dCpVKlXjZmHGlUZxJhu1blSEo4vSUmEnD+fusm2iLLC79QtjSxyq/8sYS3+b/TynLXJuU+8wkB5w1JGbsi6ymnLuEwrTA/LuQpASQHHXAVsw1FBon/0PlX9T/ykPA58BPx4vJc9S/4BfuN/X//nwDIAOj/Av40+6/3t/Of78Hre+go5hblhuWj53/rEPEw+JoA9gnSE6od9iYoL7s1NTo0PHE7xTcyMdsnEBw/Dvz+7+7X3nrPncH8tT+t7adrpvGoh68Fug7IGtl27E4BuBa5K1c/oFC7Xu1op26Ob3xriGIAVW5DjC4+F4r+ieVbzRy306NolJmJ7YOzg/mIjpMAo6a2pM325noBAhxdNWdMGGCNbxV6On/Dfrl4ZW1PXTVJAjLFGKP+xuRXzGm28qO5lVeMJYhEiZOPtpobqgC9fNKP6ScBNBiyLbNAalA3XK1jkWbhZNNey1RcRzw3PCU8EiP/zOwH3IfN3sF2uY20NbNTtaO6vMIazSHZKOaD84oApQxOFxogvCYLK/4sqyxKKicmpiAzGkITRwyqBcn/6vpA9+T01vP+8y31Jfea+Tr8sv6yAPsBWAKrAev/J/2E+T31nvAC7MjnUeT64RHh1uFu5OfoLu8W91MAgQolFbYfoClSMkA57j35Pxk/KzsxNFgq8h13D4H/we783QHOmr+Js3iq86Reo/Kltax6t+LFYNc665cAhxYJLB5A0VFDYLlqonChcZFti2TgVhpF+S9kGGX/FuaczRa3jaPqk+yIG4PGgvqHhJL0oZ21osz+5Y8AJRuQNKtLbV/2bpR50n53fo14Xm1yXYZJhDJ5GYr/3+Wezde3fqVZl/uNv4nDiuaQzJvlqm+9h9It6VYA9hYNLLE+HE6yWQhh52NPYnRcvFK2RRU2piRCEsv/Fe7o3fHPu8SrvPq3trbCuNu9mcV6z+faPufZ8xkAbgtaFXsdjCNqJxIpnihHJloiOR1MFwMRyQr/BPr/9/sf+YH3Fve+90X5afvc/UsAZgLjA4QEHwSdAv//W/zj99rylO1y6NrjMODT3RHdJ9444UnmRO3x9f7/+gplFqwhNCxmNbA8lEGsQ7JChT4qN9Is1h+2EBIApO433aHMs70zsc+nFqJtoAyj96n/tMDDqdX76df/RRZELMtA5FKrYWNsenKSc4hvc2apWLdGXjGJGUQAr+bxzSq3ZaOOk2SIb4L+gR6Hm5ECoai0rssN5aT/QBqzM9hKpl4+bu94Q34Ffj14Nm13Xb5J8zIiGm0A/Obwzli5IqcVmcCPfItmjFySBJ3Nq/m9ptLb6I7/uRViKqQ8vUsXV0leIWGeX/dZj1D0Q9U0+iM4EmYAV+/I32DSosfuv3i7S7pIvCrBjcjx0cPcZ+hA9Lf/QQpsE94aWyDFIx4lhiQ3In4euxlUFLIOOQlEBBsA9vzx+hT6Tvp4+1v9rf8gAmEEIgYdBxkH9AWeAyEAoftU9ojwmury5PnfG9y12RfZe9oA3qfjUuvB9Jn/YguRF4wjsi5iOAlAJUVNRzxG0kEaOkkvvSH9Ea8AmO6H3FnL57v6rkSlVp+XnT6gTaeTsqnB9tO56A3/9RVpLF9B2VPyYuttL3RhdV5xQGhcWkNIuDKqGigBVedZzle3XKNVkwGI6YFcgWaG0pAtoMmzycok5Lj+UxnHMu9JxF1mbSZ4j31sfcd362xeXdxJTzPAGk0BHOhM0Om63qjtmqWRXI0sjvaTXZ7TrJ2+29KX6M7+fhSyKIw6TklnVHFbPl7PXFtXRE4WQnwzOSMcEvcAk/Cn4dLUkco+wwe/9L3kv5HEmct/1LXepem59GL/HwmGEUYYKh0cICQhZSAbHpQaLhZMEVAMmQd3Ay0A5v22/Jv8ff0t/2sB7wNlBnsI5QlfCrkJ1AesBFQA9vrV9EfuseeB4SfcEtih1STV09bJ2gLhWOmG8yb/uAupGFclGDFHO0tDn0jZSrRJE0UCPbwxpSNKE1kBnO7s2yvKN7rerNeitJzemoqduqQ5sJ2/SdJ25zz+lxV6LNhBr1QYZE9vwHUOdxVz72n3W71JBzTIGxACBujTzpy3cKM9k8KHioHggNGFKZBznwGz9MlD4839YBjNMfFIxlxtbDl3tnyufC13fWwmXeJJmDNQGycCP+my0Yq8r6rgnKiTXY8WkLKV15/4rVu/JNNi6Bf+RhP/Jmo40EaiUYFYQFvkWaFU3EscQAoyYyLwEXsBx/GD40fXiM2ZxqXCr8GUww7IvM4k17zg9+pE9Rz/CAioD7IV+hlxHCQdOxz0GZ4WkxI0Dt4J6AWbAi8Ax/5t/hf/oQDYAncFLgiqCpcMrA2pDWIMwQnJBZYAXfpo8xjs2eQh3mXYFtSY0TnRMNOU11veWedB8qX+/QuuGQsnZjMTPnRGAUxQThpNREjfPyk0jCWcFA0Cse5m2xbJo7jhqoqgMppCmPGaPaLxrZ29odAz5mP9KhV3LDhCaFUcZZBwLneXeKp0gmt5XSRLSzXhHPsCwehez/m3oqNIk6mHUIGKgGKFoo/XnlCyL8ls4uP8ZhfFMN9HrltWayl2t3vKe2527WvPXM5JzTPUG/sCYuog0zq+lqzunsqVfpEhkpGXcqE7rzPAg9M+6Gv9ERJJJT82Q0TKTnpVKFjcVstRWEkIPoAwdyGxEfIB8/Jc5b3ZhdD/yVHGe8VXx6DL9NHe2dniXOzf9eX+/gbUDSUTzRbGGCEZCxjFFZwS6w4OC1wHJwSuASEAmf8WAIQBuwN7BnwJaQztDrQQdhH4EBMPuQvzBucA1PkN8vzpFOLT2rTUKtCczVnNlM9h1LLbVOXz8Bf+MQydGqgonDXGQIRJTE+wUW1QZkuxQpA2cyfzFcwC1u712hnIK7cDqVyez5fFlXOY2Z+8q6u7Ac/w5IP8sBRhLH9CAlb+Zaxxdnj8eR129mziXnhMgjb1HekDhun6z2648qNzk7SHPYFagBeFPY9XnrexfMie4fz7ZhawL7lGfFofavd0k3rAeol1O2taXJ9J7jNKHMgDhuuW1Pm/ka4VoQqYwZNPlJGZLqOcsCbB+NMq6Mj84RCSIw00qUHgS11S91S5U9lOt0bZO90udiBiEVsCFvQx5zTchtNuzQrKV8kty0bPQdWt3Arl1O2N9r7+AQYJDJ4QpBMbFRwV1hONEZAONwvaB8wEVgKxAAMAWwCwAeYDyAYUCngNnhAsE9EUQxVNFM0Ruw0qCEcBXPnF8PLnYt+Y1xTRTsyuyYPJ/8sy0QnZS+Ob73z9VQx5Gy8quDdeQ3pMfVL5VKpTd052RfA4WClOF5UDCu+Y2jbH0LVEp0+cjZVnkxOWjp2bqce5ac2u4577KRQ3LKxCf1a/ZqVymnk9e293TG4xYLhNqzcDH9cEVOqn0Pq4XaTAk+OHUIFRgPGE+o72nTax2sfb4Bj7YxWPLoBFMVnLaKNzS3mReYF0ZmrFW1ZJ+jOxHI4EquwS1sXBn7BUo2aaIpadlrKbCqUasjPCg9Qn6DH8tg/ZIdUxAz/mSCtPr1F9UMxL/EOQOSEtYB8AEbcCL/UA6arejNbk0M7NQc0Tz/7SotiQ307nX+9M96b+EQVJCh8OgBByERURnQ9PDXwKeAeZBC4CdwCm/9f/DgE8AzkGyQmiDWwRzBRnF+sYEBmlF40Uxw9tCbcB9fiO7/zlxdxx1IfNhMjQxbrFc8gJzmHWPuE87tX8ZwxBHJ4ruzncRVRPk1UpWNFWdVEuSEc7OiutGGcETe9Q2mzGkrSkpWOabJMpkdCTXJuPp/K32stu4rP6lhP6K8FC3lZfZ3pzmHpafJ14gm9mYeNOxjgKIMcFKutj0Zy55aQulDeIiYFugPCE2Y6znc6wS8ck4Dj6WxRkLTREzldZZy5y4Hc9eFRzbmkRW/JI8TMKHUwFzO2U157DwLKrpd6copgLmfWdBae2s1rDJNU16Kb7kQ4hIJYvUjzbReVLT04nTaRIJ0EtN08rNB6MEAQDPvbK6h7hk9lh1J3ROdEK08jWFtyH4qbp/fAc+J3+LgSUCKgLYQ3MDQ8NYgsNCWAGsANOAYP/iv6L/pr/sQG4BH0IvAwjEVQV8RicGwId3hwAG1MX3BG8CjQCn/hr7hrkPNpf0Q/KzcQCwv/B8sTmyrvTL9/V7CH8agz0HPYspTs+SBNSjlg/W+JZYFTWSpQ9GS0OGkEFnu8c2rrFcbMkpJmYbZEMj6uRRZmapS62VMox4cX5+BKrK71CH1fcZyt0cXtRfah5mHB+YvdP0jkJIbYGCOwu0lO6iaW9lK+I54GxgBWF246PnYCwz8Z53135URMuLNhCVFbKZZhwUXbFdgJyVGg+WnRI0jNTHQEG7O4c2YLF8rQZqHCfQJuam1egIKlwtZzE29VV6Cf7cg1qHlMtlznCQo1I2kq5SWRFOD6xNGQp8xwGEEIDQ/eN7JDjndzk13TVPNUO16Lam9+Q5RHsrfL9+KX+WgPrBjsJSgorCgsJJgfGBD4C4P/4/cz8j/xh/U3/RAIkBrIKoA+WFDEZDR3KHxQhqSBdHh4a+BMWDMACWfha7U3iyNdizqzGKcFGvlO+fcHKxxnRHt1n62L7XAyTHTYucz2ESrRUbFs6XtpcNldvTdc/8i5wGyQG/u/82SLFbbLEovCWkI8RjaaPS5e7o3u02sj339L4TxJLK6JCQ1c5aLd0JXwifo96jXF7Y/ZQzjr/IaQH7OwH0yC7R6ZrlUqJbIIbgV+FAI+JnUuwZ8ba3of4RRLuKmtBwlQgZOJun3QodY1wGGdLWdpHnTOLHawGCvCm2nDHNbecqhyi+51GntiiWqtHt/jFqdaH6LX6Wwy0HA0r1DacPyNFUEc1RgtCMDseMmMnnRtuD3IDPPhI7v/lp99q21LZStkg24veMeOq6I3ub/Tw+bz+lAJOBdkGOgePBgkF6gJ+ABj+CPyZ+gn6hvoo/PD+xwJ/B9YMdRL7FwEdHSHuIyAlcSS6IewcHBZ7DVoDJfhc7JXga9V8y1/Dm72dure6FL63xHrODNv06Zj6PwweHl4vKD+uTDhXLV4aYblf91n3Tw9CxjDTHA0Ha/Dv2aLEhrGFoWqV1403i8GNbJX1oduya8fD3t33nBHZKm9CSld0aB91snzOflJ7YXJbZN1RuTvsIpAI1u3u0wG8IKc5lgmKFoOrgc6FSY+jnTGwFMZK3rj3NxGmKe8/G1NaYg1ty3Jpc/RuumU6WCVHUjO0HU0HJPE13GfJhrkzreGk0aARoXilsa06uW7HjdfK6FD6TAsBG8QoCTRqPKlBs0ObQps+EThyL0slMxrDDpIDKfn872josOLz3jfdYd0934Li1ubV6xrxQvbz+uP+3AG/A4EENAT6AgwBsf42/O75Kvgx9zz3cvji+oX+OQPKCOkOOBVQG8IgISUJKCUpNigWJb4fRhjqDgEEAPhy6/LeJdOuyCrAI7oJty23ubquweDL+th86MT5EgyVHm4wwUC6Tp5Z0WDdY31ioVxsUjlElDI1Hv0H5fD12TvEvLBmoAeUQIyBif2LrJNHoE2xCMaT3eb23xBXKiVCNVeOaGN1Gn1Uf/B7E3MdZaxSkzzOI3oJxu7h1Pa8E6gll+qK5oNhgmOGtI/dnTKw1cXH3e/2KRBWKGQ+X1F7YBpr1nCGcTltOmQIV1RG8DLLHeMHOvLF3WjL5rver76nw6P4ozaoJ7BJu/3IiNgh6fn5RgpSGXkmNzEtOSE+BEDsPhU72jSwLB0jtBgGDqMDCfqm8c3qt+V+4iHhgOFl44bmieoQ77jzJfgH/Bv/NAE9AjYCNwFu/xX9evrt98L1SPTD82b0UfaO+Qr+nAMDCuoQ6xeUHnMkFykXLCEt9CtvKJAidhpiELUE7Peb6mXd9dD4xQ29wraKs7Wzbrewvk3J6db/5uX41gv4HmcxP0KpUOVbVWOCZidlM1/PVFZGWTSXH/MIa/EN2uzDDrBnn8aSzoruh1qKCZKzntSvs8Rq3O31GRDFKcVBA1eIaIN1XH2zf2p8o3PBZWJTWj2mJGAKuu/g1f29H6kxmO2L2oQ9gx2HQ5A3nk2wrMVU3S/2HA//Jsw8j0+CXghpwW6Bb1prmGK4VWhFdzLRHW4ISvNW32/NU76bsrCqzqb8phGrubJ1vabKmdmJ6bD5SgmoFy4kYC7mNYs6RDwqO3o3jjHYKdogIRc4DaQD3fpG8yvtu+gJ5g7lpeWW55XqSu5Z8mX2Gfor/WL/mwDJAPn/R/7q+yX5R/am85bxY/BO8IfxJvQt+ID97QMrC9oSixrHIRQo/SwZMBMxrC/GK2QlqxzjEXUF6ffX6e3b3s5bwwm6ebMhsFKwM7S+u8HG2tR+5f73jAtIH0cyoUN6Ug1euWUIabNnrWEdV2RIFzb3IO0J/fE42rTDfq+KnqmRgIl/htqIhpA5nW+ubcNI2/T0TA8jKU9BtlZgaH91eH3sf758EHRGZgBUDz5xJUILsfDr1he/Q6pZmRON8oU+hP2H9ZCxnoWwmcXw3Hf1EA6jJSY7rU1wXNpmi2xabVpp1WBJVGBE5zHFHe0IVfTo4H3PzcBptbmt8qkaqgmuZ7W7v2nMwdoF6nX5VwgCFuMhhSuWMuk2dDhWN8szLC7qJoIeehVXDJUDpPvc9IHvuuuT6f3oz+nO663uF/Kw9SL5HPxf/rn/EQBm/8j9Yvtw+Dz1G/Jj72rte+zV7KHu8fG/9uj8LwRBDLcUGB3nJKMr1DANNPk0WzMYLzYo4x5rE0IG9fcn6Yza38zXwB63SrDRrAStCrHauD7Ez9L74w73MwuEHxAz6EQsVBRg/mdvayNqDWRWWWNKyjdUIuwKmvJ02pXDCq/Mna+QV4g1hXyHIo/bmyCtNcIu2vzzeA5zKMNATVYZaFd1bX3/f+x8WnStZoNUsD4wJh8Mq/H/10LAgKufmlmOL4dlhQGJypFLn9iwnMWc3Mj0BQ1BJHU5t0tHWpBkNmoSazhn8V67Uj1DQDGmHV8JWfV54pDRUcNIuNWwLa1TrRuxMbgcwkTO/9uT6kr5bwdjFJofqChALzszlzRxMwkwtyroIxYcwBNjC3YDXfxn9tDxte4b7e3s/e0N8M/y7vUT+ez7Lv6i/x8AmP8Q/qX7ivgB9V3x9e0k60Dpk+hY6bTrs+9G9UL8YARFDYAWkR/zJx8vmTTyN9I4ATdkMggrHSH7FBoHEPiJ6EHZ+cpuvk+0Na2Zqcyp9K0FtsTBx9B34hf2zQqtH8AzE0a/VfxhIWq2bXVsUWZ5W1BMdDmuI+4LQvPC2ozDs64wndiPUocPhEKG3o2YmuirDsEd2QXznQ22JyNAylWyZwt1Pn3rf/V8gnT0ZuxUPT/iJvcMpvId2X7B06wBnMCPj4ixhiuKw5IFoEextcVY3CP0/gvbIrk3sUkHWCxiw2eqaPRk7VwPUf5BgTB1HcQJVvYJ5KjT38U1uwW0gLCksEi0FruXxDjQUt016y35kgbKElMdyCXjK4QvrDB9LzUsLyfSIJYZ8hFfCkYDB/3n9xX0qvGg8NzwLfJQ9Pj2z/mC/MP+TgD0AJYALv/K/JH5v/Wg8Ynt2ens5hrlrOTZ5cLobe3B8437gQQ3DjYY9iHqKocySzjFO548nDqpNdYtWiORFv0HO/j/5w3YLMkfvJuxPKp8pqym8qo/s1W/xM7x4Bj1WgrEH1o0Ikc0V8JjImzbb6hue2iEXSxOEjsDJfMM8/Mg25vDeK60nCWPc4YPgyuFvIxzmceq978W2BDyvAzrJm4/LFUrZ5106Hywf9h8hXQbZztVtT+GJ8cNo/ND2snCPK5/nUeREoohiHmL35PfoNOx5sUm3Ijz+gpyIfI1m0eyVa1fMmUiZpFiyVpET6RAqy8yHRsKS/eX5cTVdsgwvke357MOtI63Fb4sx0TSvN7p6yH5wQU5ERAb5yKCKMUrtix6K1IolCOqHQMXExBICQcDo/1Z+VH2l/Qg9Mr0XvaX+Cf7uP37/6UBfAJVAhwB1P6U+433BPNL7sDpxuW74vngx+BZ4szlHusy8sv6kgQXD9gZRiTNLdo16TuHP1pAKz7mOKEwlyUtGOoIdfiJ5+/WeMfsuQSvX6d5o6SjBaiKsPK8yMxr3xP02gnIH9s0FUiJWGZlAm7fcbpwiGp4X/ZPozxSJvoNrvSO28DDWa5YnJWOuYU0gjmEu4tqmL2p8r4Y1x7x1wsUJqY+dVSFZgt0bXxPf5V8ZXQjZ21VF0AbKJEOoPRx2yPEuq8Yn+6SuIu2ieuMHpXaoXuyL8YF3Pny+wkHICM0dUVIUxVdhmJ8Yw5ghlhcTS8/vS7bHGQKN/gi5+LXFcs3wZq6Y7eOt+26LcHayWjUPOCx7CT5/ASwD9AYBiAdJf4ntShqJ18k6h9wGl4UIQ4gCLcCMf7A+oL4fPea97T4jvrh/Fr/qAF9A5MEtwTFA7IBif5u+pn1WPAF6wXmvuGU3t7c5NzZ3tLiyuiZ8Pz5kgTkD2YbgSaZMBc5cz81QwVErEEaPGYz1CfNGeEJvvgl5+nV3sXVt4qsn6SSoLagLqXnrZu60srm3QnzTwm7H0U17Ei/Welmvm/Bc61yd2xSYatRKD6bJwEPcfUM3PvDVq4dnCqOJYV/gWyD3IqAl82o/70n1i/w7QoxJcs9pFPCZVdzzXvIfi18IXQJZ4VVZEChKFIPnfWm3IvFTbHLoLOUf41ti4GOf5b1oj+zj8b323XyAQmaHkwyQUPLUGVavV+4YGxdJFZWS549uC1xHJ8KGfmo6AHau81KxPy98boju2O+XcSfzKPW0eGL7Tj5QwQxDpYWJx22ITIkrCRPI14gLxwlF6cRHgznBlcCr/4Y/Kf6V/oN+5r8vf4qAZADngUHB4wH/gZDBVYCT/5Y+bbzve3P51jiw9122srYB9la29ffb+b37iH5gwSfEN8cpShOMz485kLPRp9HH0VDPyU2ECpyG+IKFfnU5vnUX8TatS2q/aHIneOdb6JXq1K45Mhi3PnxuAicH5g1qEnWWkpoWHGAdX50SG4TY01Tnj/eKAkQO/aY3EvEbq4CnOGNtoTxgMOCH4q0lvanIL1B1UXvAApDJN88u1LgZIFyCHsbfp97uXPPZn9VmkAXKQoQmPbh3QDH9LKXopWWZ49IjTqQA5gxpCG0B8f62/7xDQgsHW0wAUE7Tp5X2lzXXaxapFMzSfQ7myzzG8sK8vkq6iHcZtBnx2zBkr7Ovu/BpMd8z/XYe+N57lv5mAO7DGIUSxpNHmEgmyApH1EcZhjKE+AOCQqeBecBH/9j/cD8KP15/nkA5wJzBckHmAmYCo4KUAnNBgoDJf5U+OTxMuuq5Lve1tlk1sDUMNXe19rcEORM7Tn4ZQRHEUQesirrNUw/QkZTSiVLgkhgQt44SSwZHesLefmV5h/U+cL9s++neZ8cmyybyJ/bqBi2AMfh2ubwFghrH9U1SErMW4lpzXIbdy12+m+4ZNlUBUEYKhARDPcz3bDEoK4GnLyNbYSIgECChokHljinVLxo1GDuEQlLI+E7ulHhY4pxH3pIfep6LXN0Zl5VuUB9KbkQkfch34LIrbR7pJWYb5FFjxeSqZmMpR+1mMcR3JTxHwe+G4gutD6aS8FU3lnaWs9XB1H0Ri46ZythG+cKwPqn60DeFdOOyurEQsKLwpHFActw0lzbOuV574/5+gJPCzUSchflGo0chBz7GjgYkBRhEAkM5QdDBGcBf/+g/s3+7//aAVIEDge6CQIMlQ0vDpgNrQtlCMwDC/5h9yTwuuiV4S7b+NVf0sDQX9Fm1N3ZreGZ60X3NwTdEZMfqSxwOEFChknBTZdO1EtwRY07gC7DHvsM6/lp5l3Tr8E8stClFZ2PmJGYO510pu6zJcVk2c/vagcrH/s1zEqjXKVqH3STeLp3jXFDZk9WXUJJKxYS5Pfb3SrF7q4qnLqNSYRGgOOBEIl6lZamnLud04HtIAhKItI6olDFYnFwEnlQfBF6fXL4ZSBVwUDRKV4Rhvhm4A/KeLZ3prCal5NkkRWUcZsHpzm2QMg73DfxOQZSGp8sXDzoSM9RyVbCV9ZUTE6ZRE84Gyq8GvQKhPsd7V7gyNW8zXPIA8ZaxkbJdM551dndDeeN8NT5awLuCRAQnRR+F7gYaBjFFhUUrhDqDCQJsAXZAtcAz//O/8oAqAIxBSMILwv9DToQlBHKEakQFA4ICpwEAf5/9nbuVOaU3rLXKtJpzszMmM3z0OLWR9/f6Uf2+gNhEswghy7cOh1FsEwWUfRRFE9xSDQ+sjBvIBMOafpP5rHSfsCZsNCj0ZohlhOWyJokpNaxVcPq17XutQbaHgo2NUtbXZ9rTXXmeSN5/3KxZ65XpENxLBoTwfiQ3rfFVa9tnNyNS4QrgKyBvYgOlQ6m+rrf0qrsLwdAIbQ5dE+NYThv4XcyexJ5qXFbZcRUsUATKvgRefmu4abLVLiJqOec3pWjkzaWW52iqHC3Asl53OjwWwXnGLEq+jkoRspOnVORVMBRdksiQlY2uCgCGvAKO/yM7nriftjw0AfM0ck6yg7N+9GX2Gvg9Oiy8Sn66QGZCPQNzhEaFOEUSBSIEuoPwQxnCTAGbQNfATYADgDrALsCVQV+COsLSA88EnAUlBVpFcATgxC3C3oFB/6v9drsAuSm20rUbc6CyuXI2smGzenT39wf6D71rwPSEvAhTjAuPd5HwE9TVDlVQFJkS9BA3zIaIjEP9PpG5hzSab8Ur/ChrpjTk7STcJjqoc6vkcF21prt9wV5HgQ2gkvzXXZsVnYTe2l6UHQCafVY2USOLRoUovlR31jG1a/PnCCOcoQ1gJqBj4jBlKOlbrox0tnrPQYvIIc4ME47YN9tjXbvee53sXCcZEtUiUBEKoYSZvr44kbNQLqxqjifQpgDlniYZZ9cqsS43MnL3KjwhQR/F8AojzdZQ7JLW1BGUZFOhUiRP0M0Pyc1Gd0K5vz075LkNNsq1KTPq80qzujQldXJ2xDj7+rq8o/6dgFQB+ELBg+5EAwRJxBHDrgLywjYBTADHAHX/4j/PwD6AZwE9Ae9C6gPWRN0FqIYkxkJGdwW+xJwDWUGHP7w9FLrw+HM2PXQxMqrxgzFKMYhyvTQdtpa5iv0VQMwE/8i/DFmP4RKtVJ2V2dYWFVGTmBDBjXGI1UQivtP5p7Rbr6urTGgrJamkXWRNZbJn9qt2r8J1X7sMQUKHuk1tUtrXiltOnccfIt7f3U1aiNa+0WfLhcVh/od4ArHb7BPnYaOvoRngK+BhIiWlFOl+LmT0RLrTAUXH0s32EzNXmdsF3WIeKV2lW+8Y7VTSEBhKggTTvtE5O/OOrztrKKhw5qCmNqaj6E1rDS6zsox3XfwuQMaFswmHTV9QIhIBE3kTUhLekXmPBgyriVUGLgKhf1S8abm6t1o10nTkdEn0tLUQNkO38nl/Ow09Ab7EgEUBtgJRQxdDTgNBQwDCn8HzQQ+AiMAvv4//sj+YAD5Am4GhArwDlkTYBelGs8cjx2rHPwZeRU0D10HQf5D9N3pmd8G1rXNLsfnwkPBgsLExgPODtiQ5A7z7gJ9E/gjkjODQQ5Nj1V9WnxbWlgWUeNFJjdwJX4RK/xp5jXRjr1lrJKezJSbj1WPF5TBnfqrMb6i02HrYwSMHbg1zUvEXrtt+Xf/fId8jHZKazhbC0elLw8Wb/v04M/HILHsnQ6PL4W+gOmBn4iLlCClmbkF0VPqXQT5HQM2bEtGXdFqfnP9djd1VW67YgFT7j9sKn0TMfyR5aDQQ749ryWkYZ0gm1yd2qMtrsC72sur3VXw9wK6FNckozKWPU9FmUlrSuZHVUIiOtQvByRfF4QKF/6o8rbooOCq2vXWgtUy1szY/dxk4pToHO+Q9Y37vgDlBNoHjQkHCmgJ4we9BUIDxwCd/gz9UvyZ/Pr9cQDoAzAIBQ0UEvwWWxvNHvUgiCFLIB8d/RcBEWIIdf6o83zohN1X04vKrcM3v4q96r5ywxjLptXC4unxeQK4E9skDzWFQ3xPS1hpXXdeRVvTU1hIPTkYJ6sS1/yT5uPQybw7qxSdDpOyjVeNF5LTmy+qlrxD0kbqjwMBHXQ1y0v+XilulHi9fV99d3c/bDRcB0idMAEXWvzV4aXI6rGnnriPxYU8gUqC3YiilAqlUbmI0J7pcAPWHK407EmmWx1pxXFPdaZz82yZYS9Sez9jKuUTDP3e5lfSWMCfsb+mGaDbnf2fQ6ZDsGi9/sw63kTwQAJfE+IiJDCkOgdCG0bcRm1EGD9FN3ktSiJWFj4Km/7087/qU+Pt3abaetlI2tPcyuDM5XHrTvH+9iX8eADEA+gF3wa4BpwFwwN2AQP/vfzz+ur52vnm+hz9cgDHBOIJdg8oFZIaSh/qIhQlfCXqI0MghxrXEnIJuP4e8y/nhdu+0HjHQsCau+S5YbsrwDPIQdPy4Lzw9wHhE6glcjZrRc1R6lo4YFhhGF59Vr9KSzu9KNsTjf3N5qbQHrwvqribc5Hsi3qLNpAAmnmoC7vt0CzptQJoHBs1rksZX3RuCXlUfhJ+PngWbRRd7kiIMe4XRf2/4ovJyrJ/n4SQgIbggdGCQYnblBKlIrkd0PTohgKuG04zW0juWUtn6299c/BxbWtVYEBR7z5GKj8U4P0r6BXUesITtG+p7KKzoLyiy6h2siu/O87e3kLwlAEKEu0goS2pN7A+jEI6Q95AwztQNAYrdiA5FecJEf829cHsBOYw4Vveet1o3ubgpORE6V/ukfN8+M38QgCxAgMEOwRyA9YBqP8w/cL6rvhC97/2V/cm+TD8YwCVBYIL1hEsGBgeKyP7JiopaimGJ2gjFB20FI4KCv+m8vblnNk9znzE7rwUuFK26LfwvFfF39Af34jvaAH5E2AmvTc1R/9Tal3pYhxk0mARWRVNTz1eKg4VS/4X53/QjrtCqX2a/I9Kir+JdI5ImNqmkLmgzxTo1gHDG680eUsVX51uWXnFfp9+4njMbdldv0lkMtMYMv6x44HKwbNzoHCRXoepgn6DyYk2lTelC7nEz1XooAGEGuMxuEYfWF5l8W2KcRhwxGnxXjNQST4UKooUrP516dbVpsSXtjSs16Wno5mlcavGtArBkM+W31Hw8wC8EPoeGSulNE477T6EPzo9WDhFMX0ojh4JFH8Jef9s9rzusOhz5BPigOGR4gXljejK7Fzx5fUL+ob9HACsASoCogE1ABn+kfvt+ID2nPSM843zyvRZ9zb7RQBSBhENJBQfG44h/iYAKzUtUC0eK4wmpR+YFrULa/9A8tLkydfTy5jBsrmktNSygbTEuYXCgc5L3U3uzgAAFAIn7TjjSBNWy198ZcNmcmOQW1tPRz/6K0MWE/9w52zQGLt0qGSZp47LiCeI04ytllKlJ7hezv/m8wATGzE0KkvzXqRuhHkQfwZ/YXlhboJee0oxM7AZHv+r5IbLzbSCoXySX4iYg1GEdYqzlXulDbl9z8LnvwBWGW4wBEU5VlZj2Gt1bx1u+WdsXQhPij3OKcYUb/+96pzX3MYruQ6v26i2ppKoNK4ztwTD/dBj4HDwXwB1DwodkCiaMeA3Pzu9O4E51zQjLt4lkRzFEgYJ0v+X96/wWOu1583li+XB5i7pgexe8Gn0SPiq+0/+BQC2AF8AFv8D/WL6f/es9D7yiPDR71PwM/KA9S76FwD/Bo4OYBb/HfIkwCr2LjQxLTGwLq4pOCKDGOYM2f/r8cLjDdaCyc2+j7ZMsWuvLbGmtry/Kcx32wztKAD2E44nBTp0SglYDWLvZ0xp92X3XY5RM0GQLXgX4v/X52/QvbrEp22Yd41xh7KGU4svleOj0LYoze/lDABXGqAzw0qzXoluink1f0Z/vHk=\" type=\"audio/wav\" />\n",
        "                    Your browser does not support the audio element.\n",
        "                </audio>\n",
        "              "
       ],
       "metadata": {},
       "output_type": "display_data",
       "text": [
        "<IPython.lib.display.Audio at 0x10622e790>"
       ]
      }
     ],
     "prompt_number": 3
    },
    {
     "cell_type": "markdown",
     "metadata": {
      "slideshow": {
       "slide_type": "slide"
      }
     },
     "source": [
      "## Lorenz System of Differential Equations\n",
      "\n",
      "* Also example to link to other notebooks\n",
      "* Click [Lorenz Differential Equations](static/notebook/LDE.ipynb)"
     ]
    },
    {
     "cell_type": "markdown",
     "metadata": {
      "slideshow": {
       "slide_type": "slide"
      }
     },
     "source": [
      "# Machine Learning with Sci-Kit Learn\n",
      "\n",
      "![](scikit.jpg)"
     ]
    },
    {
     "cell_type": "code",
     "collapsed": false,
     "input": [
      "import pylab as pl\n",
      "import numpy as np\n",
      "\n",
      "from sklearn.ensemble import AdaBoostClassifier\n",
      "from sklearn.tree import DecisionTreeClassifier\n",
      "from sklearn.datasets import make_gaussian_quantiles\n",
      "\n",
      "\n",
      "# Construct dataset\n",
      "X1, y1 = make_gaussian_quantiles(cov=2.,\n",
      "                                 n_samples=200, n_features=2,\n",
      "                                 n_classes=2, random_state=1)\n",
      "X2, y2 = make_gaussian_quantiles(mean=(3, 3), cov=1.5,\n",
      "                                 n_samples=300, n_features=2,\n",
      "                                 n_classes=2, random_state=1)\n",
      "#Training Samples\n",
      "X = np.concatenate((X1, X2))\n",
      "\n",
      "#Training Target\n",
      "y = np.concatenate((y1, - y2 + 1))\n",
      "\n",
      "# Create and fit an AdaBoosted decision tree\n",
      "bdt = AdaBoostClassifier(\n",
      "                          DecisionTreeClassifier( max_depth=1),\n",
      "                                                  algorithm=\"SAMME\",\n",
      "                                                  n_estimators=200\n",
      "                        )\n",
      "\n",
      "bdt.fit(X, y)\n",
      "\n",
      "plot_colors = \"br\"\n",
      "plot_step = 0.02\n",
      "class_names = \"AB\"\n",
      "\n",
      "pl.figure(figsize=(20, 10))\n",
      "\n",
      "# Plot the decision boundaries\n",
      "pl.subplot(121)\n",
      "x_min, x_max = X[:, 0].min() - 1, X[:, 0].max() + 1\n",
      "y_min, y_max = X[:, 1].min() - 1, X[:, 1].max() + 1\n",
      "xx, yy = np.meshgrid(np.arange(x_min, x_max, plot_step),\n",
      "                     np.arange(y_min, y_max, plot_step))\n",
      "\n",
      "Z = bdt.predict(np.c_[xx.ravel(), yy.ravel()])\n",
      "\n",
      "Z = Z.reshape(xx.shape)\n",
      "cs = pl.contourf(xx, yy, Z, cmap=pl.cm.Paired)\n",
      "pl.axis(\"tight\")\n",
      "\n",
      "# Plot the training points\n",
      "for i, n, c in zip(range(2), class_names, plot_colors):\n",
      "    idx = np.where(y == i)\n",
      "    pl.scatter(X[idx, 0], X[idx, 1],\n",
      "               c=c, cmap=pl.cm.Paired,\n",
      "               label=\"Class %s\" % n)\n",
      "pl.xlim(x_min, x_max)\n",
      "pl.ylim(y_min, y_max)\n",
      "pl.legend(loc='upper right')\n",
      "pl.xlabel(\"Decision Boundary\")\n",
      "\n",
      "# Plot the two-class decision scores\n",
      "twoclass_output = bdt.decision_function(X)\n",
      "plot_range = (twoclass_output.min(), twoclass_output.max())\n",
      "pl.subplot(122)\n",
      "for i, n, c in zip(range(2), class_names, plot_colors):\n",
      "    pl.hist(twoclass_output[y == i],\n",
      "            bins=10,\n",
      "            range=plot_range,\n",
      "            facecolor=c,\n",
      "            label='Class %s' % n,\n",
      "            alpha=.5)\n",
      "x1, x2, y1, y2 = pl.axis()\n",
      "pl.axis((x1, x2, y1, y2 * 1.2))\n",
      "pl.legend(loc='upper right')\n",
      "pl.ylabel('Samples')\n",
      "pl.xlabel('Decision Scores')\n",
      "pl.subplots_adjust(wspace=0.25)\n",
      "pl.show()\n"
     ],
     "language": "python",
     "metadata": {
      "slideshow": {
       "slide_type": "slide"
      }
     },
     "outputs": []
    },
    {
     "cell_type": "markdown",
     "metadata": {
      "slideshow": {
       "slide_type": "slide"
      }
     },
     "source": [
      "## Publishing your Work\n",
      "* Ability to convert an .ipynb notebook document file into various static formats.\n",
      "\n",
      "* Currently, nbconvert is provided as a command line tool, run as a script using IPython.\n",
      "\n",
      "\n",
      "This page is converted and published to the following formats using this tool:\n",
      "\n",
      "* HTML\n",
      "\n",
      "* PDF (the PDF is created using wkhtml2pdf that takes the html file as an input)\n",
      "\n",
      "* LATEX\n",
      "\n",
      "* Reveal.js slideshow\n"
     ]
    },
    {
     "cell_type": "code",
     "collapsed": false,
     "input": [
      "!ipython nbconvert pyconza_ipython.ipynb --to slides --post serve\n"
     ],
     "language": "python",
     "metadata": {
      "slideshow": {
       "slide_type": "slide"
      }
     },
     "outputs": []
    },
    {
     "cell_type": "code",
     "collapsed": false,
     "input": [
      "!ipython nbconvert pyconza_ipython.ipynb --to html --post serve"
     ],
     "language": "python",
     "metadata": {
      "slideshow": {
       "slide_type": "slide"
      }
     },
     "outputs": []
    },
    {
     "cell_type": "markdown",
     "metadata": {
      "slideshow": {
       "slide_type": "slide"
      }
     },
     "source": [
      "# Writing Books!\n",
      "\n",
      "* Need internet connection but check out \n",
      "* [Probabilistic-Programming-and-Bayesian-Methods-for-Hackers](http://camdavidsonpilon.github.io/Probabilistic-Programming-and-Bayesian-Methods-for-Hackers/)"
     ]
    },
    {
     "cell_type": "markdown",
     "metadata": {
      "slideshow": {
       "slide_type": "slide"
      }
     },
     "source": [
      "# THANK YOU FOR YOUR TIME\n",
      "\n",
      "* some further interesting websites linked below\n",
      "* [Anaconda Download Links](http://www.insightstack.co.za/downloads/)\n",
      "* Download the notebook and run __ipyton notebook__ in the directory containing this file\n",
      "* Examples of running other languages in the notebook \n",
      "  * [IRuby](http://nbviewer.ipython.org/github/minad/iruby/blob/master/IRuby-Example.ipynb)\n",
      "  * [Julia](http://nbviewer.ipython.org/github/JuliaLang/IJulia.jl/blob/master/python/doc/JuliaMagic.ipynb)\n",
      "  * [Octave](http://nbviewer.ipython.org/github/ipython/ipython/blob/d835d46dcc50043971b4a9915398bad1b5d63648/docs/examples/notebooks/octavemagic_extension.ipynb)\n",
      "  * [R](http://nbviewer.ipython.org/github/ipython/ipython/blob/3607712653c66d63e0d7f13f073bde8c0f209ba8/docs/examples/notebooks/rmagic_extension.ipynb)\n",
      "  * [js](http://nbviewer.ipython.org/gist/minrk/5632595)\n"
     ]
    },
    {
     "cell_type": "code",
     "collapsed": false,
     "input": [],
     "language": "python",
     "metadata": {},
     "outputs": []
    }
   ],
   "metadata": {}
  }
 ]
}