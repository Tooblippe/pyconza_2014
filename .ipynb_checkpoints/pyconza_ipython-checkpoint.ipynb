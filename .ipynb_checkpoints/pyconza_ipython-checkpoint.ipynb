{
 "metadata": {
  "celltoolbar": "Slideshow",
  "name": "",
  "signature": "sha256:f3feb87c683fa719c3ff1e67e5fe1c09deaafbb59191a17237c640f436496b22"
 },
 "nbformat": 3,
 "nbformat_minor": 0,
 "worksheets": [
  {
   "cells": [
    {
     "cell_type": "code",
     "collapsed": false,
     "input": [
      "# Load a custom CSS and import plotting\n",
      "# https://github.com/fperez/pycon2014-keynote\n",
      "\n",
      "%run static/talktools/talktools.py \n",
      "#makes sure inline plotting is enabled\n",
      "\n",
      "%pylab inline \n",
      "#set figure size\n",
      "figsize(20, 6) \n",
      "\n",
      "import this"
     ],
     "language": "python",
     "metadata": {
      "slideshow": {
       "slide_type": "skip"
      }
     },
     "outputs": []
    },
    {
     "cell_type": "markdown",
     "metadata": {
      "slideshow": {
       "slide_type": "slide"
      }
     },
     "source": [
      "\n",
      "<center>\n",
      "## Introduction to IPython Notebook\n",
      "\n",
      "\n",
      "\n",
      "![](static/img/eon.png)  ![](static/img/pyconza.png)\n",
      "\n",
      "\n",
      "<h3>Tobie Nortje, [www.eon.co.za](http://www.eon.co.za), [@tooblippe](http://twitter.com/tooblippe)</h3>\n",
      "\n",
      "<h3>tobie.nortje@eon.co.za</h3>\n",
      "\n",
      "<h3>http://bit.ly/pyconza-notebook</h3>\n",
      "\n",
      "\n"
     ]
    },
    {
     "cell_type": "markdown",
     "metadata": {
      "slideshow": {
       "slide_type": "slide"
      }
     },
     "source": [
      "# ls\n",
      "\n",
      "* Background and Notebook basics\n",
      "* Plotting\n",
      "* Symbolic Mathematics and Typesetting\n",
      "* Pandas and the Pandas Dataframe\n",
      "* Quick Machine Learning example\n",
      "* Publishing Your Work\n"
     ]
    },
    {
     "cell_type": "markdown",
     "metadata": {
      "slideshow": {
       "slide_type": "slide"
      }
     },
     "source": [
      "# whoami\n",
      "* Electrical Engineer / Hacker\n",
      "* Currently busy with M.Eng\n",
      "* Principal Consultant at [Eon Consulting](http://www.eon.co.za/index.php/our-services-main/our-services/business-analytics)\n",
      " * Management consultant focus on research, analytics\n",
      " * Clients Eskom, City Power, Ekhurhuleni, Neotel\n",
      "* Use Windows, Ubuntu GNU/Linux, Mac, IPhone and Android\n",
      "* People that I work with uses Excel (_alot_) [__big time__] \n",
      "\n",
      "* Hack with Python, mySQL, Arduino, Energy Loggers, RaspberryPi\n",
      "* You will see Python 2.7 here. Almost time to upgrade\n",
      "\n"
     ]
    },
    {
     "cell_type": "markdown",
     "metadata": {
      "slideshow": {
       "slide_type": "slide"
      }
     },
     "source": [
      "# Python is Popular\n",
      "\n",
      "\n",
      "![](static/img/python_companies2.png)\n",
      "\n",
      "\n",
      "\n"
     ]
    },
    {
     "cell_type": "markdown",
     "metadata": {
      "slideshow": {
       "slide_type": "slide"
      }
     },
     "source": [
      "# Practical Use\n",
      "![](static/img/hotwater.png)"
     ]
    },
    {
     "cell_type": "markdown",
     "metadata": {
      "slideshow": {
       "slide_type": "slide"
      }
     },
     "source": [
      "# Why Python for Analytics and Visualization?\n",
      "\n",
      "   \n",
      "10 years ago, Python was considered exotic in the analytics space \u2013 at best. Languages/packages like R and Matlab dominated the scene. Today, Python has become a major force in data analytics & visualization due to a number of characteristics:\n",
      "* __Multi-purpose__: prototyping, development, production, systems admin \u2013 one for all\n",
      "* __Libraries__: there is a library for almost any task or problem you face\n",
      "* __Efficiency__: speeds up IT development tasks for analytics applications\n",
      "* __Performance__: Python has evolved from a scripting language to a 'meta' language with bridges to all high performance environments (e.g. multi-core CPUs, GPUs, clusters)\n",
      "* __Interoperability__: Python integrates with almost any other language/ technology\n",
      "* __Interactivity__: Python allows domain experts to get closer to their business and financial data pools and to do real-time analytics\n",
      "* __Collaboration__: solutions like Wakari with IPython Notebook allow the easy sharing of code, data, results, graphics, etc."
     ]
    },
    {
     "cell_type": "markdown",
     "metadata": {
      "slideshow": {
       "slide_type": "slide"
      }
     },
     "source": [
      "# The Python Science Stack\n",
      "\n",
      "* __Python__ \u2013 the Python interpreter itself\n",
      "\n",
      "* __NumPy__ \u2013 high performance, flexible array structures and operations\n",
      "\n",
      "* __SciPy__ \u2013 scientific modules and functions (regression, optimization, integration)\n",
      "\n",
      "* __pandas__ \u2013 time series and panel data analysis and I/O\n",
      "\n",
      "* __PyTables__ \u2013 hierarchical, high performance database (e.g. for out-of-memory analytics)\n",
      "* __matplotlib__ \u2013 2d and 3d visualization\n",
      "\n",
      "* __IPython__ \u2013 interactive data analytics, visualization, publishing\n",
      "* The list is growing...\n",
      "\n",
      "\n",
      "![SciPy](static/img/scistack.png)"
     ]
    },
    {
     "cell_type": "markdown",
     "metadata": {
      "slideshow": {
       "slide_type": "slide"
      }
     },
     "source": [
      "# IPython Introduction ![](static/img/ipy.png)\n",
      "IPython provides a rich architecture for interactive computing with:\n",
      "* Powerful interactive shells (terminal and Qt-based)\n",
      "* Browser-based notebook support for code, text, math expressions, inline plots\n",
      "* Support for interactive data visualization and use of GUI toolkits\n",
      "* Easy to use, high performance tools for parallel computing\n",
      "\n",
      "The main reasons I have been using it includes:\n",
      "* Plotting is possible in the QT console or the Notebook\n",
      "* Magic functions makes life easier (magics gets called with a %)\n",
      "* I also use it as a replacement shell for Windows Shell or Terminal\n",
      "* Code Completion\n",
      "* And of course... __Data Analysis__"
     ]
    },
    {
     "cell_type": "markdown",
     "metadata": {
      "slideshow": {
       "slide_type": "slide"
      }
     },
     "source": [
      "# Notebook Basics\n",
      "The IPython Notebook is a web-based interactive computational environment where you can:\n",
      "* Combine code execution \n",
      "* Text \n",
      "* Mathematics\n",
      "* Plots and rich media into a single document\n",
      "* Used to teach classes (Berkley), talks, publish papers etc.\n",
      "It also features:\n",
      " * Code Completion\n",
      " * Help and Docstrings\n",
      " * Markdown cells for composing documents\n",
      " * Run it locally or on any webserver with Python installed\n",
      "\n",
      "\n",
      "#### Everything you see here is standard Python and Markdown code running in a browser on top of an IPython kernel using Python 2.7                 `"
     ]
    },
    {
     "cell_type": "markdown",
     "metadata": {
      "slideshow": {
       "slide_type": "slide"
      }
     },
     "source": [
      "## Some Helpful Commands\n",
      "* __We are now live in an IPython Notebook sessions!__\n",
      "\n",
      "__Command__     |  __Description__ | \n",
      "------------|-----------  | |\n",
      "?           |  Overview of IPython's features \n",
      "%quickref   |  Quick reference. \n",
      "help        |  Python's own help system. \n",
      "object?     |  Inspect an object \n",
      "\n",
      "\n",
      "\n",
      "![terminal](static/img/terminal.png)\n",
      "    "
     ]
    },
    {
     "cell_type": "markdown",
     "metadata": {
      "slideshow": {
       "slide_type": "slide"
      }
     },
     "source": [
      "# Let\u2019s Get Started\n",
      "\n",
      "* Each cell is populated with Markdown or Python Code\n",
      "* This is a markdown cell (Double Click To Reveal)\n",
      "* The notebook is currently in presentation mode\n",
      "* Running a cell \n",
      " * _SHIFT+ENTER_ will run the contents of a cell and move to the next one\n",
      " * _CTRL+ENTER_ run the cell in place and don't move to the next cell\n",
      "* Help\n",
      " * _CTRL-m h_ show keyboard shortcuts\n",
      "* Save\n",
      " * At any point, even when the Kernel is busy, you can press _CTRL-S_ to save the notebook\n",
      "\n",
      "\n"
     ]
    },
    {
     "cell_type": "code",
     "collapsed": false,
     "input": [
      "# press shift-enter to run code\n",
      "\n",
      "# Create and Set Variable a to the value of 4\n",
      "a = 4\n",
      "\n",
      "# Create and Set Variable b to the value of 2\n",
      "b = 3\n",
      "\n",
      "print \"Hallo PyConZA 2014\"\n",
      "print \"a + b =\", a+b\n",
      "\n",
      "print \"Now this is weird a/b = \", a/b\n",
      "\n",
      "b = 3.0 #<---- Be Carefull\n",
      "\n",
      "print \"This is even weirder a/b = \", a/b"
     ],
     "language": "python",
     "metadata": {
      "slideshow": {
       "slide_type": "slide"
      }
     },
     "outputs": []
    },
    {
     "cell_type": "markdown",
     "metadata": {
      "slideshow": {
       "slide_type": "slide"
      }
     },
     "source": [
      "## Using the Help System\n",
      "* The `%quickref` command can be used to obtain a bit more information"
     ]
    },
    {
     "cell_type": "code",
     "collapsed": false,
     "input": [
      "#IPython -- An enhanced Interactive Python - Quick Reference Card\n",
      "%quickref  # now press shift-enter"
     ],
     "language": "python",
     "metadata": {
      "slideshow": {
       "slide_type": "slide"
      }
     },
     "outputs": []
    },
    {
     "cell_type": "markdown",
     "metadata": {
      "slideshow": {
       "slide_type": "slide"
      }
     },
     "source": [
      "## Code Completion and Introspection\n",
      "\n",
      "* The next cell defines a function with a bit of a long name \n",
      "* By using the `?` command the docstring can we viewed\n",
      "* `??` will open up the source code\n",
      "* The autocomplete function is also demonstrated"
     ]
    },
    {
     "cell_type": "code",
     "collapsed": false,
     "input": [
      "# lets degine a function with a long name.\n",
      "def long_silly_dummy_name(a, b):\n",
      "    \"\"\"\n",
      "    This is the docstring for this function \n",
      "    It takes two arguments a and b\n",
      "    It returns the sum of a+5 and b*5\n",
      "    No error checking is done!\n",
      "    \"\"\"\n",
      "    a -= 5\n",
      "    b *= 5\n",
      "    return a+b\n",
      "\n",
      "\n",
      "def long_silly_dummy_name_2(a, b):\n",
      "    \"\"\"\n",
      "    This is the docstring for this function \n",
      "    It takes two arguments a and b\n",
      "    It returns the sum of a+5 and b*5\n",
      "    No error checking is done!\n",
      "    \"\"\"\n",
      "    a += 5\n",
      "    b *= 5\n",
      "    return a+b\n",
      "\n",
      "# again we press SHIFT-Enter\n",
      "# this will run the function and add it to the namespace\n",
      "\n",
      "for i in dir():\n",
      "    if \"silly\" in i: \n",
      "        print i"
     ],
     "language": "python",
     "metadata": {
      "slideshow": {
       "slide_type": "slide"
      }
     },
     "outputs": []
    },
    {
     "cell_type": "code",
     "collapsed": false,
     "input": [
      "# lets get the docstring or some help\n",
      "long_silly_dummy_name?\n",
      "\n",
      "# This will open a tab at the bottom of the web page\n",
      "# You can close it by clicking on the small cross on the right"
     ],
     "language": "python",
     "metadata": {
      "slideshow": {
       "slide_type": "slide"
      }
     },
     "outputs": []
    },
    {
     "cell_type": "code",
     "collapsed": false,
     "input": [
      "#view the source\n",
      "long_silly_dummy_name??"
     ],
     "language": "python",
     "metadata": {
      "slideshow": {
       "slide_type": "slide"
      }
     },
     "outputs": []
    },
    {
     "cell_type": "code",
     "collapsed": false,
     "input": [
      "#press tab to autocplete\n",
      "long_silly_dum"
     ],
     "language": "python",
     "metadata": {
      "slideshow": {
       "slide_type": "slide"
      }
     },
     "outputs": []
    },
    {
     "cell_type": "code",
     "collapsed": false,
     "input": [
      "# press shift-enter to run\n",
      "long_silly_dummy_name(5,6)"
     ],
     "language": "python",
     "metadata": {
      "slideshow": {
       "slide_type": "slide"
      }
     },
     "outputs": []
    },
    {
     "cell_type": "markdown",
     "metadata": {
      "slideshow": {
       "slide_type": "slide"
      }
     },
     "source": [
      "## Using markdown\n",
      "* You can set the contents type of a cell in the toolbar above. \n",
      "* When Markdown is selected you can enter markdown in a cell and its contents will be rendered as HTML. \n",
      "\n",
      "1. The markdown syntax can be [found here](http://daringfireball.net/projects/markdown/)\n",
      "\n",
      "# This is heading 1\n",
      "## This is heading 2\n",
      "### This is heading 5\n",
      "\n",
      "|IPYTHON      |PyConZA|\n",
      "|------------|---  |\n",
      "|![](static/img/ipy.png)| ![](static/img/pyconza.png)|\n",
      "\n",
      "> Beautiful is better than ugly.\n",
      "    Explicit is better than implicit.\n",
      "    Simple is better than complex.\n",
      "    Complex is better than complicated."
     ]
    },
    {
     "cell_type": "markdown",
     "metadata": {
      "slideshow": {
       "slide_type": "slide"
      }
     },
     "source": [
      "## IPython and Notebook Magics\n",
      "* IPython has a set of predefined \u2018magic functions\u2019 that you can call with a command line style syntax\n",
      "* Think of them as little helper macro's/funcions\n",
      "* There are two kinds of magics, line-oriented and cell-oriented\n",
      " * ___Line magics___ are prefixed with the `%` character and work much like OS command-line calls: they get as an argument the rest of the line, where arguments are passed without parentheses or quotes. \n",
      " * ___Cell magics___ are prefixed with a double `%%`, and they are functions that get as an argument not only the rest of the line, but also the lines below it in a separate argument"
     ]
    },
    {
     "cell_type": "markdown",
     "metadata": {
      "slideshow": {
       "slide_type": "slide"
      }
     },
     "source": [
      "## timeit magic\n",
      "* The `%%timeit` magic can be used to evaluate the average time your loop or piece of code is taking to complete"
     ]
    },
    {
     "cell_type": "code",
     "collapsed": false,
     "input": [
      "%%timeit \n",
      "x = 0   # setup\n",
      "for i in xrange(100000):    \n",
      "    x = x + i**2\n",
      "    x = x + i**2\n",
      "    "
     ],
     "language": "python",
     "metadata": {
      "slideshow": {
       "slide_type": "slide"
      }
     },
     "outputs": []
    },
    {
     "cell_type": "code",
     "collapsed": false,
     "input": [
      "%%timeit \n",
      "x = 0   # setup#\n",
      "for i in xrange(100000):   \n",
      "    x += i**2"
     ],
     "language": "python",
     "metadata": {
      "slideshow": {
       "slide_type": "slide"
      }
     },
     "outputs": []
    },
    {
     "cell_type": "markdown",
     "metadata": {
      "slideshow": {
       "slide_type": "slide"
      }
     },
     "source": [
      "## Running Shell Commands\n",
      "* I now use IPython as my default shell scripting language\n",
      "* Example - put the contents of the current directory into a list and count the file types\n",
      "* The `!` before a command indicates that you want to run a system command."
     ]
    },
    {
     "cell_type": "code",
     "collapsed": false,
     "input": [
      "filelist = !ls static/img                    #read the current directory into variable\n",
      "\n",
      "\n",
      "d ={}\n",
      "\n",
      "for x,i in enumerate(filelist):\n",
      "    \n",
      "    key = i[ i.find(\".\")+1:len(i) ]\n",
      "    \n",
      "    if d.has_key(key):\n",
      "        d[ i[i.find(\".\")+1:len(i)] ] += 1\n",
      "        \n",
      "    else:\n",
      "        d[i[i.find(\".\")+1:len(i)]] = 1\n",
      "    \n",
      "\n",
      "for key in d:\n",
      "    print key, d[key]"
     ],
     "language": "python",
     "metadata": {
      "slideshow": {
       "slide_type": "slide"
      }
     },
     "outputs": []
    },
    {
     "cell_type": "markdown",
     "metadata": {
      "slideshow": {
       "slide_type": "slide"
      }
     },
     "source": [
      "## Embedding Images\n",
      "* Images can be added using Python code\n",
      "* Or by adding inline HTML\n",
      "* This slide shows inline html (double click to show)\n",
      "* The next slide will use Python syntax to add it\n",
      "\n",
      "<img src=\"static/img/pyconza.png\" alt=\"some_text\">"
     ]
    },
    {
     "cell_type": "code",
     "collapsed": false,
     "input": [
      "from IPython.display import Image\n",
      "Image('static/img/pyconza.png')"
     ],
     "language": "python",
     "metadata": {
      "slideshow": {
       "slide_type": "slide"
      }
     },
     "outputs": []
    },
    {
     "cell_type": "markdown",
     "metadata": {
      "slideshow": {
       "slide_type": "slide"
      }
     },
     "source": [
      "## Adding YouYube videos\n",
      "\n",
      "* You can also add rich media like YouTube Videos into the notebook"
     ]
    },
    {
     "cell_type": "code",
     "collapsed": false,
     "input": [
      "#you can embed the HTML or programatically add it.\n",
      "from IPython.display import YouTubeVideo\n",
      "YouTubeVideo('iwVvqwLDsJo', width=1000, height=600)"
     ],
     "language": "python",
     "metadata": {
      "slideshow": {
       "slide_type": "slide"
      }
     },
     "outputs": []
    },
    {
     "cell_type": "markdown",
     "metadata": {
      "slideshow": {
       "slide_type": "slide"
      }
     },
     "source": [
      "## Plotting with Matplotlib\n",
      "* Matplotlib is a Python 2D plotting library \n",
      "* Produces publication quality figures \n",
      "* Variety of hardcopy formats and interactive environments across platforms\n",
      "* Matplotlib can be used in \n",
      " * Python scripts, \n",
      " * The Python and IPython shell, \n",
      " * Web application servers, \n",
      " * Graphical user interface toolkits."
     ]
    },
    {
     "cell_type": "code",
     "collapsed": false,
     "input": [
      "from matplotlib.pylab import xkcd\n",
      "from numpy import *\n",
      "\n",
      "#generate some data\n",
      "n = array([0,1,2,3,4,5])\n",
      "xx = np.linspace(-0.75, 1., 100)\n",
      "x = linspace(0, 5, 10)\n",
      "y = x ** 2\n",
      "\n",
      "fig, axes = plt.subplots(1, 4, figsize=(12,3))\n",
      "\n",
      "axes[0].scatter(xx, xx + 0.25*randn(len(xx)))\n",
      "axes[0].set_title('scatter')\n",
      "axes[1].step(n, n**2, lw=2)\n",
      "axes[1].set_title('step')\n",
      "axes[2].bar(n, n**2, align=\"center\", width=0.5, alpha=0.5)\n",
      "axes[2].set_title('bar')\n",
      "axes[3].fill_between(x, x**2, x**3, color=\"green\", alpha=0.5);\n",
      "axes[3].set_title('fill')\n",
      "\n",
      "for i in range(4):\n",
      "    axes[i].set_xlabel('x')\n",
      "axes[0].set_ylabel('y')\n",
      "show()"
     ],
     "language": "python",
     "metadata": {
      "slideshow": {
       "slide_type": "slide"
      }
     },
     "outputs": []
    },
    {
     "cell_type": "markdown",
     "metadata": {
      "slideshow": {
       "slide_type": "slide"
      }
     },
     "source": [
      "## Combined plots\n",
      "* Matplotlib allows plots to be combined"
     ]
    },
    {
     "cell_type": "code",
     "collapsed": false,
     "input": [
      "#CustomPlot()\n",
      "font_size = 20\n",
      "figsize(11.5, 5) \n",
      "fig, ax = plt.subplots()\n",
      "\n",
      "ax.plot(xx, xx**2, xx, xx**3)\n",
      "ax.set_title(r\"Combined Plot $y=x^2$ vs. $y=x^3$\", fontsize = font_size)\n",
      "ax.set_xlabel(r'$x$', fontsize = font_size)\n",
      "ax.set_ylabel(r'$y$', fontsize = font_size)\n",
      "fig.tight_layout()\n",
      "# inset\n",
      "inset_ax = fig.add_axes([0.29, 0.45, 0.35, 0.35]) # X, Y, width, height\n",
      "inset_ax.plot(xx, xx**2, xx, xx**3)\n",
      "inset_ax.set_title(r'zoom $x=0$',fontsize=font_size)\n",
      "# set axis range\n",
      "inset_ax.set_xlim(-.2, .2)\n",
      "inset_ax.set_ylim(-.005, .01)\n",
      "# set axis tick locations\n",
      "inset_ax.set_yticks([0, 0.005, 0.01])\n",
      "inset_ax.set_xticks([-0.1,0,.1]);\n",
      "show()"
     ],
     "language": "python",
     "metadata": {
      "slideshow": {
       "slide_type": "slide"
      }
     },
     "outputs": []
    },
    {
     "cell_type": "markdown",
     "metadata": {
      "slideshow": {
       "slide_type": "slide"
      }
     },
     "source": [
      "## Adding text to a plot"
     ]
    },
    {
     "cell_type": "code",
     "collapsed": false,
     "input": [
      "#CustomPlot()\n",
      "figsize(22, 9) \n",
      "font_size = 40\n",
      "fig, ax = plt.subplots()\n",
      "ax.plot(xx, xx**2, xx, xx**3)\n",
      "\n",
      "ax.set_xlabel(r'$x$', fontsize = font_size)\n",
      "ax.set_ylabel(r'$y$', fontsize = font_size)\n",
      "ax.set_title(r\"Adding Text $y=x^2$ vs. $y=x^3$\", fontsize = font_size)\n",
      "\n",
      "ax.text(0.15, 0.2, r\"$y=x^2$\", fontsize=font_size, color=\"blue\")\n",
      "ax.text(0.65, 0.1, r\"$y=x^3$\", fontsize=font_size, color=\"green\");"
     ],
     "language": "python",
     "metadata": {
      "slideshow": {
       "slide_type": "slide"
      }
     },
     "outputs": []
    },
    {
     "cell_type": "markdown",
     "metadata": {
      "slideshow": {
       "slide_type": "slide"
      }
     },
     "source": [
      "## xkcd style plotting\n",
      "* [matplolib v1.3](http://matplotlib.org/xkcd/examples/showcase/xkcd.html) now includes a setting to make plots resemble xkcd styles.\n",
      "\n",
      "![](static/img/xkcd.png)"
     ]
    },
    {
     "cell_type": "code",
     "collapsed": false,
     "input": [
      "from matplotlib import pyplot as plt\n",
      "import numpy as np\n",
      "\n",
      "fsize = 30\n",
      "\n",
      "with plt.xkcd():\n",
      "    fig = plt.figure()\n",
      "    ax = fig.add_subplot(1, 1, 1)\n",
      "    ax.spines['right'].set_color('none')\n",
      "    ax.spines['top'].set_color('none')\n",
      "    plt.xticks([])\n",
      "    plt.yticks([])\n",
      "    ax.set_ylim([-30, 10])\n",
      "\n",
      "    data = np.ones(100)\n",
      "    data[70:] -= np.arange(30)\n",
      "\n",
      "    plt.annotate(\n",
      "        'THE DAY I REALIZED\\nI COULD COOK BACON\\nWHENEVER I WANTED',\n",
      "        xy=(70, 1), arrowprops=dict(arrowstyle='->'), xytext=(15, -10),size=fsize)\n",
      "\n",
      "    plt.plot(data)\n",
      "\n",
      "    plt.xlabel('time', size=fsize)\n",
      "    plt.ylabel('my overall health', size=fsize)\n",
      "\n",
      "    fig = plt.figure()\n",
      "    ax = fig.add_subplot(1, 1, 1)\n",
      "    ax.bar([-0.125, 1.0-0.125], [0, 100], 0.25)\n",
      "    ax.spines['right'].set_color('none')\n",
      "    ax.spines['top'].set_color('none')\n",
      "    ax.xaxis.set_ticks_position('bottom')\n",
      "    ax.set_xticks([0, 1])\n",
      "    ax.set_xlim([-0.5, 1.5])\n",
      "    ax.set_ylim([0, 110])\n",
      "    ax.set_xticklabels(['CONFIRMED BY\\nEXPERIMENT', 'REFUTED BY\\nEXPERIMENT'],size=fsize)\n",
      "    plt.yticks([])\n",
      "\n",
      "    plt.title(\"CLAIMS OF SUPERNATURAL POWERS\",size=fsize)\n",
      "\n",
      "    plt.show()"
     ],
     "language": "python",
     "metadata": {
      "slideshow": {
       "slide_type": "slide"
      }
     },
     "outputs": []
    },
    {
     "cell_type": "markdown",
     "metadata": {
      "slideshow": {
       "slide_type": "slide"
      }
     },
     "source": [
      "## Symbolic math using SymPy\n",
      "\n",
      "* SymPy is a Python library for symbolic mathematics. \n",
      "* It aims to become a full-featured computer algebra system (CAS) while keeping the code as simple as possible in order to be comprehensible and easily extensible. \n",
      "* SymPy is written entirely in Python and does not require any external libraries.\n",
      "\n",
      "![](static/img/sympy.png)\n"
     ]
    },
    {
     "cell_type": "code",
     "collapsed": false,
     "input": [
      "from sympy import *\n",
      "init_printing(use_latex=True)\n",
      "from sympy import solve\n",
      "\n",
      "x = Symbol('x')\n",
      "y = Symbol('y')\n",
      "\n",
      "series(exp(x), x, 1, 5)"
     ],
     "language": "python",
     "metadata": {
      "slideshow": {
       "slide_type": "slide"
      }
     },
     "outputs": []
    },
    {
     "cell_type": "code",
     "collapsed": false,
     "input": [
      "eq = ((x+y)**2 * (x+1))\n",
      "\n",
      "eq\n"
     ],
     "language": "python",
     "metadata": {
      "slideshow": {
       "slide_type": "slide"
      }
     },
     "outputs": []
    },
    {
     "cell_type": "code",
     "collapsed": false,
     "input": [
      "solve(eq)"
     ],
     "language": "python",
     "metadata": {
      "slideshow": {
       "slide_type": "slide"
      }
     },
     "outputs": []
    },
    {
     "cell_type": "code",
     "collapsed": false,
     "input": [
      "a = 1/x + (x*sin(x) - 1)/x\n",
      "\n",
      "a"
     ],
     "language": "python",
     "metadata": {
      "slideshow": {
       "slide_type": "slide"
      }
     },
     "outputs": []
    },
    {
     "cell_type": "code",
     "collapsed": false,
     "input": [
      "\n",
      "simplify(a)"
     ],
     "language": "python",
     "metadata": {
      "slideshow": {
       "slide_type": "slide"
      }
     },
     "outputs": []
    },
    {
     "cell_type": "code",
     "collapsed": false,
     "input": [
      "integrate(x**2 * exp(x) * cos(x), x)"
     ],
     "language": "python",
     "metadata": {
      "slideshow": {
       "slide_type": "slide"
      }
     },
     "outputs": []
    },
    {
     "cell_type": "markdown",
     "metadata": {
      "slideshow": {
       "slide_type": "slide"
      }
     },
     "source": [
      "## Data Analysis Using the Pandas Library\n",
      "![](static/img/pandas.png)\n",
      "\n",
      "* pandas is a Python package providing fast, flexible, and expressive data structures designed to make working with \u201crelational\u201d or \u201clabeled\u201d data both easy and intuitive\n",
      "\n",
      "* The two primary data structures of pandas\n",
      " * Series (1-dimensional) and \n",
      " * DataFrame (2-dimensional) __Think Spreadhseet, Timeseries__\n",
      " \n",
      "Handle the vast majority of typical use cases in finance, statistics, social science, and many areas of engineering. \n",
      "\n",
      "* For R users, DataFrame provides everything that R\u2019s data.frame provides. \n",
      "* pandas is built on top of NumPy and is intended to integrate well within a scientific computing environment with many other 3rd party libraries.\n",
      "\n"
     ]
    },
    {
     "cell_type": "code",
     "collapsed": false,
     "input": [
      "from pandas import DataFrame, read_csv\n",
      "\n",
      "Cape_Weather = DataFrame( read_csv('static/data/CapeTown_2009_Temperatures.csv' ))\n",
      "\n",
      "Cape_Weather.head(10)"
     ],
     "language": "python",
     "metadata": {
      "slideshow": {
       "slide_type": "slide"
      }
     },
     "outputs": []
    },
    {
     "cell_type": "code",
     "collapsed": false,
     "input": [
      "#CustomPlot()\n",
      "figsize(22, 10)\n",
      "font_size = 24\n",
      "\n",
      "title('Cape Town Temparature(2009)',fontsize = font_size)\n",
      "xlabel('Day number',fontsize = font_size)\n",
      "ylabel(r'Temperature [$^\\circ C$] ',fontsize = font_size)\n",
      "\n",
      "Cape_Weather.high.plot()\n",
      "Cape_Weather.low.plot()\n",
      "show()"
     ],
     "language": "python",
     "metadata": {
      "slideshow": {
       "slide_type": "slide"
      }
     },
     "outputs": []
    },
    {
     "cell_type": "code",
     "collapsed": false,
     "input": [
      "#CustomPlot()\n",
      "figsize(22, 9)\n",
      "font_size = 24\n",
      "\n",
      "title( 'Mean solar radiation(horisontal plane)', fontsize=font_size)\n",
      "xlabel('Month Number', fontsize = font_size)\n",
      "ylabel(r'$MJ / day / m^2$',fontsize = font_size)\n",
      "\n",
      "Cape_Weather.radiation[0:11].plot()\n",
      "show()"
     ],
     "language": "python",
     "metadata": {
      "slideshow": {
       "slide_type": "slide"
      }
     },
     "outputs": []
    },
    {
     "cell_type": "code",
     "collapsed": false,
     "input": [
      "# lets look at a proxy for heating degree and cooling degree days\n",
      "\n",
      "level = 25\n",
      "\n",
      "print '>25 =', Cape_Weather[ Cape_Weather['high'] > level  ].count()['high']\n",
      "print '<=25 =', Cape_Weather[ Cape_Weather['high'] <= level ].count()['high']\n",
      "\n"
     ],
     "language": "python",
     "metadata": {
      "slideshow": {
       "slide_type": "slide"
      }
     },
     "outputs": []
    },
    {
     "cell_type": "code",
     "collapsed": false,
     "input": [
      "# Basic descriptive statistics\n",
      "print Cape_Weather.describe()"
     ],
     "language": "python",
     "metadata": {
      "slideshow": {
       "slide_type": "slide"
      }
     },
     "outputs": []
    },
    {
     "cell_type": "markdown",
     "metadata": {
      "slideshow": {
       "slide_type": "slide"
      }
     },
     "source": [
      "# Run a SQL query on a dataframe!\n",
      "\n",
      "* the pandasql module allows you to query the df as if it is a sqlite database"
     ]
    },
    {
     "cell_type": "code",
     "collapsed": false,
     "input": [
      "from pandasql import sqldf\n",
      "\n",
      "#helper function to extract df from the globals list\n",
      "pysqldf = lambda q: sqldf(q, globals())\n",
      "\n",
      "temp_range = pysqldf( ''' \n",
      "                         select                   \n",
      "                             count(high) Count,     \n",
      "                             (high-low) T_spread  \n",
      "                             \n",
      "                         from                         \n",
      "                            Cape_Weather  \n",
      "                            \n",
      "                         where                       \n",
      "                            high > 25 and   \n",
      "                            low < 10''' )              \n",
      "temp_range"
     ],
     "language": "python",
     "metadata": {
      "slideshow": {
       "slide_type": "slide"
      }
     },
     "outputs": []
    },
    {
     "cell_type": "code",
     "collapsed": false,
     "input": [
      "#CustomPlot()\n",
      "figsize(22, 9)\n",
      "font_size = 24\n",
      "title('Cape Town temperature distribution', fontsize=font_size)\n",
      "ylabel('Day count',fontsize = font_size)\n",
      "xlabel(r'Temperature [$^\\circ C $] ',fontsize = font_size)\n",
      "Cape_Weather['high'].hist(bins=10)\n",
      "show()"
     ],
     "language": "python",
     "metadata": {
      "slideshow": {
       "slide_type": "slide"
      }
     },
     "outputs": []
    },
    {
     "cell_type": "markdown",
     "metadata": {
      "slideshow": {
       "slide_type": "slide"
      }
     },
     "source": [
      "## Typesetting\n",
      "\n",
      "### LaTex\n",
      "* LaTex is rendered using the mathjax.js JavaScript library    "
     ]
    },
    {
     "cell_type": "code",
     "collapsed": false,
     "input": [
      "from IPython.display import Math\n",
      "\n",
      "Math(r'F(k) = \\int_{-\\infty}^{\\infty} f(x) e^{2\\pi i k} dx')"
     ],
     "language": "python",
     "metadata": {
      "slideshow": {
       "slide_type": "slide"
      }
     },
     "outputs": []
    },
    {
     "cell_type": "code",
     "collapsed": false,
     "input": [
      "from IPython.display import Latex\n",
      "Latex(r\"\"\"\\begin{eqnarray}\n",
      "\\nabla \\times \\vec{\\mathbf{B}} -\\, \\frac1c\\, \\frac{\\partial\\vec{\\mathbf{E}}}{\\partial t} & = \\frac{4\\pi}{c}\\vec{\\mathbf{j}} \\\\\n",
      "\\nabla \\cdot \\vec{\\mathbf{E}} & = 4 \\pi \\rho \\\\\n",
      "\\nabla \\times \\vec{\\mathbf{E}}\\, +\\, \\frac1c\\, \\frac{\\partial\\vec{\\mathbf{B}}}{\\partial t} & = \\vec{\\mathbf{0}} \\\\\n",
      "\\nabla \\cdot \\vec{\\mathbf{B}} & = 0 \n",
      "\\end{eqnarray}\"\"\")"
     ],
     "language": "python",
     "metadata": {
      "slideshow": {
       "slide_type": "slide"
      }
     },
     "outputs": []
    },
    {
     "cell_type": "markdown",
     "metadata": {
      "slideshow": {
       "slide_type": "slide"
      }
     },
     "source": [
      "## Saving a Gist\n",
      "* It is possible to save specific lines of code to a GitHub gist. \n",
      "* This is achieved with the `%pastebin` magic as demonstrated below. \n",
      "* This makes sharing code easy!"
     ]
    },
    {
     "cell_type": "code",
     "collapsed": false,
     "input": [
      "%pastebin \"cell one\" 0-10"
     ],
     "language": "python",
     "metadata": {
      "slideshow": {
       "slide_type": "slide"
      }
     },
     "outputs": []
    },
    {
     "cell_type": "markdown",
     "metadata": {
      "slideshow": {
       "slide_type": "slide"
      }
     },
     "source": [
      "## Connect to this kernel remotely\n",
      "* Using the _%connect_info_ magic you can obtain the connection info to connect to this workbook from another IPython console or qtconsole using :\n",
      "\n",
      " * *_ipython qtconsole --existing_*\n",
      "\n",
      "\n",
      "* Using the port, signature and key you can also connect to a remote IPython kernel via SSH"
     ]
    },
    {
     "cell_type": "code",
     "collapsed": false,
     "input": [
      "%connect_info\n",
      "\n",
      "# lets connect to this kernel using the command \"ipython qtconsole --existing\""
     ],
     "language": "python",
     "metadata": {
      "slideshow": {
       "slide_type": "slide"
      }
     },
     "outputs": []
    },
    {
     "cell_type": "markdown",
     "metadata": {
      "slideshow": {
       "slide_type": "slide"
      }
     },
     "source": [
      "# Adding Interactivity\n",
      "* IPython includes an architecture for interactive widgets \n",
      "* Ties together Python code running in the kernel and JavaScript/HTML/CSS in the browser\n",
      "* These widgets enable users to explore their code and data interactively"
     ]
    },
    {
     "cell_type": "code",
     "collapsed": false,
     "input": [
      "from IPython.html.widgets import interact\n",
      "import matplotlib.pyplot as plt\n",
      "import networkx as nx\n",
      "\n",
      "# wrap a few graph generation functions so they have the same signature\n",
      "\n",
      "def random_lobster(n, m, k, p):\n",
      "    return nx.random_lobster(n, p, p / m)\n",
      "\n",
      "def powerlaw_cluster(n, m, k, p):\n",
      "    return nx.powerlaw_cluster_graph(n, m, p)\n",
      "\n",
      "def erdos_renyi(n, m, k, p):\n",
      "    return nx.erdos_renyi_graph(n, p)\n",
      "\n",
      "def newman_watts_strogatz(n, m, k, p):\n",
      "    return nx.newman_watts_strogatz_graph(n, k, p)\n",
      "\n",
      "def plot_random_graph(n, m, k, p, generator):\n",
      "    g = generator(n, m, k, p)\n",
      "    nx.draw(g)\n",
      "    plt.show()"
     ],
     "language": "python",
     "metadata": {
      "slideshow": {
       "slide_type": "slide"
      }
     },
     "outputs": []
    },
    {
     "cell_type": "code",
     "collapsed": false,
     "input": [
      "#static\n",
      "plot_random_graph( 18, 5, 5, 0.449, newman_watts_strogatz)"
     ],
     "language": "python",
     "metadata": {
      "slideshow": {
       "slide_type": "slide"
      }
     },
     "outputs": []
    },
    {
     "cell_type": "code",
     "collapsed": false,
     "input": [
      "interact(\n",
      "        plot_random_graph, n=(2,30), m=(1,10), k=(1,10), p=(0.0, 1.0, 0.001),\n",
      "        generator={'lobster': random_lobster,\n",
      "                   'power law': powerlaw_cluster,\n",
      "                   'Newman-Watts-Strogatz': newman_watts_strogatz,\n",
      "                   u'Erd\u0151s-R\u00e9nyi': erdos_renyi,\n",
      "                   });\n"
     ],
     "language": "python",
     "metadata": {
      "slideshow": {
       "slide_type": "slide"
      }
     },
     "outputs": []
    },
    {
     "cell_type": "code",
     "collapsed": false,
     "input": [
      "from IPython.html.widgets import interact\n",
      "import matplotlib.pyplot as plt\n",
      "import numpy as np\n",
      "\n",
      "%matplotlib inline\n",
      "\n",
      "np.random.seed(0)\n",
      "x, y = np.random.normal(size=(2, 100))\n",
      "s, c = np.random.random(size=(2, 100))\n",
      "    \n",
      "def draw_scatter(size=100, cmap='jet', alpha=1.0):\n",
      "    fig, ax = plt.subplots(figsize=(20, 8))\n",
      "    points = ax.scatter(x, y, s=size*s, c=c, alpha=alpha, cmap=cmap)\n",
      "    fig.colorbar(points, ax=ax)\n",
      "    return fig\n",
      "\n",
      "colormaps = sorted(m for m in plt.cm.datad if not m.endswith(\"_r\"))"
     ],
     "language": "python",
     "metadata": {
      "slideshow": {
       "slide_type": "slide"
      }
     },
     "outputs": []
    },
    {
     "cell_type": "code",
     "collapsed": false,
     "input": [
      "interact(\n",
      "            draw_scatter, size=[0, 2000], alpha=[0.0, 1.0], cmap=colormaps\n",
      "        );"
     ],
     "language": "python",
     "metadata": {
      "slideshow": {
       "slide_type": "slide"
      }
     },
     "outputs": []
    },
    {
     "cell_type": "markdown",
     "metadata": {
      "slideshow": {
       "slide_type": "skip"
      }
     },
     "source": [
      "# Exploring Beat Frequencies using the Audio Object\n",
      "* This example uses the Audio object and Matplotlib to explore the phenomenon of beat frequencies."
     ]
    },
    {
     "cell_type": "code",
     "collapsed": false,
     "input": [
      "%matplotlib inline\n",
      "import matplotlib.pyplot as plt\n",
      "import numpy as np\n",
      "\n",
      "from IPython.html.widgets import interactive\n",
      "from IPython.display import Audio, display\n",
      "import numpy as np\n",
      "\n",
      "def beat_freq(f1=220.0, f2=224.0):\n",
      "    max_time = 3\n",
      "    rate = 8000\n",
      "    times = np.linspace(0,max_time,rate*max_time)\n",
      "    signal = np.sin(2*np.pi*f1*times) + np.sin(2*np.pi*f2*times)\n",
      "    print(f1, f2, abs(f1-f2))\n",
      "    display(Audio(data=signal, rate=rate))\n",
      "    return signal"
     ],
     "language": "python",
     "metadata": {
      "slideshow": {
       "slide_type": "skip"
      }
     },
     "outputs": []
    },
    {
     "cell_type": "code",
     "collapsed": false,
     "input": [
      "\n",
      "v = interactive(beat_freq, f1=(200.0,300.0), f2=(200.0,300.0))\n",
      "display(v)"
     ],
     "language": "python",
     "metadata": {
      "slideshow": {
       "slide_type": "skip"
      }
     },
     "outputs": []
    },
    {
     "cell_type": "markdown",
     "metadata": {
      "slideshow": {
       "slide_type": "slide"
      }
     },
     "source": [
      "## Lorenz System of Differential Equations\n",
      "\n",
      "* Also example to link to other notebooks\n",
      "* Click [Lorenz Differential Equations](static/notebook/LDE.ipynb)"
     ]
    },
    {
     "cell_type": "markdown",
     "metadata": {
      "slideshow": {
       "slide_type": "slide"
      }
     },
     "source": [
      "# Machine Learning with Sci-Kit Learn\n",
      "\n",
      "![](static/img/scikit.jpg)"
     ]
    },
    {
     "cell_type": "code",
     "collapsed": false,
     "input": [
      "solve = True\n",
      "\n",
      "import pylab as pl\n",
      "import numpy as np\n",
      "\n",
      "from sklearn.ensemble import AdaBoostClassifier\n",
      "from sklearn.tree import DecisionTreeClassifier\n",
      "from sklearn.datasets import make_gaussian_quantiles\n",
      "\n",
      "\n",
      "# Construct dataset\n",
      "X1, y1 = make_gaussian_quantiles(cov=2.,\n",
      "                                 n_samples=200, n_features=2,\n",
      "                                 n_classes=2, random_state=1)\n",
      "X2, y2 = make_gaussian_quantiles(mean=(3, 3), cov=1.5,\n",
      "                                 n_samples=300, n_features=2,\n",
      "                                 n_classes=2, random_state=1)\n",
      "#Training Samples\n",
      "X = np.concatenate((X1, X2))\n",
      "\n",
      "#Training Target\n",
      "y = np.concatenate((y1, - y2 + 1))\n",
      "\n",
      "# Create and fit an AdaBoosted decision tree\n",
      "bdt = AdaBoostClassifier(\n",
      "                          DecisionTreeClassifier( max_depth=1),\n",
      "                                                  algorithm=\"SAMME\",\n",
      "                                                  n_estimators=200\n",
      "                        )\n",
      "\n",
      "bdt.fit(X, y)\n",
      "\n",
      "plot_colors = \"br\"\n",
      "plot_step = 0.05\n",
      "class_names = \"AB\"\n",
      "\n",
      "pl.figure(figsize=(20, 10))\n",
      "\n",
      "x_min, x_max = X[:, 0].min() - 1, X[:, 0].max() + 1\n",
      "y_min, y_max = X[:, 1].min() - 1, X[:, 1].max() + 1\n",
      "\n",
      "if solve:\n",
      "    # Plot the decision boundaries\n",
      "    pl.subplot(121)\n",
      "    \n",
      "    xx, yy = np.meshgrid(np.arange(x_min, x_max, plot_step),\n",
      "                         np.arange(y_min, y_max, plot_step))\n",
      "\n",
      "    Z = bdt.predict(np.c_[xx.ravel(), yy.ravel()])\n",
      "\n",
      "    Z = Z.reshape(xx.shape)\n",
      "    cs = pl.contourf(xx, yy, Z, cmap=pl.cm.Paired)\n",
      "    pl.axis(\"tight\")\n",
      "\n",
      "\n",
      "# Plot the training points\n",
      "for i, n, c in zip(range(2), class_names, plot_colors):\n",
      "    idx = np.where(y == i)\n",
      "    pl.scatter(X[idx, 0], X[idx, 1],\n",
      "               c=c, cmap=pl.cm.Paired,\n",
      "               label=\"Class %s\" % n, s=100)\n",
      "pl.xlim(x_min, x_max)\n",
      "pl.ylim(y_min, y_max)\n",
      "pl.legend(loc='upper right')\n",
      "pl.xlabel(\"Decision Boundary\",size = 20)\n",
      "\n"
     ],
     "language": "python",
     "metadata": {
      "slideshow": {
       "slide_type": "slide"
      }
     },
     "outputs": []
    },
    {
     "cell_type": "markdown",
     "metadata": {
      "slideshow": {
       "slide_type": "slide"
      }
     },
     "source": [
      "## Publishing your Work\n",
      "* Ability to convert an .ipynb notebook document file into various static formats.\n",
      "\n",
      "* Currently, nbconvert is provided as a command line tool, run as a script using IPython.\n",
      "\n",
      "\n",
      "This page is converted and published to the following formats using this tool:\n",
      "\n",
      "* HTML\n",
      "\n",
      "* PDF (the PDF is created using wkhtml2pdf that takes the html file as an input)\n",
      "\n",
      "* LATEX\n",
      "\n",
      "* Reveal.js slideshow\n"
     ]
    },
    {
     "cell_type": "code",
     "collapsed": false,
     "input": [
      "!ipython nbconvert pyconza_ipython.ipynb --to slides --post serve\n"
     ],
     "language": "python",
     "metadata": {
      "slideshow": {
       "slide_type": "slide"
      }
     },
     "outputs": []
    },
    {
     "cell_type": "code",
     "collapsed": false,
     "input": [
      "!ipython nbconvert pyconza_ipython.ipynb --to html --post serve"
     ],
     "language": "python",
     "metadata": {
      "slideshow": {
       "slide_type": "slide"
      }
     },
     "outputs": []
    },
    {
     "cell_type": "markdown",
     "metadata": {
      "slideshow": {
       "slide_type": "slide"
      }
     },
     "source": [
      "# Writing Books!\n",
      "\n",
      "* Need internet connection but check out \n",
      "* [Probabilistic-Programming-and-Bayesian-Methods-for-Hackers](http://camdavidsonpilon.github.io/Probabilistic-Programming-and-Bayesian-Methods-for-Hackers/)"
     ]
    },
    {
     "cell_type": "markdown",
     "metadata": {
      "slideshow": {
       "slide_type": "slide"
      }
     },
     "source": [
      "# THANK YOU FOR YOUR TIME\n",
      "\n",
      "* Find all of this - http://bit.ly/pyconza-notebook\n",
      "\n",
      "* Join the Gauteng Python Users Group - GPUG \n",
      "* ask @tooblippe, @wasbeer\n",
      "    * meetup.com http://www.meetup.com/Gauteng-Python-Users-Group/\n",
      "    * Google groups #gpugsa\n",
      "    * website - http://gautengpug.github.io/\n",
      "    * github - http://github.com/gautengpug\n",
      "* Python, DataAnalysis, Python for kids - check out http://www.insightstack.co.za\n",
      "   "
     ]
    },
    {
     "cell_type": "code",
     "collapsed": false,
     "input": [],
     "language": "python",
     "metadata": {},
     "outputs": []
    },
    {
     "cell_type": "code",
     "collapsed": false,
     "input": [],
     "language": "python",
     "metadata": {},
     "outputs": []
    }
   ],
   "metadata": {}
  }
 ]
}